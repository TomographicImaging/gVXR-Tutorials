{
 "cells": [
  {
   "cell_type": "markdown",
   "id": "c81ec0d9-e184-4185-8e63-0b9ec47cf274",
   "metadata": {
    "id": "4DrP1n1sjg-e"
   },
   "source": [
    "<a href=\"https://colab.research.google.com/github/TomographicImaging/gVXR-Tutorials/blob/main/notebooks/multi_material-lungman_phantom.ipynb\" target=\"_parent\"><img src=\"https://colab.research.google.com/assets/colab-badge.svg\" alt=\"Open In Colab\"/></a>"
   ]
  },
  {
   "cell_type": "code",
   "execution_count": null,
   "id": "e0fe41a6-8340-40b7-b4a5-a239daab3fb7",
   "metadata": {
    "id": "be4b4b61-7abb-440c-9605-486bce082901"
   },
   "outputs": [],
   "source": [
    "# -*- coding: utf-8 -*-\n",
    "#\n",
    "#  Copyright 2024 United Kingdom Research and Innovation\n",
    "#\n",
    "#  Licensed under the Apache License, Version 2.0 (the \"License\");\n",
    "#  you may not use this file except in compliance with the License.\n",
    "#  You may obtain a copy of the License at\n",
    "#\n",
    "#      http://www.apache.org/licenses/LICENSE-2.0\n",
    "#\n",
    "#  Unless required by applicable law or agreed to in writing, software\n",
    "#  distributed under the License is distributed on an \"AS IS\" BASIS,\n",
    "#  WITHOUT WARRANTIES OR CONDITIONS OF ANY KIND, either express or implied.\n",
    "#  See the License for the specific language governing permissions and\n",
    "#  limitations under the License.\n",
    "#\n",
    "#   Authored by:    Franck Vidal (UKRI-STFC)"
   ]
  },
  {
   "cell_type": "markdown",
   "id": "4ffcfed3-2145-4ba8-8715-17327e58b0d2",
   "metadata": {
    "id": "LitIbS2Yjg-g",
    "tags": []
   },
   "source": [
    "![gVXR](https://github.com/TomographicImaging/gVXR-Tutorials/blob/main/img/Logo-transparent-small.png?raw=1)\n",
    "\n",
    "# Multi-material example: Lungman phantom\n",
    "\n",
    "\n",
    "<div class=\"alert alert-block alert-warning\">\n",
    "    <b>Note:</b> Make sure the Python packages are already installed. See <a href=\"../README.md\">README.md</a> in the root directory of the repository. If you are running this notebook from Google Colab, please run the cell below to install the required packages.\n",
    "</div>"
   ]
  },
  {
   "cell_type": "code",
   "execution_count": null,
   "id": "1e174bf3-e7a7-4df9-a0ad-75baccc01d4c",
   "metadata": {
    "colab": {
     "base_uri": "https://localhost:8080/"
    },
    "id": "bSYJhBjCjg-h",
    "outputId": "443ab78d-3838-498c-dfe5-addd6f3cf186"
   },
   "outputs": [],
   "source": [
    "import sys\n",
    "IN_COLAB = 'google.colab' in sys.modules\n",
    "\n",
    "if IN_COLAB:\n",
    "    !pip install gvxr"
   ]
  },
  {
   "cell_type": "markdown",
   "id": "1961536e-deac-495f-8459-433f36efe3cd",
   "metadata": {
    "id": "77W1AXNQjg-h"
   },
   "source": [
    "# Aims of this session\n",
    "\n",
    "1. Create our first X-ray simulation, step-by-step;\n",
    "2. Save our X-ray image in a file format that preserves the original dynamic range;\n",
    "3. Visualise the results with 3 different look-up tables;\n",
    "4. Visualise the 3D environment.\n",
    "\n",
    "![](https://github.com/TomographicImaging/gVXR-Tutorials/blob/main/img/02-visualisation.png?raw=1)"
   ]
  },
  {
   "cell_type": "markdown",
   "id": "8603e1e0-c1a8-4267-b421-07fd986affec",
   "metadata": {
    "id": "kieFDG2djg-h",
    "tags": []
   },
   "source": [
    "# Main steps\n",
    "\n",
    "There are 6 main steps to simulate an X-ray image:\n",
    "\n",
    "1. Create a renderer (OpenGL context)\n",
    "2. Set the X-ray source\n",
    "3. Set the Spectrum\n",
    "4. Set the Detector\n",
    "5. Set the Sample\n",
    "6. Compute the corresponding X-ray image.\n",
    "\n",
    "![](https://github.com/TomographicImaging/gVXR-Tutorials/blob/main/img/dragon2.jpg?raw=1)"
   ]
  },
  {
   "cell_type": "markdown",
   "id": "ea0ad5b2-dab2-4df9-9128-5d1292dc4bb7",
   "metadata": {
    "id": "rxBXwyIbjg-i"
   },
   "source": [
    "# Cheat Sheet\n",
    "\n",
    "## Simulation parameters\n",
    "\n",
    "| Parameters | Values | Units | Function call |\n",
    "|------------|--------|-------|---------------|\n",
    "| Source position | [-40, 0, 0] | cm | `gvxr.setSourcePosition(-40.0, 0.0, 0.0, \"cm\")` |\n",
    "| Source type (beam shape) | Point source (cone beam) | | `gvxr.usePointSource()` |\n",
    "| Beam spectrum | Monochromatic: 1,000 photons of 80 | keV | `gvxr.setMonoChromatic(80.0, \"keV\", 1000)` or |\n",
    "| | | MeV | `gvxr.setMonoChromatic(0.08, \"MeV\", 1000)` |\n",
    "| Detector position | [10, 0, 0] | cm | `gvxr.setDetectorPosition(10.0, 0.0, 0.0, \"cm\")` |\n",
    "| Detector orientation | [0, 0, -1] |  | `gvxr.setDetectorUpVector(0, 0, -1)` |\n",
    "| Detector resolution | 640 &times; 320 | pixels | `gvxr.setDetectorNumberOfPixels(640, 320)` |\n",
    "| Pixel spacing | 0.5 &times; 0.5 | mm | `gvxr.setDetectorPixelSize(0.5, 0.5, \"mm\")` |\n",
    "| Sample | STL file of the Welsh dragon | mm | `gvxr.loadMeshFile(string_ID, fname, \"mm\")` |\n",
    "| Material composition | Ti90Al6V4 alloy |  | `gvxr.setMixture(\"Dragon\", \"Ti90Al6V4\")` or |\n",
    "| | | | `gvxr.setMixture(\"Dragon\", [22, 13, 23], [0.9, 0.06, 0.04])` |\n",
    "| Material density | 4.43 | g/cm3 | `gvxr.setDensity(\"Dragon\", 4.43, \"g/cm3\")` or |\n",
    "| | | g.cm-3 | `gvxr.setDensity(\"Dragon\", 4.43, \"g.cm-3\")` |\n",
    "\n",
    "## Other gVXR's function used\n",
    "\n",
    "| Functions | Descriptions |\n",
    "|-----------|--------------|\n",
    "| `gvxr.createOpenGLContext` | Create a simulation environment automatically. You must call either `gvxr.createOpenGLContext()` or `gvxr.createNewContext()` before any other functions from gVXR. |\n",
    "| `gvxr.moveToCentre` | Move a polygon mesh to the centre. |\n",
    "| `gvxr.setElement` | Set the chemical element (e.g. iron) corresponding to the material properties of a polygon mesh. |\n",
    "| `gvxr.setCompound` | Set the compound (e.g. water) corresponding to the material properties of a polygon mesh. |\n",
    "| `gvxr.computeXRayImage` | Compute the X-ray projection corresponding to the environment that has previously been set. |\n",
    "| `gvxr.displayScene` | Update the visualisation window. It works with both the interactive window and offscreen rendering. |\n",
    "| `gvxr.saveLastXRayImage` | Save the last computed X-ray image in a file (e.g. TIFF, MHA, MHD/RAW) and store the data using single-precision floating-point numbers. |\n",
    "| `gvxr.saveLastLBuffer` | Save the last computed path length in a file (e.g. TIFF, MHA, MHD/RAW) and store the data using single-precision floating-point numbers. The red channel is the path length; the green and blue channels can be used to detect errors (0.0 values mean no error). |\n",
    "| `gvxr.setColour` | Change the colour of an object in the 3D visualisation. |\n",
    "| `gvxr.setWindowBackGroundColour` | Change the background colour of the 3D visualisation. |\n",
    "| `gvxr.takeScreenshot` | Take the screenshot of the current state of the 3D visualisation. |\n",
    "| `gvxr.renderLoop` | Activate the interactive mode of the 3D visualisation. |\n",
    "| `gvxr.terminate` | Close and destroy all the windows and simulation contexts that have been created. No further gVXR's function should be called after `gvxr.terminate`. |"
   ]
  },
  {
   "cell_type": "markdown",
   "id": "d4dea73c-4c57-4171-93d0-58f003b9b606",
   "metadata": {
    "id": "98anuGe-jg-i"
   },
   "source": [
    "## Import packages\n",
    "\n",
    "- `os` to create the output directory if needed\n",
    "- `matplotlib` to show 2D images\n",
    "- `tifffile` to write TIFF files\n",
    "- `gvxr` to simulate X-ray images"
   ]
  },
  {
   "cell_type": "code",
   "execution_count": null,
   "id": "00443714-17d0-427f-9b11-e073415ae56a",
   "metadata": {},
   "outputs": [],
   "source": [
    "import os # Create the output directory if necessary\n",
    "import numpy as np # Who does not use Numpy?\n",
    "\n",
    "import matplotlib # To plot images\n",
    "import matplotlib.pyplot as plt # Plotting\n",
    "from matplotlib.colors import LogNorm # Look up table\n",
    "from matplotlib.colors import PowerNorm # Look up table\n",
    "\n",
    "font = {'family' : 'serif',\n",
    "         'size'   : 15\n",
    "       }\n",
    "matplotlib.rc('font', **font)\n",
    "\n",
    "# Uncomment the line below to use LaTeX fonts\n",
    "# matplotlib.rc('text', usetex=True)\n",
    "\n",
    "from tifffile import imwrite # Write TIFF files\n",
    "\n",
    "import urllib.request\n",
    "import progressbar\n",
    "\n",
    "import zipfile\n",
    "\n",
    "from gvxrPython3 import gvxr\n",
    "from gvxrPython3.utils import visualise"
   ]
  },
  {
   "cell_type": "code",
   "execution_count": null,
   "id": "8c5f1f8e-7b10-4f8a-a733-b1fb78d3a9f0",
   "metadata": {},
   "outputs": [],
   "source": [
    "output_path = \"output_data/multi_material-lungman_phantom\"\n",
    "if not os.path.exists(output_path):\n",
    "    os.makedirs(output_path);\n",
    "\n",
    "lungman_path = os.path.join(\"output_data\", \"lungman\");\n",
    "mesh_path = os.path.join(lungman_path, \"MESHES\");\n",
    "if not os.path.exists(mesh_path):\n",
    "    os.makedirs(mesh_path);    "
   ]
  },
  {
   "cell_type": "markdown",
   "id": "10b6b99a-8e4f-430a-b55b-562806a87401",
   "metadata": {},
   "source": [
    "Download the data from [Zenodo](https://zenodo.org/records/10782644)."
   ]
  },
  {
   "cell_type": "code",
   "execution_count": null,
   "id": "0094acd7-bd53-4c8d-9526-41f17a1c3a23",
   "metadata": {},
   "outputs": [],
   "source": [
    "zip_file_url = \"https://zenodo.org/records/10782644/files/lungman_data.zip?download=1\";\n",
    "\n",
    "zip_fname = os.path.join(lungman_path, \"lungman_data.zip\");\n",
    "\n",
    "if not os.path.exists(zip_fname):\n",
    "    pbar = None;\n",
    "    def show_progress(block_num, block_size, total_size):\n",
    "        global pbar\n",
    "        if pbar is None:\n",
    "            pbar = progressbar.ProgressBar(maxval=total_size)\n",
    "            pbar.start()\n",
    "    \n",
    "        downloaded = block_num * block_size\n",
    "        if downloaded < total_size:\n",
    "            pbar.update(downloaded)\n",
    "        else:\n",
    "            pbar.finish()\n",
    "            pbar = None\n",
    "            \n",
    "    print(\"Download the file (%s) from %s\\n\" % (zip_fname, zip_file_url))\n",
    "    urllib.request.urlretrieve(zip_file_url, zip_fname, show_progress)"
   ]
  },
  {
   "cell_type": "markdown",
   "id": "b0607065-f6c8-4be2-a2a8-a25c754bdbcc",
   "metadata": {},
   "source": [
    "Extract the STL files from the ZIP file."
   ]
  },
  {
   "cell_type": "code",
   "execution_count": null,
   "id": "92a7f679-0ebf-43fd-86d8-ad85ac10e163",
   "metadata": {},
   "outputs": [],
   "source": [
    "stl_fname_set = [];\n",
    "\n",
    "with zipfile.ZipFile(zip_fname) as z:\n",
    "    for fname in z.namelist():\n",
    "        if \".stl\" in fname:\n",
    "            stl_fname = os.path.join(lungman_path, fname);\n",
    "            stl_fname_set.append(stl_fname);\n",
    "            \n",
    "            if not os.path.exists(stl_fname):\n",
    "                print(\"Extract %s\" % stl_fname);\n",
    "                with open(stl_fname, 'wb') as f:\n",
    "                    f.write(z.read(fname));"
   ]
  },
  {
   "cell_type": "markdown",
   "id": "b724fb07-e8d2-4cfa-aa55-accbe431c6cc",
   "metadata": {
    "id": "cvuPTNdejg-k"
   },
   "source": [
    "## 1. Create an OpenGL context\n",
    "\n",
    "The first step is to create the simulation environment, known here as \"OpenGL context\".\n",
    "`createOpenGLContext` will try to find the most suitable environment possible regardless of the operating system. This is an alternative function to `gvxr.createNewContext` used in [test_installation.ipynb](test_installation.ipynb)."
   ]
  },
  {
   "cell_type": "code",
   "execution_count": null,
   "id": "0f64449d-55fc-4132-a843-d4a1d0394c76",
   "metadata": {
    "colab": {
     "base_uri": "https://localhost:8080/"
    },
    "id": "O3l2mW4Fjg-k",
    "outputId": "d420b660-1997-460e-ecc0-45677479141d"
   },
   "outputs": [],
   "source": [
    "# Create an OpenGL context\n",
    "print(\"Create an OpenGL context\");\n",
    "gvxr.createOpenGLContext();"
   ]
  },
  {
   "cell_type": "markdown",
   "id": "51cc30fb-5a45-490d-992f-9a10561a9f49",
   "metadata": {
    "id": "TGJJ-VAUjg-k"
   },
   "source": [
    "## 2. Set the X-ray source\n",
    "\n",
    "We must set it's possition and beam shape."
   ]
  },
  {
   "cell_type": "code",
   "execution_count": null,
   "id": "15f69961-831e-4feb-9d67-f1777e76c49a",
   "metadata": {
    "colab": {
     "base_uri": "https://localhost:8080/"
    },
    "id": "pc9fhhNojg-k",
    "outputId": "a745ddab-caa6-40bd-a8c9-2815b3452879"
   },
   "outputs": [],
   "source": [
    "# Create a source\n",
    "print(\"Set up the beam\");\n",
    "gvxr.setSourcePosition(0.0, -80.0, 0.0, \"cm\");\n",
    "gvxr.usePointSource();\n",
    "#  For a parallel source, use gvxr.useParallelBeam();"
   ]
  },
  {
   "cell_type": "markdown",
   "id": "9d9305d9-35f5-4f89-9656-c25e26c97971",
   "metadata": {
    "id": "faqHVUZDjg-l"
   },
   "source": [
    "## 3. Set the Spectrum\n",
    "\n",
    "We define here the number of photons and their kinetic energy."
   ]
  },
  {
   "cell_type": "code",
   "execution_count": null,
   "id": "2cfca6e8-f695-46ef-84ea-83ceb454b11c",
   "metadata": {
    "id": "tA4L8T8Njg-l"
   },
   "outputs": [],
   "source": [
    "# Set its spectrum, here a monochromatic beam\n",
    "# 1000 photons of 80 keV (i.e. 0.08 MeV) per ray\n",
    "gvxr.setMonoChromatic(0.08, \"MeV\", 1000);\n",
    "# The following is equivalent: gvxr.setMonoChromatic(80, \"keV\", 1000);"
   ]
  },
  {
   "cell_type": "markdown",
   "id": "6ffad669-2913-4ffe-84a5-620f45d295a4",
   "metadata": {
    "id": "ijli6jrCjg-l"
   },
   "source": [
    "## 4. Set the Detector\n",
    "\n",
    "A detector is defined by its position, orientation, pixel resolution and the space between the centre of two consecutive pixels along its two axes."
   ]
  },
  {
   "cell_type": "code",
   "execution_count": null,
   "id": "aef7bdff-7b9b-495a-96b8-200733bf9108",
   "metadata": {
    "colab": {
     "base_uri": "https://localhost:8080/"
    },
    "id": "ntxrdc-4jg-l",
    "outputId": "f3bad6c0-7b8d-4944-c5ca-591bf103bbbe"
   },
   "outputs": [],
   "source": [
    "# Set up the detector\n",
    "print(\"Set up the detector\");\n",
    "gvxr.setDetectorPosition(0.0, 30.0, 0.0, \"cm\");\n",
    "gvxr.setDetectorUpVector(0, 0, 1);\n",
    "gvxr.setDetectorNumberOfPixels(2000, 2000);\n",
    "gvxr.setDetectorPixelSize(0.25, 0.25, \"mm\");"
   ]
  },
  {
   "cell_type": "markdown",
   "id": "0ab23d92-866e-4ecb-b896-277b85dbfdf7",
   "metadata": {
    "id": "kK3gju1xjg-m"
   },
   "source": [
    "## 5. Set the Sample\n",
    "\n",
    "A sample is define by its geometry (surface) and material composition. Note that you can transform (translate, scale and rotate) a sample."
   ]
  },
  {
   "cell_type": "code",
   "execution_count": null,
   "id": "d965accd-4d12-42e6-9c83-1ae458ddf22a",
   "metadata": {},
   "outputs": [],
   "source": [
    "gvxr.removePolygonMeshesFromXRayRenderer();\n",
    "\n",
    "geometry_set = {\n",
    "    \"bronchioles\": {\"HU\": -419.57144, \"Colour\" : [0, 240, 240, 0.08]},\n",
    "    \"bronchus\": {\"HU\": -40.36795, \"Colour\" : [0, 62, 186, 0.4]},\n",
    "    \"trachea\": {\"HU\": -914.32916, \"Colour\" : [170, 85, 255, 0.4]},\n",
    "    \"diaphram\": {\"HU\": -12.778751, \"Colour\" : [255, 85, 127, 1]},\n",
    "    \"skin\": {\"HU\": -12.121676, \"Colour\" : [125, 125, 125, 0.17]},\n",
    "    \"heart\": {\"HU\": 28.384626, \"Colour\" : [255, 0, 0, 1]},\n",
    "    \"sheets_low\": {\"HU\": -158.2706, \"Colour\" : [193, 193, 193, 1]},\n",
    "    \"sheets_med\": {\"HU\": 203.39578, \"Colour\" : [193, 193, 193, 1]},\n",
    "    \"sheets_high\": {\"HU\": 324.9135, \"Colour\" : [193, 193, 193, 1]},\n",
    "    \"tumours_630HU\": {\"HU\": -658.61346, \"Colour\" : [138, 0, 0, 1]},\n",
    "    \"tumours_100HU\": {\"HU\": 83.32481, \"Colour\" : [255, 85, 0, 1]},\n",
    "    \"spine-hard-650\": {\"HU\": 857.8602, \"Colour\" : [255, 255, 127, 1]},\n",
    "    \"spine-soft-650\": {\"HU\": 375.58865, \"Colour\" : [255, 255, 127, 1]},\n",
    "    \"scaps-hard-550\": {\"HU\": 709.09717, \"Colour\" : [255, 255, 127, 1]},\n",
    "    \"scaps-soft-550\": {\"HU\": 372.82138, \"Colour\" : [255, 255, 127, 1]},\n",
    "    \"sternum-hard-550\": {\"HU\": 789.6037, \"Colour\" : [255, 255, 127, 1]},\n",
    "    \"sternum-soft-550\": {\"HU\": 378.79736, \"Colour\" : [255, 255, 127, 1]},\n",
    "    \"clavicle-hard-700\": {\"HU\": 778.28, \"Colour\" : [255, 255, 127, 1]},\n",
    "    \"clavicle-soft-700\": {\"HU\": 261.89047, \"Colour\" : [255, 255, 127, 1]},\n",
    "}\n",
    "\n",
    "for label in geometry_set:\n",
    "    if \"sheet\" not in label:\n",
    "        gvxr.loadMeshFile(label, os.path.join(mesh_path, label + \".stl\"), \"mm\");\n",
    "        gvxr.setHounsfieldUnit(label, round(geometry_set[label][\"HU\"]));\n",
    "        gvxr.setColour(label,\n",
    "            geometry_set[label][\"Colour\"][0] / 255.0,\n",
    "            geometry_set[label][\"Colour\"][1] / 255.0,\n",
    "            geometry_set[label][\"Colour\"][0] / 255.0,\n",
    "            geometry_set[label][\"Colour\"][3]);"
   ]
  },
  {
   "cell_type": "markdown",
   "id": "318ccf85-51b9-4df4-9b3c-384c362bf341",
   "metadata": {
    "id": "FWhKJqMBjg-n"
   },
   "source": [
    "## 6. Compute the corresponding X-ray image.\n",
    "\n",
    "It is possible to compute, retrieve and save an X-ray image as well as the path length of X-ray through an object."
   ]
  },
  {
   "cell_type": "code",
   "execution_count": null,
   "id": "b2f4d452-fdea-45ac-a46b-e2fcb410a7b1",
   "metadata": {
    "colab": {
     "base_uri": "https://localhost:8080/"
    },
    "id": "JJzNcr72jg-n",
    "outputId": "f5c3a00b-a490-4cc2-e27f-8bb705fe355b"
   },
   "outputs": [],
   "source": [
    "# Compute an X-ray image\n",
    "# We convert the array in a Numpy structure and store the data using single-precision floating-point numbers.\n",
    "print(\"Compute an X-ray image\");\n",
    "x_ray_image = gvxr.computeXRayImage();\n",
    "\n",
    "# Update the visualisation window\n",
    "gvxr.displayScene();"
   ]
  },
  {
   "cell_type": "code",
   "execution_count": null,
   "id": "c68b5d45-aae9-4955-b6bc-9f42c6aaa699",
   "metadata": {
    "id": "SyZUOiV0jg-n"
   },
   "outputs": [],
   "source": [
    "# Save the X-ray image in a TIFF file and store the data using single-precision floating-point numbers.\n",
    "gvxr.saveLastXRayImage(os.path.join(output_path, 'raw_x-ray_image-01.tif'));\n",
    "\n",
    "# The line below will also works\n",
    "imwrite(os.path.join(output_path, 'raw_x-ray_image-02.tif'), x_ray_image);\n",
    "\n",
    "# Save the L-buffer\n",
    "gvxr.saveLastLBuffer(os.path.join(output_path, 'path_length-dragon.tif'));"
   ]
  },
  {
   "cell_type": "markdown",
   "id": "79f657ce-5159-4168-9642-c19e47f16ded",
   "metadata": {
    "id": "yMOMh4hTjg-n"
   },
   "source": [
    "A linear look up table is not always the best way to visualise X-ray images. A log-scale may be favoured (but be mindful $\\log(0)$ does not exist. Another popular method is the Power-law colour scale as we can control the Power law exponent ($\\gamma$). The corresponding normalisation formula is as follows:\n",
    "$$\\left(\\frac{Img - \\min(Img)}{\\max(Img) - \\min(img)}\\right)^\\gamma$$"
   ]
  },
  {
   "cell_type": "code",
   "execution_count": null,
   "id": "4b21a1ae-4d9c-45e5-acd3-d866582d5e4d",
   "metadata": {
    "colab": {
     "base_uri": "https://localhost:8080/",
     "height": 531
    },
    "id": "PR8yKtgFjg-n",
    "outputId": "bbbe5117-0ecb-404d-c07f-5b22d21a6d31"
   },
   "outputs": [],
   "source": [
    "# Display the X-ray image and compare three different lookup tables\n",
    "plt.figure(figsize=(15, 7.5));\n",
    "\n",
    "plt.suptitle(\"Image simulated with gVirtualXray visualised\", y=0.95);\n",
    "\n",
    "plt.subplot(131);\n",
    "plt.imshow(x_ray_image, cmap=\"gray\");\n",
    "plt.colorbar(orientation='horizontal');\n",
    "plt.title(\"using a linear colour scale\");\n",
    "\n",
    "plt.subplot(132);\n",
    "plt.imshow(x_ray_image, norm=LogNorm(), cmap=\"gray\");\n",
    "plt.colorbar(orientation='horizontal');\n",
    "plt.title(\"using a logarithmic colour scale\");\n",
    "\n",
    "plt.subplot(133);\n",
    "plt.imshow(x_ray_image, norm=PowerNorm(gamma=1./2.), cmap=\"gray\");\n",
    "plt.colorbar(orientation='horizontal');\n",
    "plt.title(\"using a Power-law colour scale ($\\gamma=0.5$)\");\n",
    "\n",
    "plt.tight_layout();\n",
    "plt.savefig(os.path.join(output_path, 'projection.pdf'), dpi=600);\n",
    "plt.show();"
   ]
  },
  {
   "cell_type": "markdown",
   "id": "94a225c6-93ae-4fb2-b6df-37062ba3ab37",
   "metadata": {
    "id": "mbGmmxmyjg-n"
   },
   "source": [
    "It may be useful to visualise the 3D environment to ascertain everything is as expected. It can be done in a window or offscreen with a screenshot."
   ]
  },
  {
   "cell_type": "code",
   "execution_count": null,
   "id": "aeeea28f-f0ad-4fc6-a44a-6b3c654aa3ff",
   "metadata": {
    "id": "uTxwQ7gdjg-n"
   },
   "outputs": [],
   "source": [
    "# This image can be used in a research paper to illustrate the simulation environment, in which case you may want to change the background colour to white with:\n",
    "gvxr.setWindowBackGroundColour(1.0, 1.0, 1.0);\n",
    "\n",
    "# Update the visualisation window\n",
    "gvxr.displayScene();"
   ]
  },
  {
   "cell_type": "code",
   "execution_count": null,
   "id": "96072cfd-6191-4d1c-a402-c6626ebb8200",
   "metadata": {
    "colab": {
     "base_uri": "https://localhost:8080/",
     "height": 833
    },
    "id": "s7Nnf1cijg-n",
    "outputId": "ba135996-0b19-4c46-e123-94bdbbd1a924"
   },
   "outputs": [],
   "source": [
    "# Take the screenshot and save it in a file\n",
    "screenshot = gvxr.takeScreenshot();\n",
    "plt.imsave(os.path.join(output_path, \"screenshot-01.png\"), np.array(screenshot));\n",
    "\n",
    "# or display it using Matplotlib\n",
    "plt.figure(figsize=(10, 10));\n",
    "plt.imshow(screenshot);\n",
    "plt.title(\"Screenshot of the X-ray simulation environment\");\n",
    "plt.axis('off');\n",
    "plt.show();"
   ]
  },
  {
   "cell_type": "code",
   "execution_count": null,
   "id": "e5f695cf-1100-48ce-a703-f77586ead9d4",
   "metadata": {},
   "outputs": [],
   "source": [
    "print(gvxr.getZoom());\n",
    "print(gvxr.getSceneRotationMatrix());"
   ]
  },
  {
   "cell_type": "code",
   "execution_count": null,
   "id": "12a58ef3-a32f-44d1-afce-fe648c5dd413",
   "metadata": {},
   "outputs": [],
   "source": [
    "gvxr.setZoom(1397.4293212890625)\n",
    "gvxr.setSceneRotationMatrix([\n",
    "    -0.8833954334259033, 0.017649494111537933, 0.46829527616500854, 0.0,\n",
    "    -0.46784770488739014, 0.024374328553676605, -0.883472204208374, 0.0, \n",
    "    -0.02700728178024292, -0.9995452165603638, -0.01327541097998619, 0.0,\n",
    "    0.0, 0.0, 0.0, 1.0]);\n",
    "\n",
    "# Update the visualisation window\n",
    "gvxr.displayScene();\n",
    "\n",
    "# Take the screenshot and save it in a file\n",
    "screenshot = gvxr.takeScreenshot();\n",
    "plt.imsave(os.path.join(output_path, \"screenshot-02.png\"), np.array(screenshot));\n",
    "\n",
    "# or display it using Matplotlib\n",
    "plt.figure(figsize=(10, 10));\n",
    "plt.imshow(screenshot);\n",
    "plt.title(\"Screenshot of the X-ray simulation environment\");\n",
    "plt.axis('off');\n",
    "plt.show();"
   ]
  },
  {
   "cell_type": "markdown",
   "id": "6d8e1de3-7bde-49a0-b458-70cdd8c64822",
   "metadata": {
    "id": "TmTuuT0Ujg-p"
   },
   "source": [
    "If windowing is possible, it is possible to run the 3D visualisation in an interactive window."
   ]
  },
  {
   "cell_type": "code",
   "execution_count": null,
   "id": "71393dbd-1362-4dbb-98d4-243408daf641",
   "metadata": {
    "id": "MIFbxRtdjg-p"
   },
   "outputs": [],
   "source": [
    "# Interactive visualisation\n",
    "# The user can rotate the 3D scene and zoom-in and -out in the visualisation window.\n",
    "\n",
    "# - Keys are:\n",
    "#     - Q/Escape: to quit the event loop (does not close the window)\n",
    "#     - B: display/hide the X-ray beam\n",
    "#     - W: display the polygon meshes in solid or wireframe\n",
    "#     - N: display the X-ray image in negative or positive\n",
    "#     - H: display/hide the X-ray detector\n",
    "# - Mouse interactions:\n",
    "#     - Zoom in/out: mouse wheel\n",
    "#     - Rotation: Right mouse button down + move cursor```\n",
    "# gvxr.renderLoop();\n",
    "\n",
    "print(gvxr.getZoom());\n",
    "print(gvxr.getSceneRotationMatrix());"
   ]
  },
  {
   "cell_type": "code",
   "execution_count": null,
   "id": "3c6958eb-6bb5-449c-bd60-3c810828578b",
   "metadata": {},
   "outputs": [],
   "source": [
    "if not IN_COLAB:\n",
    "    plot = visualise(use_log=True, use_negative=True);\n",
    "    plot.display();"
   ]
  },
  {
   "cell_type": "markdown",
   "id": "4ce68bc6-9fab-4818-b09f-5159873fae2c",
   "metadata": {
    "id": "1vrbJFWzjg-p"
   },
   "source": [
    "# Cleaning up\n",
    "\n",
    "Once we have finished it is good practice to clean up the OpenGL contexts and windows with the following command."
   ]
  },
  {
   "cell_type": "code",
   "execution_count": null,
   "id": "f8713a20-0639-4ebf-be91-34c76d362e1c",
   "metadata": {
    "id": "2ldO2muTjg-p"
   },
   "outputs": [],
   "source": [
    "# gvxr.terminate();"
   ]
  }
 ],
 "metadata": {
  "kernelspec": {
   "display_name": "Python 3 (ipykernel)",
   "language": "python",
   "name": "python3"
  },
  "language_info": {
   "codemirror_mode": {
    "name": "ipython",
    "version": 3
   },
   "file_extension": ".py",
   "mimetype": "text/x-python",
   "name": "python",
   "nbconvert_exporter": "python",
   "pygments_lexer": "ipython3",
   "version": "3.11.10"
  }
 },
 "nbformat": 4,
 "nbformat_minor": 5
}
