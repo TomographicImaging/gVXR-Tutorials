{
 "cells": [
  {
   "cell_type": "markdown",
   "metadata": {},
   "source": [
    "<a href=\"https://colab.research.google.com/github/TomographicImaging/gVXR-Tutorials/blob/main/notebooks/segmentation-to-CT_scan-simulation.ipynb\" target=\"_parent\"><img src=\"https://colab.research.google.com/assets/colab-badge.svg\" alt=\"Open In Colab\"/></a>"
   ]
  },
  {
   "cell_type": "code",
   "execution_count": 1,
   "metadata": {},
   "outputs": [],
   "source": [
    "# -*- coding: utf-8 -*-\n",
    "#\n",
    "#  Copyright 2025 United Kingdom Research and Innovation\n",
    "#\n",
    "#  Licensed under the Apache License, Version 2.0 (the \"License\");\n",
    "#  you may not use this file except in compliance with the License.\n",
    "#  You may obtain a copy of the License at\n",
    "#\n",
    "#      http://www.apache.org/licenses/LICENSE-2.0\n",
    "#\n",
    "#  Unless required by applicable law or agreed to in writing, software\n",
    "#  distributed under the License is distributed on an \"AS IS\" BASIS,\n",
    "#  WITHOUT WARRANTIES OR CONDITIONS OF ANY KIND, either express or implied.\n",
    "#  See the License for the specific language governing permissions and\n",
    "#  limitations under the License.\n",
    "#\n",
    "#   Authored by:    Franck Vidal (UKRI-STFC)"
   ]
  },
  {
   "cell_type": "markdown",
   "metadata": {},
   "source": [
    "![gVXR](https://github.com/TomographicImaging/gVXR-Tutorials/blob/main/img/Logo-transparent-small.png?raw=1)\n",
    "\n",
    "# Digital twin of a CT synchrotron beamline: [Dual Imaging And Diffraction (DIAD)](https://www.diamond.ac.uk/Instruments/Imaging-and-Microscopy/DIAD.html)\n",
    "\n",
    "Summary here.\n",
    "<!-- This notebook shows how to load a segmented image and you it to create a multi-part sample. \n",
    "It relies on functions built in gVXR, i.e. no third-party software is required. \n",
    "The functionality is multi-threaded to boost performances. \n",
    "It is then used to simulate a CT scan acquisition with gVXR and recontruct it with CIL. -->\n",
    "\n",
    "![Illustration here]()\n",
    "\n",
    "<div class=\"alert alert-block alert-warning\">\n",
    "    <b>Note:</b> Make sure the Python packages are already installed. See <a href=\"../README.md\">README.md</a> in the root directory of the repository. If you are running this notebook from Google Colab, please run the cell below to install the package with `!pip install gvxr`\n",
    "</div>"
   ]
  },
  {
   "cell_type": "code",
   "execution_count": 2,
   "metadata": {},
   "outputs": [],
   "source": [
    "import sys\n",
    "IN_COLAB = 'google.colab' in sys.modules\n",
    "\n",
    "if IN_COLAB:\n",
    "    !apt-get install libnvidia-gl-575\n",
    "    !pip install -q condacolab\n",
    "    import condacolab\n",
    "    condacolab.install()\n",
    "\n",
    "    !conda install -y -c conda-forge -c https://software.repos.intel.com/python/conda -c ccpi cil=24.3.0 ipp=2021.12 tigre\n",
    "\n",
    "    !pip install gvxr"
   ]
  },
  {
   "cell_type": "code",
   "execution_count": 3,
   "metadata": {},
   "outputs": [],
   "source": [
    "import os\n",
    "\n",
    "# import os # Create the output directory if necessary\n",
    "# import numpy as np # Who does not use Numpy?\n",
    "\n",
    "# from tifffile import  imread\n",
    "# import matplotlib.pyplot as plt # Plotting\n",
    "import matplotlib.pyplot as plt\n",
    "\n",
    "# from tqdm.notebook import tqdm\n",
    "\n",
    "# User interface\n",
    "import IPython\n",
    "from IPython.display import display\n",
    "from ipywidgets import widgets, Layout\n",
    "\n",
    "#  CT simulation\n",
    "\n",
    "from gvxrPython3 import gvxr\n",
    "# from gvxrPython3.gVXRDataReader import *\n",
    "\n",
    "# # CT reconstruction\n",
    "# from cil.recon import FDK # For CBCT\n",
    "# from cil.recon import FBP # For parallel beam geometry\n",
    "\n",
    "# from cil.io import TIFFWriter\n",
    "\n",
    "# from cil.processors import TransmissionAbsorptionConverter\n",
    "# from cil.utilities.display import show_geometry, show2D"
   ]
  },
  {
   "cell_type": "markdown",
   "metadata": {},
   "source": [
    "Create a simulation environment"
   ]
  },
  {
   "cell_type": "code",
   "execution_count": 4,
   "metadata": {},
   "outputs": [
    {
     "name": "stdout",
     "output_type": "stream",
     "text": [
      "Create an OpenGL context using EGL\n"
     ]
    },
    {
     "name": "stderr",
     "output_type": "stream",
     "text": [
      "Tue Aug  5 16:57:11 2025 ---- Create window (ID: 0)\n",
      "Tue Aug  5 16:57:11 2025 ---- Request a EGL context\n",
      "Tue Aug  5 16:57:11 2025 ---- EGL client extensions:\n",
      "Tue Aug  5 16:57:11 2025 ---- EGL_EXT_platform_base EGL_EXT_device_base EGL_EXT_device_enumeration EGL_EXT_device_query EGL_KHR_client_get_all_proc_addresses EGL_EXT_client_extensions EGL_KHR_debug EGL_KHR_platform_x11 EGL_EXT_platform_x11 EGL_EXT_platform_device EGL_MESA_platform_surfaceless EGL_EXT_explicit_device EGL_KHR_platform_wayland EGL_EXT_platform_wayland EGL_KHR_platform_gbm EGL_MESA_platform_gbm EGL_EXT_platform_xcb\n",
      "Tue Aug  5 16:57:11 2025 ---- EGL clients supported by this host:\n",
      "Tue Aug  5 16:57:11 2025 ---- \t- Surfaceless platform\n",
      "Tue Aug  5 16:57:11 2025 ---- \t- X11 platform\n",
      "Tue Aug  5 16:57:11 2025 ---- \t- Wayland platform\n",
      "Tue Aug  5 16:57:11 2025 ---- \t- GBM platform\n",
      "Tue Aug  5 16:57:11 2025 ---- \t- Device platform\n",
      "Tue Aug  5 16:57:11 2025 ---- Initialise EGL\n",
      "Tue Aug  5 16:57:11 2025 ---- Try to build an EGL display.\n",
      "Tue Aug  5 16:57:11 2025 ---- Go through all the EGL devices to find a suitable display.\n",
      "Tue Aug  5 16:57:11 2025 ---- Surfaceless have the lowest priority.\n",
      "Tue Aug  5 16:57:11 2025 ---- Query the number of EGL devices\n",
      "Tue Aug  5 16:57:11 2025 ---- Success\n",
      "Tue Aug  5 16:57:11 2025 ---- Detected 3 EGL devices.\n",
      "Tue Aug  5 16:57:11 2025 ---- Print the details here of every EGL device.\n",
      "Tue Aug  5 16:57:11 2025 ---- Success\n",
      "Tue Aug  5 16:57:11 2025 ---- Device 1/3:\n",
      "Tue Aug  5 16:57:11 2025 ---- \tDevice Extensions: EGL_NV_device_cuda EGL_EXT_device_drm EGL_EXT_device_drm_render_node EGL_EXT_device_query_name EGL_EXT_device_persistent_id\n",
      "Tue Aug  5 16:57:11 2025 ---- Device 2/3:\n",
      "Tue Aug  5 16:57:11 2025 ---- \tDevice Extensions: EGL_EXT_device_drm EGL_EXT_device_drm_render_node\n",
      "Tue Aug  5 16:57:11 2025 ---- Device 3/3:\n",
      "Tue Aug  5 16:57:11 2025 ---- \tDevice Extensions: EGL_MESA_device_software EGL_EXT_device_drm_render_node\n",
      "Tue Aug  5 16:57:11 2025 ---- Device 0's extensions: EGL_NV_device_cuda EGL_EXT_device_drm EGL_EXT_device_drm_render_node EGL_EXT_device_query_name EGL_EXT_device_persistent_id\n",
      "Tue Aug  5 16:57:11 2025 ---- Device 1's extensions: EGL_EXT_device_drm EGL_EXT_device_drm_render_node\n",
      "Tue Aug  5 16:57:11 2025 ---- Device 2's extensions: EGL_MESA_device_software EGL_EXT_device_drm_render_node\n",
      "Tue Aug  5 16:57:11 2025 ---- *** Try to build an EGL display for Platform device 1/3. ***\n",
      "Tue Aug  5 16:57:11 2025 ---- \tSuccess.\n",
      "Tue Aug  5 16:57:11 2025 ---- EGL extensions:\n",
      "Tue Aug  5 16:57:11 2025 (WW) \tRetrieving EGL extensions failed\n",
      "Tue Aug  5 16:57:11 2025 ---- EGL version: 1.5\n",
      "Tue Aug  5 16:57:11 2025 ---- EGL extensions: "
     ]
    }
   ],
   "source": [
    "# Create an OpenGL context\n",
    "# MS Windows\n",
    "if os.name == \"nt\":\n",
    "    print(\"Creating an OpenGL context using EGL is not possible on Microsoft Windows\")\n",
    "    print(\"A window will be created but not displayed\")\n",
    "    gvxr.createWindow(0, False, \"OPENGL\")\n",
    "# MacOS\n",
    "elif str(os.uname()).find(\"Darwin\") >= 0:\n",
    "    print(\"Creating an OpenGL context using EGL is not possible on MacOS\")\n",
    "    print(\"A window will be created but not displayed\")\n",
    "    gvxr.createWindow(0, False, \"OPENGL\")\n",
    "# GNU/Linux\n",
    "else:\n",
    "    print(\"Create an OpenGL context using EGL\")\n",
    "    gvxr.createWindow(0, 1, \"EGL\")\n"
   ]
  },
  {
   "cell_type": "markdown",
   "metadata": {},
   "source": [
    "Import the twin"
   ]
  },
  {
   "cell_type": "code",
   "execution_count": 5,
   "metadata": {},
   "outputs": [],
   "source": [
    "from gvxrPython3.twins.utils import createDigitalTwin"
   ]
  },
  {
   "cell_type": "code",
   "execution_count": 6,
   "metadata": {},
   "outputs": [],
   "source": [
    "twin = createDigitalTwin(name=\"DIAD\")"
   ]
  },
  {
   "cell_type": "code",
   "execution_count": null,
   "metadata": {},
   "outputs": [],
   "source": []
  },
  {
   "cell_type": "code",
   "execution_count": 7,
   "metadata": {},
   "outputs": [],
   "source": [
    "# twin.get_beams()"
   ]
  },
  {
   "cell_type": "code",
   "execution_count": 8,
   "metadata": {},
   "outputs": [],
   "source": [
    "# twin.source"
   ]
  },
  {
   "cell_type": "code",
   "execution_count": 9,
   "metadata": {},
   "outputs": [],
   "source": [
    "# twin.set_beam(twin.get_beams()[1])\n",
    "# print(twin.source)\n",
    "# print(twin.beam)"
   ]
  },
  {
   "cell_type": "markdown",
   "metadata": {},
   "source": [
    "Class to create a small UI"
   ]
  },
  {
   "cell_type": "code",
   "execution_count": 10,
   "metadata": {},
   "outputs": [],
   "source": [
    "def get_available_filters(twin, beam_type):\n",
    "    return twin.specification.beams[beam_type].filters\n",
    "\n",
    "\n"
   ]
  },
  {
   "cell_type": "code",
   "execution_count": null,
   "metadata": {},
   "outputs": [],
   "source": []
  },
  {
   "cell_type": "code",
   "execution_count": 11,
   "metadata": {},
   "outputs": [
    {
     "data": {
      "application/vnd.jupyter.widget-view+json": {
       "model_id": "7eb7810b5455499aa7dd0e2984f7ea5d",
       "version_major": 2,
       "version_minor": 0
      },
      "text/plain": [
       "HBox(children=(VBox(children=(Box(children=(Label(value='Select the type of spectrum:'), Select(layout=Layout(…"
      ]
     },
     "metadata": {},
     "output_type": "display_data"
    },
    {
     "name": "stdout",
     "output_type": "stream",
     "text": [
      "Beam filter validation is not implemented\n",
      "(1.5436417888849974, 2.447165083140135, 3.4279278479516506, 4.408909007906914, 5.38988970220089, 6.370870862156153, 7.3518515564501286, 8.332832716405392, 9.313813410699368, 10.294800624251366, 11.275775730609894, 12.256750836968422, 13.237746432423592, 14.218712225556374, 15.199700370430946, 16.18068851530552, 17.1616543084383, 18.14264990389347, 19.12362314760685, 20.104600116610527, 21.085593849420547, 22.06655777990818, 23.04754965007305, 24.028532207012177, 25.009501725435257, 25.990497320890427, 26.971468701958656, 27.952449396252632, 28.933441266417503, 29.914407059550285, 30.895398929715157, 31.876377761363983, 32.85735100507736, 33.83834660053253, 34.819312393665314, 35.80030053853989, 36.78128868341446, 37.76225447654724, 38.74325007200241, 39.72422331571579, 40.70520028471947, 41.68619588017464, 42.66716167330742, 43.64814981818199, 44.62913051247597, 45.610103756189346, 46.591099351644516, 47.572068870067596, 48.55283349752426, 49.45637285709381)\n",
      "(22720964198400.0, 29089127727104.0, 33959282999296.0, 37240247943168.0, 39313949589504.0, 40472085004288.0, 40927758385152.0, 40787517636608.0, 40213443248128.0, 39305674227712.0, 38141700341760.0, 36795005796352.0, 35308611567616.0, 33737857302528.0, 32105394339840.0, 30447805399040.0, 28792225529856.0, 27152892297216.0, 25537038778368.0, 23970233450496.0, 22451494846464.0, 20991960940544.0, 19595526144000.0, 18260273659904.0, 16997175787520.0, 15798178414592.0, 14662612549632.0, 13595674935296.0, 12593226842112.0, 11653732106240.0, 10773363425280.0, 9948590243840.0, 9183389810688.0, 8469575368704.0, 7804084551680.0, 7185432051712.0, 6613923528704.0, 6081993506816.0, 5589975957504.0, 5135118893056.0, 4712555347968.0, 4325734612992.0, 3967992463360.0, 3637838872576.0, 3333190057984.0, 3054130167808.0, 2795490770944.0, 2558545625088.0, 2341732089856.0, 2155667128320.0)\n"
     ]
    },
    {
     "name": "stderr",
     "output_type": "stream",
     "text": [
      "Tue Aug  5 16:57:17 2025 (WW) addEnergyBinToSpectrum is deprecated. It will be removed in a future release. Choose addEnergyBinToSpectrumPerPixelAtSDD or addEnergyBinToSpectrumPerCm2At1m. Note that addEnergyBinToSpectrum and addEnergyBinToSpectrumPerPixelAtSDD are equivalent.\n"
     ]
    },
    {
     "name": "stdout",
     "output_type": "stream",
     "text": [
      "Beam filter validation is not implemented\n",
      "(1.5436417888849974, 2.447165083140135, 3.4279278479516506, 4.408909007906914, 5.38988970220089, 6.370870862156153, 7.3518515564501286, 8.332832716405392, 9.313813410699368, 10.294800624251366, 11.275775730609894, 12.256750836968422, 13.237746432423592, 14.218712225556374, 15.199700370430946, 16.18068851530552, 17.1616543084383, 18.14264990389347, 19.12362314760685, 20.104600116610527, 21.085593849420547, 22.06655777990818, 23.04754965007305, 24.028532207012177, 25.009501725435257, 25.990497320890427, 26.971468701958656, 27.952449396252632, 28.933441266417503, 29.914407059550285, 30.895398929715157, 31.876377761363983, 32.85735100507736, 33.83834660053253, 34.819312393665314, 35.80030053853989, 36.78128868341446, 37.76225447654724, 38.74325007200241, 39.72422331571579, 40.70520028471947, 41.68619588017464, 42.66716167330742, 43.64814981818199, 44.62913051247597, 45.610103756189346, 46.591099351644516, 47.572068870067596, 48.55283349752426, 49.45637285709381)\n",
      "(22720964198400.0, 29089127727104.0, 33959282999296.0, 37240247943168.0, 39313949589504.0, 40472085004288.0, 40927758385152.0, 40787517636608.0, 40213443248128.0, 39305674227712.0, 38141700341760.0, 36795005796352.0, 35308611567616.0, 33737857302528.0, 32105394339840.0, 30447805399040.0, 28792225529856.0, 27152892297216.0, 25537038778368.0, 23970233450496.0, 22451494846464.0, 20991960940544.0, 19595526144000.0, 18260273659904.0, 16997175787520.0, 15798178414592.0, 14662612549632.0, 13595674935296.0, 12593226842112.0, 11653732106240.0, 10773363425280.0, 9948590243840.0, 9183389810688.0, 8469575368704.0, 7804084551680.0, 7185432051712.0, 6613923528704.0, 6081993506816.0, 5589975957504.0, 5135118893056.0, 4712555347968.0, 4325734612992.0, 3967992463360.0, 3637838872576.0, 3333190057984.0, 3054130167808.0, 2795490770944.0, 2558545625088.0, 2341732089856.0, 2155667128320.0)\n"
     ]
    },
    {
     "name": "stdout",
     "output_type": "stream",
     "text": [
      "Beam filter validation is not implemented\n",
      "(1.5436417888849974, 2.447165083140135, 3.4279278479516506, 4.408909007906914, 5.38988970220089, 6.370870862156153, 7.3518515564501286, 8.332832716405392, 9.313813410699368, 10.294800624251366, 11.275775730609894, 12.256750836968422, 13.237746432423592, 14.218712225556374, 15.199700370430946, 16.18068851530552, 17.1616543084383, 18.14264990389347, 19.12362314760685, 20.104600116610527, 21.085593849420547, 22.06655777990818, 23.04754965007305, 24.028532207012177, 25.009501725435257, 25.990497320890427, 26.971468701958656, 27.952449396252632, 28.933441266417503, 29.914407059550285, 30.895398929715157, 31.876377761363983, 32.85735100507736, 33.83834660053253, 34.819312393665314, 35.80030053853989, 36.78128868341446, 37.76225447654724, 38.74325007200241, 39.72422331571579, 40.70520028471947, 41.68619588017464, 42.66716167330742, 43.64814981818199, 44.62913051247597, 45.610103756189346, 46.591099351644516, 47.572068870067596, 48.55283349752426, 49.45637285709381)\n",
      "(22720964198400.0, 29089127727104.0, 33959282999296.0, 37240247943168.0, 39313949589504.0, 40472085004288.0, 40927758385152.0, 40787517636608.0, 40213443248128.0, 39305674227712.0, 38141700341760.0, 36795005796352.0, 35308611567616.0, 33737857302528.0, 32105394339840.0, 30447805399040.0, 28792225529856.0, 27152892297216.0, 25537038778368.0, 23970233450496.0, 22451494846464.0, 20991960940544.0, 19595526144000.0, 18260273659904.0, 16997175787520.0, 15798178414592.0, 14662612549632.0, 13595674935296.0, 12593226842112.0, 11653732106240.0, 10773363425280.0, 9948590243840.0, 9183389810688.0, 8469575368704.0, 7804084551680.0, 7185432051712.0, 6613923528704.0, 6081993506816.0, 5589975957504.0, 5135118893056.0, 4712555347968.0, 4325734612992.0, 3967992463360.0, 3637838872576.0, 3333190057984.0, 3054130167808.0, 2795490770944.0, 2558545625088.0, 2341732089856.0, 2155667128320.0)\n"
     ]
    },
    {
     "name": "stdout",
     "output_type": "stream",
     "text": [
      "Beam filter validation is not implemented\n",
      "(32.85735100507736, 33.83834660053253, 34.819312393665314, 35.80030053853989, 36.78128868341446, 37.76225447654724, 38.74325007200241, 39.72422331571579, 40.70520028471947, 41.68619588017464, 42.66716167330742, 43.64814981818199, 44.62913051247597, 45.610103756189346, 46.591099351644516, 47.572068870067596, 48.55283349752426, 49.45637285709381)\n",
      "(0.0003338598762638867, 0.00622920785099268, 0.08470340818166733, 0.8742391467094421, 7.090804576873779, 46.505096435546875, 253.03884887695312, 1167.06103515625, 4644.033203125, 16230.4697265625, 50486.0078125, 141519.421875, 361319.46875, 848706.3125, 1847409.75, 3757473.0, 7187282.0, 12420765.0)\n"
     ]
    },
    {
     "name": "stdout",
     "output_type": "stream",
     "text": [
      "Beam filter validation is not implemented\n",
      "(1.5436417888849974, 2.447165083140135, 3.4279278479516506, 4.408909007906914, 5.38988970220089, 6.370870862156153, 7.3518515564501286, 8.332832716405392, 9.313813410699368, 10.294800624251366, 11.275775730609894, 12.256750836968422, 13.237746432423592, 14.218712225556374, 15.199700370430946, 16.18068851530552, 17.1616543084383, 18.14264990389347, 19.12362314760685, 20.104600116610527, 21.085593849420547, 22.06655777990818, 23.04754965007305, 24.028532207012177, 25.009501725435257, 25.990497320890427, 26.971468701958656, 27.952449396252632, 28.933441266417503, 29.914407059550285, 30.895398929715157, 31.876377761363983, 32.85735100507736, 33.83834660053253, 34.819312393665314, 35.80030053853989, 36.78128868341446, 37.76225447654724, 38.74325007200241, 39.72422331571579, 40.70520028471947, 41.68619588017464, 42.66716167330742, 43.64814981818199, 44.62913051247597, 45.610103756189346, 46.591099351644516, 47.572068870067596, 48.55283349752426, 49.45637285709381)\n",
      "(22720964198400.0, 29089127727104.0, 33959282999296.0, 37240247943168.0, 39313949589504.0, 40472085004288.0, 40927758385152.0, 40787517636608.0, 40213443248128.0, 39305674227712.0, 38141700341760.0, 36795005796352.0, 35308611567616.0, 33737857302528.0, 32105394339840.0, 30447805399040.0, 28792225529856.0, 27152892297216.0, 25537038778368.0, 23970233450496.0, 22451494846464.0, 20991960940544.0, 19595526144000.0, 18260273659904.0, 16997175787520.0, 15798178414592.0, 14662612549632.0, 13595674935296.0, 12593226842112.0, 11653732106240.0, 10773363425280.0, 9948590243840.0, 9183389810688.0, 8469575368704.0, 7804084551680.0, 7185432051712.0, 6613923528704.0, 6081993506816.0, 5589975957504.0, 5135118893056.0, 4712555347968.0, 4325734612992.0, 3967992463360.0, 3637838872576.0, 3333190057984.0, 3054130167808.0, 2795490770944.0, 2558545625088.0, 2341732089856.0, 2155667128320.0)\n"
     ]
    },
    {
     "name": "stdout",
     "output_type": "stream",
     "text": [
      "Beam filter validation is not implemented\n",
      "(1.5436417888849974, 2.447165083140135, 3.4279278479516506, 4.408909007906914, 5.38988970220089, 6.370870862156153, 7.3518515564501286, 8.332832716405392, 9.313813410699368, 10.294800624251366, 11.275775730609894, 12.256750836968422, 13.237746432423592, 14.218712225556374, 15.199700370430946, 16.18068851530552, 17.1616543084383, 18.14264990389347, 19.12362314760685, 20.104600116610527, 21.085593849420547, 22.06655777990818, 23.04754965007305, 24.028532207012177, 25.009501725435257, 25.990497320890427, 26.971468701958656, 27.952449396252632, 28.933441266417503, 29.914407059550285, 30.895398929715157, 31.876377761363983, 32.85735100507736, 33.83834660053253, 34.819312393665314, 35.80030053853989, 36.78128868341446, 37.76225447654724, 38.74325007200241, 39.72422331571579, 40.70520028471947, 41.68619588017464, 42.66716167330742, 43.64814981818199, 44.62913051247597, 45.610103756189346, 46.591099351644516, 47.572068870067596, 48.55283349752426, 49.45637285709381)\n",
      "(22720964198400.0, 29089127727104.0, 33959282999296.0, 37240247943168.0, 39313949589504.0, 40472085004288.0, 40927758385152.0, 40787517636608.0, 40213443248128.0, 39305674227712.0, 38141700341760.0, 36795005796352.0, 35308611567616.0, 33737857302528.0, 32105394339840.0, 30447805399040.0, 28792225529856.0, 27152892297216.0, 25537038778368.0, 23970233450496.0, 22451494846464.0, 20991960940544.0, 19595526144000.0, 18260273659904.0, 16997175787520.0, 15798178414592.0, 14662612549632.0, 13595674935296.0, 12593226842112.0, 11653732106240.0, 10773363425280.0, 9948590243840.0, 9183389810688.0, 8469575368704.0, 7804084551680.0, 7185432051712.0, 6613923528704.0, 6081993506816.0, 5589975957504.0, 5135118893056.0, 4712555347968.0, 4325734612992.0, 3967992463360.0, 3637838872576.0, 3333190057984.0, 3054130167808.0, 2795490770944.0, 2558545625088.0, 2341732089856.0, 2155667128320.0)\n"
     ]
    },
    {
     "name": "stdout",
     "output_type": "stream",
     "text": [
      "Beam filter validation is not implemented\n",
      "(20.104600116610527, 21.085593849420547, 22.06655777990818, 23.04754965007305, 24.028532207012177, 25.009501725435257, 25.990497320890427, 26.971468701958656, 27.952449396252632, 28.933441266417503, 29.914407059550285, 30.895398929715157, 31.876377761363983, 32.85735100507736, 33.83834660053253, 34.819312393665314, 35.80030053853989, 36.78128868341446, 37.76225447654724, 38.74325007200241, 39.72422331571579, 40.70520028471947, 41.68619588017464, 42.66716167330742, 43.64814981818199, 44.62913051247597, 45.610103756189346, 46.591099351644516, 47.572068870067596, 48.55283349752426, 49.45637285709381)\n",
      "(0.0030745978001505136, 0.3048207759857178, 13.626775741577148, 323.06024169921875, 4596.6396484375, 43234.97265625, 289716.65625, 1467564.375, 5894988.5, 19502518.0, 54802712.0, 134166776.0, 291969184.0, 574857408.0, 1038111808.0, 1739733504.0, 2733132032.0, 4060738560.0, 5742382592.0, 7779389952.0, 10148274176.0, 12796557312.0, 15677413376.0, 18706219008.0, 21803372544.0, 24885217280.0, 27889766400.0, 30717820928.0, 33336276992.0, 35702050816.0, 37583589376.0)\n"
     ]
    },
    {
     "name": "stdout",
     "output_type": "stream",
     "text": [
      "Beam filter validation is not implemented\n",
      "(10.294800624251366, 11.275775730609894, 12.256750836968422, 13.237746432423592, 14.218712225556374, 15.199700370430946, 16.18068851530552, 17.1616543084383, 18.14264990389347, 19.12362314760685, 20.104600116610527, 21.085593849420547, 22.06655777990818, 23.04754965007305, 24.028532207012177, 25.009501725435257, 25.990497320890427, 26.971468701958656, 27.952449396252632, 28.933441266417503, 29.914407059550285, 30.895398929715157, 31.876377761363983, 32.85735100507736, 33.83834660053253, 34.819312393665314, 35.80030053853989, 36.78128868341446, 37.76225447654724, 38.74325007200241, 39.72422331571579, 40.70520028471947, 41.68619588017464, 42.66716167330742, 43.64814981818199, 44.62913051247597, 45.610103756189346, 46.591099351644516, 47.572068870067596, 48.55283349752426, 49.45637285709381)\n",
      "(0.310971736907959, 615.5974731445312, 132632.40625, 6561159.5, 118574152.0, 1055504768.0, 5644763136.0, 20762695680.0, 57720373248.0, 129665622016.0, 247278731264.0, 414806147072.0, 628920156160.0, 879625371648.0, 1152454885376.0, 1432382734336.0, 1704228552704.0, 1955507994624.0, 2177890516992.0, 2365272883200.0, 2514821578752.0, 2625808367616.0, 2699034886144.0, 2738877890560.0, 2747321286656.0, 2727985545216.0, 2685213605888.0, 2624081887232.0, 2546400493568.0, 2456698748928.0, 2357928919040.0, 2251573166080.0, 2142701617152.0, 2031176777728.0, 1918905090048.0, 1807154413568.0, 1698076295168.0, 1590649946112.0, 1487163359232.0, 1388135055360.0, 1299447545856.0)\n"
     ]
    },
    {
     "name": "stdout",
     "output_type": "stream",
     "text": [
      "Beam filter validation is not implemented\n",
      "(12.256750836968422, 13.237746432423592, 14.218712225556374, 15.199700370430946, 16.18068851530552, 17.1616543084383, 18.14264990389347, 19.12362314760685, 20.104600116610527, 21.085593849420547, 22.06655777990818, 23.04754965007305, 24.028532207012177, 25.009501725435257, 25.990497320890427, 26.971468701958656, 27.952449396252632, 28.933441266417503, 29.914407059550285, 30.895398929715157, 31.876377761363983, 32.85735100507736, 33.83834660053253, 34.819312393665314, 35.80030053853989, 36.78128868341446, 37.76225447654724, 38.74325007200241, 39.72422331571579, 40.70520028471947, 41.68619588017464, 42.66716167330742, 43.64814981818199, 44.62913051247597, 45.610103756189346, 46.591099351644516, 47.572068870067596, 48.55283349752426, 49.45637285709381)\n",
      "(0.0004780908639077097, 1.219215750694275, 416.73748779296875, 34701.03125, 1046490.8125, 14972427.0, 122699328.0, 658383808.0, 2550946048.0, 7663816192.0, 18842478592.0, 39485583360.0, 72734515200.0, 120709480448.0, 183843651584.0, 260800135168.0, 348876177408.0, 444247965696.0, 542686838784.0, 639992266752.0, 732243296256.0, 816849944576.0, 891163246592.0, 953591005184.0, 1003470979072.0, 1041107648512.0, 1066123460608.0, 1079676960768.0, 1082706952192.0, 1075760594944.0, 1061361942528.0, 1039739715584.0, 1012193427456.0, 979784171520.0, 944119283712.0, 905088729088.0, 864418725888.0, 822860447744.0, 783313928192.0)\n"
     ]
    },
    {
     "name": "stdout",
     "output_type": "stream",
     "text": [
      "Beam filter validation is not implemented\n",
      "(12.256750836968422, 13.237746432423592, 14.218712225556374, 15.199700370430946, 16.18068851530552, 17.1616543084383, 18.14264990389347, 19.12362314760685, 20.104600116610527, 21.085593849420547, 22.06655777990818, 23.04754965007305, 24.028532207012177, 25.009501725435257, 25.990497320890427, 26.971468701958656, 27.952449396252632, 28.933441266417503, 29.914407059550285, 30.895398929715157, 31.876377761363983, 32.85735100507736, 33.83834660053253, 34.819312393665314, 35.80030053853989, 36.78128868341446, 37.76225447654724, 38.74325007200241, 39.72422331571579, 40.70520028471947, 41.68619588017464, 42.66716167330742, 43.64814981818199, 44.62913051247597, 45.610103756189346, 46.591099351644516, 47.572068870067596, 48.55283349752426, 49.45637285709381)\n",
      "(0.0004780908639077097, 1.219215750694275, 416.73748779296875, 34701.03125, 1046490.8125, 14972427.0, 122699328.0, 658383808.0, 2550946048.0, 7663816192.0, 18842478592.0, 39485583360.0, 72734515200.0, 120709480448.0, 183843651584.0, 260800135168.0, 348876177408.0, 444247965696.0, 542686838784.0, 639992266752.0, 732243296256.0, 816849944576.0, 891163246592.0, 953591005184.0, 1003470979072.0, 1041107648512.0, 1066123460608.0, 1079676960768.0, 1082706952192.0, 1075760594944.0, 1061361942528.0, 1039739715584.0, 1012193427456.0, 979784171520.0, 944119283712.0, 905088729088.0, 864418725888.0, 822860447744.0, 783313928192.0)\n"
     ]
    },
    {
     "name": "stdout",
     "output_type": "stream",
     "text": [
      "Beam filter validation is not implemented\n",
      "(12.256750836968422, 13.237746432423592, 14.218712225556374, 15.199700370430946, 16.18068851530552, 17.1616543084383, 18.14264990389347, 19.12362314760685, 20.104600116610527, 21.085593849420547, 22.06655777990818, 23.04754965007305, 24.028532207012177, 25.009501725435257, 25.990497320890427, 26.971468701958656, 27.952449396252632, 28.933441266417503, 29.914407059550285, 30.895398929715157, 31.876377761363983, 32.85735100507736, 33.83834660053253, 34.819312393665314, 35.80030053853989, 36.78128868341446, 37.76225447654724, 38.74325007200241, 39.72422331571579, 40.70520028471947, 41.68619588017464, 42.66716167330742, 43.64814981818199, 44.62913051247597, 45.610103756189346, 46.591099351644516, 47.572068870067596, 48.55283349752426, 49.45637285709381)\n",
      "(0.0004780908639077097, 1.219215750694275, 416.73748779296875, 34701.03125, 1046490.8125, 14972427.0, 122699328.0, 658383808.0, 2550946048.0, 7663816192.0, 18842478592.0, 39485583360.0, 72734515200.0, 120709480448.0, 183843651584.0, 260800135168.0, 348876177408.0, 444247965696.0, 542686838784.0, 639992266752.0, 732243296256.0, 816849944576.0, 891163246592.0, 953591005184.0, 1003470979072.0, 1041107648512.0, 1066123460608.0, 1079676960768.0, 1082706952192.0, 1075760594944.0, 1061361942528.0, 1039739715584.0, 1012193427456.0, 979784171520.0, 944119283712.0, 905088729088.0, 864418725888.0, 822860447744.0, 783313928192.0)\n"
     ]
    },
    {
     "name": "stdout",
     "output_type": "stream",
     "text": [
      "Beam filter validation is not implemented\n",
      "(12.256750836968422, 13.237746432423592, 14.218712225556374, 15.199700370430946, 16.18068851530552, 17.1616543084383, 18.14264990389347, 19.12362314760685, 20.104600116610527, 21.085593849420547, 22.06655777990818, 23.04754965007305, 24.028532207012177, 25.009501725435257, 25.990497320890427, 26.971468701958656, 27.952449396252632, 28.933441266417503, 29.914407059550285, 30.895398929715157, 31.876377761363983, 32.85735100507736, 33.83834660053253, 34.819312393665314, 35.80030053853989, 36.78128868341446, 37.76225447654724, 38.74325007200241, 39.72422331571579, 40.70520028471947, 41.68619588017464, 42.66716167330742, 43.64814981818199, 44.62913051247597, 45.610103756189346, 46.591099351644516, 47.572068870067596, 48.55283349752426, 49.45637285709381)\n",
      "(0.0004780908639077097, 1.219215750694275, 416.73748779296875, 34701.03125, 1046490.8125, 14972427.0, 122699328.0, 658383808.0, 2550946048.0, 7663816192.0, 18842478592.0, 39485583360.0, 72734515200.0, 120709480448.0, 183843651584.0, 260800135168.0, 348876177408.0, 444247965696.0, 542686838784.0, 639992266752.0, 732243296256.0, 816849944576.0, 891163246592.0, 953591005184.0, 1003470979072.0, 1041107648512.0, 1066123460608.0, 1079676960768.0, 1082706952192.0, 1075760594944.0, 1061361942528.0, 1039739715584.0, 1012193427456.0, 979784171520.0, 944119283712.0, 905088729088.0, 864418725888.0, 822860447744.0, 783313928192.0)\n"
     ]
    }
   ],
   "source": [
    "\n",
    "class UI:\n",
    "    def __init__(self):\n",
    "        pass\n",
    "\n",
    "    def get_filter_material(self, twin, beam_type):\n",
    "\n",
    "        filter_materials = [\"None\"]\n",
    "\n",
    "        for item in get_available_filters(twin, beam_type):\n",
    "            filter_materials.append(item[0])\n",
    "\n",
    "        return filter_materials\n",
    "\n",
    "    def get_filter_thickness(self, twin, beam_type, material):\n",
    "\n",
    "        thicknesses = [str(0.0)]\n",
    "\n",
    "        filters = twin.specification.beams[beam_type].filters\n",
    "\n",
    "        for item in filters:\n",
    "\n",
    "            if item[0] == material:\n",
    "                for thickness in item[1:]:\n",
    "                    thicknesses.append(str(thickness))\n",
    "\n",
    "        return thicknesses\n",
    "\n",
    "    def create(self):\n",
    "\n",
    "        global twin\n",
    "\n",
    "\n",
    "        # Select the spectrum to use\n",
    "        # spectrum_type_widget = widgets.RadioButtons(\n",
    "        #     options=['Monochromatic', 'Pink-beam (low angle)', 'Pink-beam (high angle)'],\n",
    "        #     # description='Beam spectrum:',\n",
    "        #     disabled=False,\n",
    "        #     value='Monochromatic',\n",
    "        #     layout={'width': 'max-content'}\n",
    "        # )\n",
    "\n",
    "        self.spectrum_type_widget = widgets.Select(\n",
    "            options=twin.get_beams(),\n",
    "            # description='Beam spectrum:',\n",
    "            disabled=False,\n",
    "            value=twin.get_beams()[0],\n",
    "            layout={'width': 'max-content'}\n",
    "        )\n",
    "\n",
    "        # Make it look nice\n",
    "        self.beam_selection_box = widgets.Box(\n",
    "            [\n",
    "                widgets.Label(value='Select the type of spectrum:'), \n",
    "                self.spectrum_type_widget\n",
    "            ]\n",
    "        )\n",
    "\n",
    "        # If you selected a pink beam, i.e. a poychromatic beam as the monochromator was not used, you may select a filter.\n",
    "        self.filter_material_type_widget = widgets.Select(\n",
    "            options=self.get_filter_material(twin, self.spectrum_type_widget.value),\n",
    "            # description='Filter material:',\n",
    "            disabled=False,\n",
    "            value='None',\n",
    "            layout={'width': 'max-content'}\n",
    "        )\n",
    "\n",
    "        # If you selected a pink beam, i.e. a poychromatic beam as the monochromator was not used, you may select a filter.\n",
    "        filter_material = self.filter_material_type_widget.value\n",
    "        thicknesses = self.get_filter_thickness(twin, self.spectrum_type_widget.value, filter_material)\n",
    "        self.filter_thickness_widget = widgets.Select(\n",
    "            options=thicknesses,\n",
    "            # description='Filter thickness [mm]:',\n",
    "            disabled=False,\n",
    "            value=thicknesses[0],\n",
    "            layout={'width': 'max-content'}\n",
    "        )\n",
    "\n",
    "        self.filter_selection_box = widgets.Box(\n",
    "            [\n",
    "                widgets.Label(value='Filter material:'), \n",
    "                self.filter_material_type_widget, \n",
    "                widgets.Label(value='Filter thickness [mm]:'), \n",
    "                self.filter_thickness_widget\n",
    "            ]\n",
    "        )\n",
    "\n",
    "        # Else select the energy\n",
    "        twin_max_energy = max(twin.specification.beams[\"monochromatic\"].keV)\n",
    "        twin_min_energy = min(twin.specification.beams[\"monochromatic\"].keV)\n",
    "        self.energy_selector_widget = widgets.FloatSlider(\n",
    "            value=twin_min_energy + (twin_max_energy - twin_min_energy) / 2.0,\n",
    "            min=twin_min_energy,\n",
    "            max=twin_max_energy,\n",
    "            step=0.1,\n",
    "            # description='Mono-energy [keV]:',\n",
    "            disabled=False,\n",
    "            continuous_update=False,\n",
    "            orientation='horizontal',\n",
    "            readout=True,\n",
    "            readout_format='.1f',\n",
    "        )\n",
    "\n",
    "        # Make it look nice\n",
    "        self.mono_energy_box = widgets.Box(\n",
    "            [\n",
    "                widgets.Label(value='Mono-energy [keV]:'), \n",
    "                self.energy_selector_widget\n",
    "            ]\n",
    "        )\n",
    "\n",
    "\n",
    "        if self.spectrum_type_widget.value == 'Monochromatic':\n",
    "            self.filter_selection_box.disabled = True\n",
    "\n",
    "            for child in self.filter_selection_box.children:\n",
    "                child.disabled = True\n",
    "\n",
    "            for child in self.mono_energy_box.children:\n",
    "                child.disabled = False\n",
    "\n",
    "        else:\n",
    "            self.filter_selection_box.disabled = False\n",
    "\n",
    "            for child in self.filter_selection_box.children:\n",
    "                child.disabled = False\n",
    "\n",
    "            for child in self.mono_energy_box.children:\n",
    "                child.disabled = True\n",
    "        \n",
    "        # Select the exposure\n",
    "        self.exposure_widget = widgets.FloatSlider(\n",
    "            value=0.1,\n",
    "            min=0.5,\n",
    "            max=1.0,\n",
    "            step=0.1,\n",
    "            # description='Exposure [sec]:',\n",
    "            disabled=False,\n",
    "            continuous_update=False,\n",
    "            orientation='horizontal',\n",
    "            readout=True,\n",
    "            readout_format='.1f',\n",
    "        )\n",
    "\n",
    "        # Make it look nice\n",
    "        self.exposure_box = widgets.Box(\n",
    "            [\n",
    "                widgets.Label(value='Exposure [sec]:'), \n",
    "                self.exposure_widget\n",
    "            ]\n",
    "        )\n",
    "\n",
    "        # Plot the correspoding spectrum\n",
    "\n",
    "\n",
    "\n",
    "        self.spectrum_plot_widget = widgets.Output(layout=Layout(width='50%'))\n",
    "\n",
    "\n",
    "        def on_spectrum_type_value_change(change):\n",
    "\n",
    "            twin.set_beam(change['new'])\n",
    "\n",
    "            # Update the UI\n",
    "            if change['new'] == 'Monochromatic':\n",
    "                self.filter_selection_box.disabled = True\n",
    "\n",
    "                for child in self.filter_selection_box.children:\n",
    "                    child.disabled = True\n",
    "\n",
    "                for child in self.mono_energy_box.children:\n",
    "                    child.disabled = False\n",
    "\n",
    "            else:\n",
    "                self.filter_selection_box.disabled = False\n",
    "\n",
    "                for child in self.filter_selection_box.children:\n",
    "                    child.disabled = False\n",
    "\n",
    "                for child in self.mono_energy_box.children:\n",
    "                    child.disabled = True\n",
    "\n",
    "            # Update the values in the UI\n",
    "            self.filter_material_type_widget.value = \"None\"\n",
    "            self.filter_material_type_widget.options = self.get_filter_material(twin, self.spectrum_type_widget.value)\n",
    "\n",
    "            filter_material = self.filter_material_type_widget.value\n",
    "            thicknesses = self.get_filter_thickness(twin, self.spectrum_type_widget.value, filter_material)\n",
    "            self.filter_thickness_widget.value = thicknesses[0]\n",
    "            self.filter_thickness_widget.options = thicknesses\n",
    "\n",
    "            # Plot the spectrum\n",
    "            self.update_spectrum_plot()\n",
    "\n",
    "        def on_filter_material_value_change(change):\n",
    "\n",
    "            # Update the values in the UI\n",
    "            filter_material = self.filter_material_type_widget.value\n",
    "            thicknesses = self.get_filter_thickness(twin, self.spectrum_type_widget.value, filter_material)\n",
    "            self.filter_thickness_widget.value = thicknesses[0]\n",
    "            self.filter_thickness_widget.options = thicknesses\n",
    "\n",
    "\n",
    "            twin.beam.filter = [self.filter_material_type_widget.value,\n",
    "                float(self.filter_thickness_widget.value),\n",
    "            ]\n",
    "\n",
    "            # Plot the spectrum\n",
    "            self.update_spectrum_plot()\n",
    "\n",
    "\n",
    "        def on_filter_thickness_value_change(change):\n",
    "\n",
    "            twin.beam.filter = [self.filter_material_type_widget.value,\n",
    "                float(self.filter_thickness_widget.value),\n",
    "            ]\n",
    "\n",
    "            # Plot the spectrum\n",
    "            self.update_spectrum_plot()\n",
    "\n",
    "        def on_energy_value_change(change):\n",
    "\n",
    "            global twin\n",
    "\n",
    "            # Change the energy\n",
    "            twin.beam.kev = change[\"new\"]\n",
    "\n",
    "            self.update_spectrum_plot()\n",
    "\n",
    "        def on_exposure_value_change(change):\n",
    "\n",
    "            global twin\n",
    "\n",
    "            # Change the energy\n",
    "            twin.detector.exposure = change[\"new\"]\n",
    "\n",
    "            self.update_spectrum_plot()\n",
    "\n",
    "\n",
    "        # Update the visibility of widgets\n",
    "        self.spectrum_type_widget.observe(on_spectrum_type_value_change, names='value')\n",
    "\n",
    "        # Update the filter thicknesses based on the material\n",
    "        self.filter_material_type_widget.observe(on_filter_material_value_change, names='value')\n",
    "        self.filter_thickness_widget.observe(on_filter_thickness_value_change, names='value')\n",
    "\n",
    "        # Update the spectrum\n",
    "        self.energy_selector_widget.observe(on_energy_value_change, names='value')\n",
    "        self.exposure_widget.observe(on_exposure_value_change, names='value')\n",
    "\n",
    "\n",
    "\n",
    "        # self.spectrum_type_widget.observe(on_energy_value_change, names='value')\n",
    "        # self.filter_material_type_widget.observe(on_energy_value_change, names='value')\n",
    "        # self.filter_thickness_widget.observe(on_energy_value_change, names='value')\n",
    "\n",
    "\n",
    "        self.layout_left_column = widgets.VBox([self.beam_selection_box, self.mono_energy_box, self.filter_selection_box, self.exposure_box])\n",
    "        self.layout_two_columns = widgets.HBox([self.layout_left_column, self.spectrum_plot_widget])\n",
    "\n",
    "\n",
    "        display(self.layout_two_columns)\n",
    "\n",
    "    def update_spectrum_plot(self):\n",
    "\n",
    "        twin.apply()\n",
    "\n",
    "        energy_bins = gvxr.getEnergyBins(\"keV\")\n",
    "        photon_counts = gvxr.getPhotonCountsPerPixelAtSDD()\n",
    "\n",
    "        print(energy_bins)\n",
    "        print(photon_counts)\n",
    "\n",
    "        with self.spectrum_plot_widget:\n",
    "            # print(change[\"new\"])\n",
    "\n",
    "\n",
    "            \n",
    "            IPython.display.clear_output(True)\n",
    "            fig = plt.figure(figsize=(10,5), dpi=90)\n",
    "            fig.canvas.toolbar_visible = False\n",
    "            ax = fig.add_subplot(111)\n",
    "            ax.plot(energy_bins, photon_counts)\n",
    "            ax.set_xlabel(\"Incident energy [keV]\")\n",
    "            ax.set_ylabel(\"Number of photons per pixels\")\n",
    "            plt.show()\n",
    "\n",
    "diad_ui = UI()\n",
    "diad_ui.create()"
   ]
  },
  {
   "cell_type": "code",
   "execution_count": 12,
   "metadata": {},
   "outputs": [
    {
     "data": {
      "text/plain": [
       "()"
      ]
     },
     "execution_count": 12,
     "metadata": {},
     "output_type": "execute_result"
    }
   ],
   "source": [
    "gvxr.getSourcePosition(\"m\")\n",
    "gvxr.getDetectorPosition(\"m\")\n",
    "gvxr.getPhotonCountsPerCm2At1m()"
   ]
  },
  {
   "cell_type": "code",
   "execution_count": 13,
   "metadata": {},
   "outputs": [
    {
     "name": "stdout",
     "output_type": "stream",
     "text": [
      "Select(layout=Layout(width='max-content'), options=('None',), value='None')\n"
     ]
    }
   ],
   "source": [
    "print(diad_ui.filter_material_type_widget)"
   ]
  },
  {
   "cell_type": "code",
   "execution_count": 14,
   "metadata": {},
   "outputs": [
    {
     "ename": "OSError",
     "evalue": "TOTO",
     "output_type": "error",
     "traceback": [
      "\u001b[31m---------------------------------------------------------------------------\u001b[39m",
      "\u001b[31mOSError\u001b[39m                                   Traceback (most recent call last)",
      "\u001b[36mCell\u001b[39m\u001b[36m \u001b[39m\u001b[32mIn[14]\u001b[39m\u001b[32m, line 1\u001b[39m\n\u001b[32m----> \u001b[39m\u001b[32m1\u001b[39m \u001b[38;5;28;01mraise\u001b[39;00m \u001b[38;5;167;01mIOError\u001b[39;00m(\u001b[33m\"\u001b[39m\u001b[33mTOTO\u001b[39m\u001b[33m\"\u001b[39m)\n",
      "\u001b[31mOSError\u001b[39m: TOTO"
     ]
    }
   ],
   "source": [
    "raise IOError(\"TOTO\")"
   ]
  },
  {
   "cell_type": "markdown",
   "metadata": {},
   "source": [
    "Instantiate the twin"
   ]
  },
  {
   "cell_type": "code",
   "execution_count": null,
   "metadata": {},
   "outputs": [],
   "source": [
    "twin = None"
   ]
  },
  {
   "cell_type": "markdown",
   "metadata": {},
   "source": [
    "Display the UI"
   ]
  },
  {
   "cell_type": "code",
   "execution_count": null,
   "metadata": {},
   "outputs": [],
   "source": [
    "creatreUI(twin)"
   ]
  },
  {
   "cell_type": "code",
   "execution_count": null,
   "metadata": {},
   "outputs": [],
   "source": []
  },
  {
   "cell_type": "markdown",
   "metadata": {},
   "source": [
    "## Getting the data ready\n",
    "\n",
    "Where to save the data."
   ]
  },
  {
   "cell_type": "code",
   "execution_count": null,
   "metadata": {},
   "outputs": [],
   "source": [
    "output_path = \"../notebooks/output_data/DIAD\"\n",
    "if not os.path.exists(output_path):\n",
    "    os.makedirs(output_path)"
   ]
  },
  {
   "cell_type": "markdown",
   "metadata": {},
   "source": [
    "## 1. Set the simulation environment"
   ]
  },
  {
   "cell_type": "code",
   "execution_count": null,
   "metadata": {},
   "outputs": [],
   "source": [
    "# Create an OpenGL context\n",
    "print(\"Create an OpenGL context\");\n",
    "gvxr.createOpenGLContext();"
   ]
  },
  {
   "cell_type": "code",
   "execution_count": null,
   "metadata": {},
   "outputs": [],
   "source": [
    "rotation_centre = [0, 0, 0]"
   ]
  },
  {
   "cell_type": "code",
   "execution_count": null,
   "metadata": {},
   "outputs": [],
   "source": [
    "# Create a source\n",
    "print(\"Set up the beam\")\n",
    "gvxr.setSourcePosition(-40.0,  0.0, 0.0, \"cm\")\n",
    "gvxr.usePointSource()\n",
    "#  For a parallel source, use gvxr.useParallelBeam()"
   ]
  },
  {
   "cell_type": "code",
   "execution_count": null,
   "metadata": {},
   "outputs": [],
   "source": [
    "# Set its spectrum, here a monochromatic beam\n",
    "# 1000 photons of 80 keV (i.e. 0.08 MeV) per ray\n",
    "gvxr.addEnergyBinToSpectrumPerPixelAtSDD(33, \"keV\", 97)\n",
    "gvxr.addEnergyBinToSpectrumPerPixelAtSDD(66, \"keV\", 2)\n",
    "gvxr.addEnergyBinToSpectrumPerPixelAtSDD(99, \"keV\", 1)"
   ]
  },
  {
   "cell_type": "code",
   "execution_count": null,
   "metadata": {},
   "outputs": [],
   "source": [
    "# Set up the detector\n",
    "print(\"Set up the detector\")\n",
    "gvxr.setDetectorPosition(10.0, 0.0, 0.0, \"cm\")\n",
    "gvxr.setDetectorUpVector(0, 0, 1)\n",
    "gvxr.setDetectorNumberOfPixels(1000, 3)\n",
    "gvxr.setDetectorPixelSize(1.0, 1.0, \"um\")\n",
    "gvxr.setScintillator(\"GGG\", 170, \"um\")"
   ]
  },
  {
   "cell_type": "markdown",
   "metadata": {},
   "source": [
    "## 2. Create the sample from a segmented image"
   ]
  },
  {
   "cell_type": "markdown",
   "metadata": {},
   "source": [
    "Read the image"
   ]
  },
  {
   "cell_type": "code",
   "execution_count": null,
   "metadata": {},
   "outputs": [],
   "source": [
    "labels = imread(\"../data/labels.tif\")\n",
    "voxel_size = [1.5, 1.5, 1.5]\n",
    "unit = \"um\""
   ]
  },
  {
   "cell_type": "markdown",
   "metadata": {},
   "source": [
    "Display the image"
   ]
  },
  {
   "cell_type": "code",
   "execution_count": null,
   "metadata": {},
   "outputs": [],
   "source": [
    "plt.figure()\n",
    "plt.imshow(labels,\n",
    "    origin='upper',\n",
    "    extent=[0.0, voxel_size[0] * labels.shape[1],\n",
    "        0.0, voxel_size[1] * labels.shape[0]]\n",
    ")\n",
    "plt.xlabel(\"Pixel position [\" + unit + \"]\")\n",
    "plt.ylabel(\"Pixel position [\" + unit + \"]\")\n",
    "plt.show()"
   ]
  },
  {
   "cell_type": "markdown",
   "metadata": {},
   "source": [
    "Make sure it is a 3D image"
   ]
  },
  {
   "cell_type": "code",
   "execution_count": null,
   "metadata": {},
   "outputs": [],
   "source": [
    "if len(labels.shape) == 2:\n",
    "    labels.shape = [1, *labels.shape]"
   ]
  },
  {
   "cell_type": "markdown",
   "metadata": {},
   "source": [
    "Associate the labels with actual materials"
   ]
  },
  {
   "cell_type": "code",
   "execution_count": null,
   "metadata": {},
   "outputs": [],
   "source": [
    "material_composition = {\n",
    "    112: {\n",
    "        'material type': 'element', \n",
    "        'material': 'C', \n",
    "        'density': 2.26\n",
    "    }\n",
    "    ,\n",
    "\n",
    "    170: {\n",
    "        'material type': 'compound', \n",
    "        'material': 'SiC', \n",
    "        'density': 3.21\n",
    "    },\n",
    "\n",
    "    202: {\n",
    "        'material type': 'mixture', \n",
    "        'material': 'Ti90Al6V4', \n",
    "        'density': 4.43\n",
    "    }\n",
    "}"
   ]
  },
  {
   "cell_type": "markdown",
   "metadata": {},
   "source": [
    "Process the segmentation to create iso surfaces"
   ]
  },
  {
   "cell_type": "code",
   "execution_count": null,
   "metadata": {},
   "outputs": [],
   "source": [
    "for label in tqdm(np.unique(labels)):\n",
    "\n",
    "    if label in material_composition.keys():\n",
    "        selected_material = material_composition[label]\n",
    "        mesh_label = material_composition[label]['material']\n",
    "\n",
    "        print(\"Process\", mesh_label)\n",
    "\n",
    "        # Select the structure\n",
    "        binary_image = (labels == label).astype(np.uint8)\n",
    "\n",
    "        # Apply the Marching cubes\n",
    "        gvxr.makeIsoSurface(mesh_label,\n",
    "            binary_image,\n",
    "            1,\n",
    "            *rotation_centre,\n",
    "            *voxel_size,\n",
    "            \"um\"\n",
    "        )\n",
    "\n",
    "        # Save the mesh as an STL file\n",
    "        gvxr.saveSTLfile(mesh_label, os.path.join(output_path, mesh_label+\".stl\"))\n",
    "\n",
    "        # Set the material\n",
    "        if selected_material['material type'].upper() == 'ELEMENT':\n",
    "            print(\"\\tUse element\", mesh_label)\n",
    "            gvxr.setElement(mesh_label, mesh_label)\n",
    "\n",
    "            if \"density\" in selected_material:\n",
    "                gvxr.setDensity(mesh_label, selected_material[\"density\"], \"g/cm3\")\n",
    "\n",
    "        elif selected_material['material type'].upper() == 'COMPOUND':\n",
    "            print(\"\\tUse compound\", mesh_label)\n",
    "            gvxr.setCompound(mesh_label, mesh_label)\n",
    "            gvxr.setDensity(mesh_label, selected_material[\"density\"], \"g/cm3\")\n",
    "        \n",
    "        elif selected_material['material type'].upper() == 'MIXTURE':\n",
    "            print(\"\\tUse mixture\", mesh_label)\n",
    "            gvxr.setMixture(mesh_label, mesh_label)\n",
    "            gvxr.setDensity(mesh_label, selected_material[\"density\"], \"g/cm3\")\n",
    "        \n",
    "        else:\n",
    "            raise IOError(\"Invalid material type\")\n",
    "\n",
    "        # Add the material\n",
    "        gvxr.addPolygonMeshAsInnerSurface(mesh_label)\n",
    "    else:\n",
    "        print(label, \"is not in\", material_composition)\n"
   ]
  },
  {
   "cell_type": "markdown",
   "metadata": {},
   "source": [
    "Simulate the CT scan"
   ]
  },
  {
   "cell_type": "code",
   "execution_count": null,
   "metadata": {},
   "outputs": [],
   "source": [
    "rotation_centre = [0, 0, 0]\n",
    "number_of_projections = 3000\n",
    "\n",
    "gvxr.computeCTAcquisition(\n",
    "    os.path.join(output_path, \"projections\"), # The path where the X-ray projections will be saved\n",
    "    \"\", # The path where the screenshots will be saved\n",
    "    number_of_projections, # The total number of projections to simulate\n",
    "    0, # The rotation angle corresponding to the first projection\n",
    "    False, # A boolean flag to include or exclude the last angle\n",
    "    360, # The rotation angle corresponding to the first projection\n",
    "    50, # The number of white images used to perform the flat-field correction\n",
    "    *rotation_centre, # The location of the rotation centre\n",
    "    \"mm\", # The corresponding unit of length\n",
    "    0, 0, 1 # The rotation axis\n",
    ")  "
   ]
  },
  {
   "cell_type": "markdown",
   "metadata": {},
   "source": [
    "Read the simulated data with CIL"
   ]
  },
  {
   "cell_type": "code",
   "execution_count": null,
   "metadata": {},
   "outputs": [],
   "source": [
    "reader = gVXRDataReader(gvxr.getProjectionOutputPathCT(),\n",
    "    gvxr.getAngleSetCT(),\n",
    "    rotation_centre)\n",
    "\n",
    "data = reader.read()"
   ]
  },
  {
   "cell_type": "code",
   "execution_count": null,
   "metadata": {},
   "outputs": [],
   "source": [
    "print(\"data.geometry\", data.geometry)"
   ]
  },
  {
   "cell_type": "markdown",
   "metadata": {},
   "source": [
    "Apply the minus log transformation (use use white_level=1.0 as the flat-field correction is already applied)"
   ]
  },
  {
   "cell_type": "code",
   "execution_count": null,
   "metadata": {},
   "outputs": [],
   "source": [
    "data_corr = TransmissionAbsorptionConverter(white_level=1.0)(data)"
   ]
  },
  {
   "cell_type": "code",
   "execution_count": null,
   "metadata": {},
   "outputs": [],
   "source": [
    "data_corr.reorder(order='tigre')"
   ]
  },
  {
   "cell_type": "markdown",
   "metadata": {},
   "source": [
    "We only want to reconstruct the slice in the middle of the volume"
   ]
  },
  {
   "cell_type": "code",
   "execution_count": null,
   "metadata": {},
   "outputs": [],
   "source": [
    "ig = data_corr.geometry.get_ImageGeometry();\n",
    "\n",
    "ig.voxel_num_z = 1\n",
    "print(\"Image geometry\", ig)"
   ]
  },
  {
   "cell_type": "code",
   "execution_count": null,
   "metadata": {},
   "outputs": [],
   "source": [
    "# Perform the reconstruction with CIL\n",
    "FDK_reconstruction = FDK(data_corr, ig).run()"
   ]
  },
  {
   "cell_type": "markdown",
   "metadata": {},
   "source": [
    "Apply a circular mask as we simulated a region of interest scan"
   ]
  },
  {
   "cell_type": "code",
   "execution_count": null,
   "metadata": {},
   "outputs": [],
   "source": [
    "FDK_reconstruction.apply_circular_mask()"
   ]
  },
  {
   "cell_type": "markdown",
   "metadata": {},
   "source": [
    "Save the reconstructed CT images"
   ]
  },
  {
   "cell_type": "code",
   "execution_count": null,
   "metadata": {},
   "outputs": [],
   "source": [
    "writer = TIFFWriter(data=FDK_reconstruction, file_name=os.path.join(output_path, \"recons-\" + str(number_of_projections), \"slice_\"), compression=\"uint16\");\n",
    "writer.write();"
   ]
  },
  {
   "cell_type": "markdown",
   "metadata": {},
   "source": [
    "Show the CT slice"
   ]
  },
  {
   "cell_type": "code",
   "execution_count": null,
   "metadata": {},
   "outputs": [],
   "source": [
    "show2D(FDK_reconstruction)"
   ]
  },
  {
   "cell_type": "markdown",
   "metadata": {},
   "source": [
    "# Cleaning up\n",
    "\n",
    "Once we have finished, it is good practice to clean up the OpenGL contexts and windows with the following command. Note that due to the object-oriented programming nature of the core API of gVXR, this step is automatic anyway."
   ]
  },
  {
   "cell_type": "code",
   "execution_count": null,
   "metadata": {},
   "outputs": [],
   "source": [
    "gvxr.destroy()"
   ]
  }
 ],
 "metadata": {
  "kernelspec": {
   "display_name": "DIAD2gVXR",
   "language": "python",
   "name": "python3"
  },
  "language_info": {
   "codemirror_mode": {
    "name": "ipython",
    "version": 3
   },
   "file_extension": ".py",
   "mimetype": "text/x-python",
   "name": "python",
   "nbconvert_exporter": "python",
   "pygments_lexer": "ipython3",
   "version": "3.11.11"
  },
  "orig_nbformat": 4
 },
 "nbformat": 4,
 "nbformat_minor": 2
}
