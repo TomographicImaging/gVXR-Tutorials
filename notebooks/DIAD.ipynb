{
 "cells": [
  {
   "cell_type": "markdown",
   "metadata": {},
   "source": [
    "<a href=\"https://colab.research.google.com/github/TomographicImaging/gVXR-Tutorials/blob/main/notebooks/segmentation-to-CT_scan-simulation.ipynb\" target=\"_parent\"><img src=\"https://colab.research.google.com/assets/colab-badge.svg\" alt=\"Open In Colab\"/></a>"
   ]
  },
  {
   "cell_type": "code",
   "execution_count": null,
   "metadata": {},
   "outputs": [],
   "source": [
    "# -*- coding: utf-8 -*-\n",
    "#\n",
    "#  Copyright 2025 United Kingdom Research and Innovation\n",
    "#\n",
    "#  Licensed under the Apache License, Version 2.0 (the \"License\");\n",
    "#  you may not use this file except in compliance with the License.\n",
    "#  You may obtain a copy of the License at\n",
    "#\n",
    "#      http://www.apache.org/licenses/LICENSE-2.0\n",
    "#\n",
    "#  Unless required by applicable law or agreed to in writing, software\n",
    "#  distributed under the License is distributed on an \"AS IS\" BASIS,\n",
    "#  WITHOUT WARRANTIES OR CONDITIONS OF ANY KIND, either express or implied.\n",
    "#  See the License for the specific language governing permissions and\n",
    "#  limitations under the License.\n",
    "#\n",
    "#   Authored by:    Franck Vidal (UKRI-STFC)"
   ]
  },
  {
   "cell_type": "markdown",
   "metadata": {},
   "source": [
    "![gVXR](https://github.com/TomographicImaging/gVXR-Tutorials/blob/main/img/Logo-transparent-small.png?raw=1)\n",
    "\n",
    "# Digital twin of a CT synchrotron beamline: [Dual Imaging And Diffraction (DIAD)](https://www.diamond.ac.uk/Instruments/Imaging-and-Microscopy/DIAD.html)\n",
    "\n",
    "Summary here.\n",
    "<!-- This notebook shows how to load a segmented image and you it to create a multi-part sample. \n",
    "It relies on functions built in gVXR, i.e. no third-party software is required. \n",
    "The functionality is multi-threaded to boost performances. \n",
    "It is then used to simulate a CT scan acquisition with gVXR and recontruct it with CIL. -->\n",
    "\n",
    "![Illustration here]()\n",
    "\n",
    "<div class=\"alert alert-block alert-warning\">\n",
    "    <b>Note:</b> Make sure the Python packages are already installed. See <a href=\"../README.md\">README.md</a> in the root directory of the repository. If you are running this notebook from Google Colab, please run the cell below to install the package with `!pip install gvxr`\n",
    "</div>"
   ]
  },
  {
   "cell_type": "code",
   "execution_count": null,
   "metadata": {},
   "outputs": [],
   "source": [
    "import sys\n",
    "IN_COLAB = 'google.colab' in sys.modules\n",
    "\n",
    "if IN_COLAB:\n",
    "    !apt-get install libnvidia-gl-575\n",
    "    !pip install -q condacolab\n",
    "    import condacolab\n",
    "    condacolab.install()\n",
    "\n",
    "    !conda install -y -c conda-forge -c https://software.repos.intel.com/python/conda -c ccpi cil=24.3.0 ipp=2021.12 tigre\n",
    "\n",
    "    !pip install gvxr"
   ]
  },
  {
   "cell_type": "code",
   "execution_count": null,
   "metadata": {},
   "outputs": [],
   "source": [
    "# import os # Create the output directory if necessary\n",
    "# import numpy as np # Who does not use Numpy?\n",
    "\n",
    "# from tifffile import  imread\n",
    "# import matplotlib.pyplot as plt # Plotting\n",
    "import matplotlib.pyplot as plt\n",
    "\n",
    "# from tqdm.notebook import tqdm\n",
    "\n",
    "# User interface\n",
    "import IPython\n",
    "from IPython.display import display\n",
    "from ipywidgets import widgets, Layout\n",
    "\n",
    "#  CT simulation\n",
    "\n",
    "# from gvxrPython3 import gvxr\n",
    "# from gvxrPython3.gVXRDataReader import *\n",
    "\n",
    "# # CT reconstruction\n",
    "# from cil.recon import FDK # For CBCT\n",
    "# from cil.recon import FBP # For parallel beam geometry\n",
    "\n",
    "# from cil.io import TIFFWriter\n",
    "\n",
    "# from cil.processors import TransmissionAbsorptionConverter\n",
    "# from cil.utilities.display import show_geometry, show2D"
   ]
  },
  {
   "cell_type": "markdown",
   "metadata": {},
   "source": [
    "Import the twin"
   ]
  },
  {
   "cell_type": "code",
   "execution_count": null,
   "metadata": {},
   "outputs": [],
   "source": [
    "from gvxrPython3.twins.utils import createDigitalTwin"
   ]
  },
  {
   "cell_type": "code",
   "execution_count": null,
   "metadata": {},
   "outputs": [],
   "source": [
    "twin = createDigitalTwin(name=\"DiaD\")"
   ]
  },
  {
   "cell_type": "code",
   "execution_count": null,
   "metadata": {},
   "outputs": [],
   "source": [
    "help(twin)"
   ]
  },
  {
   "cell_type": "code",
   "execution_count": null,
   "metadata": {},
   "outputs": [],
   "source": [
    "twin.get_beams()"
   ]
  },
  {
   "cell_type": "code",
   "execution_count": null,
   "metadata": {},
   "outputs": [],
   "source": [
    "twin.source"
   ]
  },
  {
   "cell_type": "code",
   "execution_count": null,
   "metadata": {},
   "outputs": [],
   "source": [
    "twin.set_beam(twin.get_beams()[1])\n",
    "print(twin.source)\n",
    "print(twin.beam)"
   ]
  },
  {
   "cell_type": "code",
   "execution_count": null,
   "metadata": {},
   "outputs": [],
   "source": [
    "help(twin.beam)"
   ]
  },
  {
   "cell_type": "code",
   "execution_count": null,
   "metadata": {},
   "outputs": [],
   "source": [
    "twin.source.filters"
   ]
  },
  {
   "cell_type": "code",
   "execution_count": null,
   "metadata": {},
   "outputs": [],
   "source": []
  },
  {
   "cell_type": "code",
   "execution_count": null,
   "metadata": {},
   "outputs": [],
   "source": []
  },
  {
   "cell_type": "markdown",
   "metadata": {},
   "source": [
    "Function to create a small UI"
   ]
  },
  {
   "cell_type": "code",
   "execution_count": null,
   "metadata": {},
   "outputs": [],
   "source": [
    "def creatreUI():\n",
    "\n",
    "    global twin\n",
    "\n",
    "    twin_min_energy = 7\n",
    "    twin_max_energy = 38\n",
    "\n",
    "    # Select the spectrum to use\n",
    "    # spectrum_type_widget = widgets.RadioButtons(\n",
    "    #     options=['Monochromatic', 'Pink-beam (low angle)', 'Pink-beam (high angle)'],\n",
    "    #     # description='Beam spectrum:',\n",
    "    #     disabled=False,\n",
    "    #     value='Monochromatic',\n",
    "    #     layout={'width': 'max-content'}\n",
    "    # )\n",
    "\n",
    "    spectrum_type_widget = widgets.Select(\n",
    "        options=twin.get_beams(),\n",
    "        # description='Beam spectrum:',\n",
    "        disabled=False,\n",
    "        value=twin.get_beams()[0],\n",
    "        layout={'width': 'max-content'}\n",
    "    )\n",
    "\n",
    "    # Make it look nice\n",
    "    beam_selection_box = widgets.Box(\n",
    "        [\n",
    "            widgets.Label(value='Select the type of spectrum:'), \n",
    "            spectrum_type_widget\n",
    "        ]\n",
    "    )\n",
    "\n",
    "    # If you selected a pink beam, i.e. a poychromatic beam as the monochromator was not used, you may select a filter.\n",
    "    filter_material_type_widget = widgets.Select(\n",
    "        options=['None', 'Al', 'Cu'],\n",
    "        # description='Filter material:',\n",
    "        disabled=False,\n",
    "        value='None',\n",
    "        layout={'width': 'max-content'}\n",
    "    )\n",
    "\n",
    "    # If you selected a pink beam, i.e. a poychromatic beam as the monochromator was not used, you may select a filter.\n",
    "    filter_thickness_widget = widgets.Select(\n",
    "        options=['0.5', '1.0'],\n",
    "        # description='Filter thickness [mm]:',\n",
    "        disabled=False,\n",
    "        value='0.5',\n",
    "        layout={'width': 'max-content'}\n",
    "    )\n",
    "\n",
    "    filter_selection_box = widgets.Box(\n",
    "        [\n",
    "            widgets.Label(value='Filter material:'), \n",
    "            filter_material_type_widget, \n",
    "            widgets.Label(value='Filter thickness [mm]:'), \n",
    "            filter_thickness_widget\n",
    "        ]\n",
    "    )\n",
    "\n",
    "    # Else select the energy\n",
    "    energy_selector_widget = widgets.FloatSlider(\n",
    "        value=twin_min_energy + (twin_max_energy - twin_min_energy) / 2.0,\n",
    "        min=twin_min_energy,\n",
    "        max=twin_max_energy,\n",
    "        step=0.1,\n",
    "        # description='Mono-energy [keV]:',\n",
    "        disabled=False,\n",
    "        continuous_update=False,\n",
    "        orientation='horizontal',\n",
    "        readout=True,\n",
    "        readout_format='.1f',\n",
    "    )\n",
    "\n",
    "    # Make it look nice\n",
    "    mono_energy_box = widgets.Box(\n",
    "        [\n",
    "            widgets.Label(value='Mono-energy [keV]:'), \n",
    "            energy_selector_widget\n",
    "        ]\n",
    "    )\n",
    "\n",
    "\n",
    "    if spectrum_type_widget.value == 'Monochromatic':\n",
    "        filter_selection_box.disabled = True\n",
    "\n",
    "        for child in filter_selection_box.children:\n",
    "            child.disabled = True\n",
    "\n",
    "        for child in mono_energy_box.children:\n",
    "            child.disabled = False\n",
    "\n",
    "    else:\n",
    "        filter_selection_box.disabled = False\n",
    "\n",
    "        for child in filter_selection_box.children:\n",
    "            child.disabled = False\n",
    "\n",
    "        for child in mono_energy_box.children:\n",
    "            child.disabled = True\n",
    "    \n",
    "    # Select the exposure\n",
    "    exposure_widget = widgets.FloatSlider(\n",
    "        value=0.1,\n",
    "        min=0.5,\n",
    "        max=1.0,\n",
    "        step=0.1,\n",
    "        # description='Exposure [sec]:',\n",
    "        disabled=False,\n",
    "        continuous_update=False,\n",
    "        orientation='horizontal',\n",
    "        readout=True,\n",
    "        readout_format='.1f',\n",
    "    )\n",
    "\n",
    "    # Make it look nice\n",
    "    exposure_box = widgets.Box(\n",
    "        [\n",
    "            widgets.Label(value='Exposure [sec]:'), \n",
    "            exposure_widget\n",
    "        ]\n",
    "    )\n",
    "\n",
    "    # Plot the correspoding spectrum\n",
    "\n",
    "\n",
    "\n",
    "    spectrum_plot_widget = widgets.Output(layout=Layout(width='50%'))\n",
    "\n",
    "\n",
    "    def on_spectrum_type_value_change(change):\n",
    "        # Update the UI\n",
    "        if change['new'] == 'Monochromatic':\n",
    "            filter_selection_box.disabled = True\n",
    "\n",
    "            for child in filter_selection_box.children:\n",
    "                child.disabled = True\n",
    "\n",
    "            for child in mono_energy_box.children:\n",
    "                child.disabled = False\n",
    "\n",
    "        else:\n",
    "            filter_selection_box.disabled = False\n",
    "\n",
    "            for child in filter_selection_box.children:\n",
    "                child.disabled = False\n",
    "\n",
    "            for child in mono_energy_box.children:\n",
    "                child.disabled = True\n",
    "\n",
    "        # Plot the spectrum\n",
    "        self.update_spectrum_plot()\n",
    "\n",
    "    def on_filter_material_value_change(change):\n",
    "        self.update_spectrum_plot()\n",
    "\n",
    "    def on_energy_value_change(change):\n",
    "\n",
    "        # Change the energy\n",
    "        diad.beam.kev = change[\"new\"]\n",
    "        self.update_spectrum_plot()\n",
    "\n",
    "\n",
    "\n",
    "    def update_spectrum_plot(self):\n",
    "        with spectrum_plot_widget:\n",
    "            # print(change[\"new\"])\n",
    "\n",
    "            IPython.display.clear_output(True)\n",
    "            fig = plt.figure(figsize=(10,5), dpi=90)\n",
    "            fig.canvas.toolbar_visible = False\n",
    "            ax = fig.add_subplot(111)\n",
    "            ax.plot([0,1,2], [0,exposure_widget.value,2])\n",
    "            ax.set_xlabel(\"Incident energy [keV]\")\n",
    "            ax.set_ylabel(\"Number of photons\")\n",
    "            plt.show()\n",
    "\n",
    "    # Update the visibility of widgets\n",
    "    spectrum_type_widget.observe(on_spectrum_type_value_change, names='value')\n",
    "\n",
    "    # Update the filter thicknesses based on the material\n",
    "    filter_material_type_widget.observe(on_filter_material_value_change, names='value')\n",
    "\n",
    "    # Update the spectrum\n",
    "    spectrum_type_widget.observe(on_energy_value_change, names='value')\n",
    "    energy_selector_widget.observe(on_energy_value_change, names='value')\n",
    "    filter_material_type_widget.observe(on_energy_value_change, names='value')\n",
    "    filter_thickness_widget.observe(on_energy_value_change, names='value')\n",
    "    exposure_widget.observe(on_energy_value_change, names='value')\n",
    "\n",
    "\n",
    "    layout_left_column = widgets.VBox([beam_selection_box, mono_energy_box, filter_selection_box, exposure_box])\n",
    "    layout_two_columns = widgets.HBox([layout_left_column, spectrum_plot_widget])\n",
    "\n",
    "\n",
    "    display(layout_two_columns)\n",
    "\n",
    "creatreUI()"
   ]
  },
  {
   "cell_type": "markdown",
   "metadata": {},
   "source": [
    "Instantiate the twin"
   ]
  },
  {
   "cell_type": "code",
   "execution_count": null,
   "metadata": {},
   "outputs": [],
   "source": [
    "twin = None"
   ]
  },
  {
   "cell_type": "markdown",
   "metadata": {},
   "source": [
    "Display the UI"
   ]
  },
  {
   "cell_type": "code",
   "execution_count": null,
   "metadata": {},
   "outputs": [],
   "source": [
    "creatreUI(twin)"
   ]
  },
  {
   "cell_type": "code",
   "execution_count": null,
   "metadata": {},
   "outputs": [],
   "source": []
  },
  {
   "cell_type": "markdown",
   "metadata": {},
   "source": [
    "## Getting the data ready\n",
    "\n",
    "Where to save the data."
   ]
  },
  {
   "cell_type": "code",
   "execution_count": null,
   "metadata": {},
   "outputs": [],
   "source": [
    "output_path = \"../notebooks/output_data/DIAD\"\n",
    "if not os.path.exists(output_path):\n",
    "    os.makedirs(output_path)"
   ]
  },
  {
   "cell_type": "markdown",
   "metadata": {},
   "source": [
    "## 1. Set the simulation environment"
   ]
  },
  {
   "cell_type": "code",
   "execution_count": null,
   "metadata": {},
   "outputs": [],
   "source": [
    "# Create an OpenGL context\n",
    "print(\"Create an OpenGL context\");\n",
    "gvxr.createOpenGLContext();"
   ]
  },
  {
   "cell_type": "code",
   "execution_count": null,
   "metadata": {},
   "outputs": [],
   "source": [
    "rotation_centre = [0, 0, 0]"
   ]
  },
  {
   "cell_type": "code",
   "execution_count": null,
   "metadata": {},
   "outputs": [],
   "source": [
    "# Create a source\n",
    "print(\"Set up the beam\")\n",
    "gvxr.setSourcePosition(-40.0,  0.0, 0.0, \"cm\")\n",
    "gvxr.usePointSource()\n",
    "#  For a parallel source, use gvxr.useParallelBeam()"
   ]
  },
  {
   "cell_type": "code",
   "execution_count": null,
   "metadata": {},
   "outputs": [],
   "source": [
    "# Set its spectrum, here a monochromatic beam\n",
    "# 1000 photons of 80 keV (i.e. 0.08 MeV) per ray\n",
    "gvxr.addEnergyBinToSpectrumPerPixelAtSDD(33, \"keV\", 97)\n",
    "gvxr.addEnergyBinToSpectrumPerPixelAtSDD(66, \"keV\", 2)\n",
    "gvxr.addEnergyBinToSpectrumPerPixelAtSDD(99, \"keV\", 1)"
   ]
  },
  {
   "cell_type": "code",
   "execution_count": null,
   "metadata": {},
   "outputs": [],
   "source": [
    "# Set up the detector\n",
    "print(\"Set up the detector\")\n",
    "gvxr.setDetectorPosition(10.0, 0.0, 0.0, \"cm\")\n",
    "gvxr.setDetectorUpVector(0, 0, 1)\n",
    "gvxr.setDetectorNumberOfPixels(1000, 3)\n",
    "gvxr.setDetectorPixelSize(1.0, 1.0, \"um\")\n",
    "gvxr.setScintillator(\"GGG\", 170, \"um\")"
   ]
  },
  {
   "cell_type": "markdown",
   "metadata": {},
   "source": [
    "## 2. Create the sample from a segmented image"
   ]
  },
  {
   "cell_type": "markdown",
   "metadata": {},
   "source": [
    "Read the image"
   ]
  },
  {
   "cell_type": "code",
   "execution_count": null,
   "metadata": {},
   "outputs": [],
   "source": [
    "labels = imread(\"../data/labels.tif\")\n",
    "voxel_size = [1.5, 1.5, 1.5]\n",
    "unit = \"um\""
   ]
  },
  {
   "cell_type": "markdown",
   "metadata": {},
   "source": [
    "Display the image"
   ]
  },
  {
   "cell_type": "code",
   "execution_count": null,
   "metadata": {},
   "outputs": [],
   "source": [
    "plt.figure()\n",
    "plt.imshow(labels,\n",
    "    origin='upper',\n",
    "    extent=[0.0, voxel_size[0] * labels.shape[1],\n",
    "        0.0, voxel_size[1] * labels.shape[0]]\n",
    ")\n",
    "plt.xlabel(\"Pixel position [\" + unit + \"]\")\n",
    "plt.ylabel(\"Pixel position [\" + unit + \"]\")\n",
    "plt.show()"
   ]
  },
  {
   "cell_type": "markdown",
   "metadata": {},
   "source": [
    "Make sure it is a 3D image"
   ]
  },
  {
   "cell_type": "code",
   "execution_count": null,
   "metadata": {},
   "outputs": [],
   "source": [
    "if len(labels.shape) == 2:\n",
    "    labels.shape = [1, *labels.shape]"
   ]
  },
  {
   "cell_type": "markdown",
   "metadata": {},
   "source": [
    "Associate the labels with actual materials"
   ]
  },
  {
   "cell_type": "code",
   "execution_count": null,
   "metadata": {},
   "outputs": [],
   "source": [
    "material_composition = {\n",
    "    112: {\n",
    "        'material type': 'element', \n",
    "        'material': 'C', \n",
    "        'density': 2.26\n",
    "    }\n",
    "    ,\n",
    "\n",
    "    170: {\n",
    "        'material type': 'compound', \n",
    "        'material': 'SiC', \n",
    "        'density': 3.21\n",
    "    },\n",
    "\n",
    "    202: {\n",
    "        'material type': 'mixture', \n",
    "        'material': 'Ti90Al6V4', \n",
    "        'density': 4.43\n",
    "    }\n",
    "}"
   ]
  },
  {
   "cell_type": "markdown",
   "metadata": {},
   "source": [
    "Process the segmentation to create iso surfaces"
   ]
  },
  {
   "cell_type": "code",
   "execution_count": null,
   "metadata": {},
   "outputs": [],
   "source": [
    "for label in tqdm(np.unique(labels)):\n",
    "\n",
    "    if label in material_composition.keys():\n",
    "        selected_material = material_composition[label]\n",
    "        mesh_label = material_composition[label]['material']\n",
    "\n",
    "        print(\"Process\", mesh_label)\n",
    "\n",
    "        # Select the structure\n",
    "        binary_image = (labels == label).astype(np.uint8)\n",
    "\n",
    "        # Apply the Marching cubes\n",
    "        gvxr.makeIsoSurface(mesh_label,\n",
    "            binary_image,\n",
    "            1,\n",
    "            *rotation_centre,\n",
    "            *voxel_size,\n",
    "            \"um\"\n",
    "        )\n",
    "\n",
    "        # Save the mesh as an STL file\n",
    "        gvxr.saveSTLfile(mesh_label, os.path.join(output_path, mesh_label+\".stl\"))\n",
    "\n",
    "        # Set the material\n",
    "        if selected_material['material type'].upper() == 'ELEMENT':\n",
    "            print(\"\\tUse element\", mesh_label)\n",
    "            gvxr.setElement(mesh_label, mesh_label)\n",
    "\n",
    "            if \"density\" in selected_material:\n",
    "                gvxr.setDensity(mesh_label, selected_material[\"density\"], \"g/cm3\")\n",
    "\n",
    "        elif selected_material['material type'].upper() == 'COMPOUND':\n",
    "            print(\"\\tUse compound\", mesh_label)\n",
    "            gvxr.setCompound(mesh_label, mesh_label)\n",
    "            gvxr.setDensity(mesh_label, selected_material[\"density\"], \"g/cm3\")\n",
    "        \n",
    "        elif selected_material['material type'].upper() == 'MIXTURE':\n",
    "            print(\"\\tUse mixture\", mesh_label)\n",
    "            gvxr.setMixture(mesh_label, mesh_label)\n",
    "            gvxr.setDensity(mesh_label, selected_material[\"density\"], \"g/cm3\")\n",
    "        \n",
    "        else:\n",
    "            raise IOError(\"Invalid material type\")\n",
    "\n",
    "        # Add the material\n",
    "        gvxr.addPolygonMeshAsInnerSurface(mesh_label)\n",
    "    else:\n",
    "        print(label, \"is not in\", material_composition)\n"
   ]
  },
  {
   "cell_type": "markdown",
   "metadata": {},
   "source": [
    "Simulate the CT scan"
   ]
  },
  {
   "cell_type": "code",
   "execution_count": null,
   "metadata": {},
   "outputs": [],
   "source": [
    "rotation_centre = [0, 0, 0]\n",
    "number_of_projections = 3000\n",
    "\n",
    "gvxr.computeCTAcquisition(\n",
    "    os.path.join(output_path, \"projections\"), # The path where the X-ray projections will be saved\n",
    "    \"\", # The path where the screenshots will be saved\n",
    "    number_of_projections, # The total number of projections to simulate\n",
    "    0, # The rotation angle corresponding to the first projection\n",
    "    False, # A boolean flag to include or exclude the last angle\n",
    "    360, # The rotation angle corresponding to the first projection\n",
    "    50, # The number of white images used to perform the flat-field correction\n",
    "    *rotation_centre, # The location of the rotation centre\n",
    "    \"mm\", # The corresponding unit of length\n",
    "    0, 0, 1 # The rotation axis\n",
    ")  "
   ]
  },
  {
   "cell_type": "markdown",
   "metadata": {},
   "source": [
    "Read the simulated data with CIL"
   ]
  },
  {
   "cell_type": "code",
   "execution_count": null,
   "metadata": {},
   "outputs": [],
   "source": [
    "reader = gVXRDataReader(gvxr.getProjectionOutputPathCT(),\n",
    "    gvxr.getAngleSetCT(),\n",
    "    rotation_centre)\n",
    "\n",
    "data = reader.read()"
   ]
  },
  {
   "cell_type": "code",
   "execution_count": null,
   "metadata": {},
   "outputs": [],
   "source": [
    "print(\"data.geometry\", data.geometry)"
   ]
  },
  {
   "cell_type": "markdown",
   "metadata": {},
   "source": [
    "Apply the minus log transformation (use use white_level=1.0 as the flat-field correction is already applied)"
   ]
  },
  {
   "cell_type": "code",
   "execution_count": null,
   "metadata": {},
   "outputs": [],
   "source": [
    "data_corr = TransmissionAbsorptionConverter(white_level=1.0)(data)"
   ]
  },
  {
   "cell_type": "code",
   "execution_count": null,
   "metadata": {},
   "outputs": [],
   "source": [
    "data_corr.reorder(order='tigre')"
   ]
  },
  {
   "cell_type": "markdown",
   "metadata": {},
   "source": [
    "We only want to reconstruct the slice in the middle of the volume"
   ]
  },
  {
   "cell_type": "code",
   "execution_count": null,
   "metadata": {},
   "outputs": [],
   "source": [
    "ig = data_corr.geometry.get_ImageGeometry();\n",
    "\n",
    "ig.voxel_num_z = 1\n",
    "print(\"Image geometry\", ig)"
   ]
  },
  {
   "cell_type": "code",
   "execution_count": null,
   "metadata": {},
   "outputs": [],
   "source": [
    "# Perform the reconstruction with CIL\n",
    "FDK_reconstruction = FDK(data_corr, ig).run()"
   ]
  },
  {
   "cell_type": "markdown",
   "metadata": {},
   "source": [
    "Apply a circular mask as we simulated a region of interest scan"
   ]
  },
  {
   "cell_type": "code",
   "execution_count": null,
   "metadata": {},
   "outputs": [],
   "source": [
    "FDK_reconstruction.apply_circular_mask()"
   ]
  },
  {
   "cell_type": "markdown",
   "metadata": {},
   "source": [
    "Save the reconstructed CT images"
   ]
  },
  {
   "cell_type": "code",
   "execution_count": null,
   "metadata": {},
   "outputs": [],
   "source": [
    "writer = TIFFWriter(data=FDK_reconstruction, file_name=os.path.join(output_path, \"recons-\" + str(number_of_projections), \"slice_\"), compression=\"uint16\");\n",
    "writer.write();"
   ]
  },
  {
   "cell_type": "markdown",
   "metadata": {},
   "source": [
    "Show the CT slice"
   ]
  },
  {
   "cell_type": "code",
   "execution_count": null,
   "metadata": {},
   "outputs": [],
   "source": [
    "show2D(FDK_reconstruction)"
   ]
  },
  {
   "cell_type": "markdown",
   "metadata": {},
   "source": [
    "# Cleaning up\n",
    "\n",
    "Once we have finished, it is good practice to clean up the OpenGL contexts and windows with the following command. Note that due to the object-oriented programming nature of the core API of gVXR, this step is automatic anyway."
   ]
  },
  {
   "cell_type": "code",
   "execution_count": null,
   "metadata": {},
   "outputs": [],
   "source": [
    "gvxr.destroy()"
   ]
  }
 ],
 "metadata": {
  "kernelspec": {
   "display_name": "DIAD2gVXR",
   "language": "python",
   "name": "python3"
  },
  "language_info": {
   "codemirror_mode": {
    "name": "ipython",
    "version": 3
   },
   "file_extension": ".py",
   "mimetype": "text/x-python",
   "name": "python",
   "nbconvert_exporter": "python",
   "pygments_lexer": "ipython3",
   "version": "3.11.11"
  },
  "orig_nbformat": 4
 },
 "nbformat": 4,
 "nbformat_minor": 2
}
