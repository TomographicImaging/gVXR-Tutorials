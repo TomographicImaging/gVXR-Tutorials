{
 "cells": [
  {
   "cell_type": "markdown",
   "metadata": {
    "id": "4DrP1n1sjg-e"
   },
   "source": [
    "<a href=\"https://colab.research.google.com/github/TomographicImaging/gVXR-Tutorials/blob/main/notebooks/visualisation.ipynb\" target=\"_parent\"><img src=\"https://colab.research.google.com/assets/colab-badge.svg\" alt=\"Open In Colab\"/></a>"
   ]
  },
  {
   "cell_type": "code",
   "execution_count": null,
   "metadata": {
    "id": "be4b4b61-7abb-440c-9605-486bce082901"
   },
   "outputs": [],
   "source": [
    "# -*- coding: utf-8 -*-\n",
    "#\n",
    "#  Copyright 2024 United Kingdom Research and Innovation\n",
    "#\n",
    "#  Licensed under the Apache License, Version 2.0 (the \"License\");\n",
    "#  you may not use this file except in compliance with the License.\n",
    "#  You may obtain a copy of the License at\n",
    "#\n",
    "#      http://www.apache.org/licenses/LICENSE-2.0\n",
    "#\n",
    "#  Unless required by applicable law or agreed to in writing, software\n",
    "#  distributed under the License is distributed on an \"AS IS\" BASIS,\n",
    "#  WITHOUT WARRANTIES OR CONDITIONS OF ANY KIND, either express or implied.\n",
    "#  See the License for the specific language governing permissions and\n",
    "#  limitations under the License.\n",
    "#\n",
    "#   Authored by:    Franck Vidal (UKRI-STFC)"
   ]
  },
  {
   "cell_type": "markdown",
   "metadata": {
    "id": "LitIbS2Yjg-g",
    "tags": []
   },
   "source": [
    "![gVXR](https://github.com/TomographicImaging/gVXR-Tutorials/blob/main/img/Logo-transparent-small.png?raw=1)\n",
    "\n",
    "# Built-in 3D visualisation\n",
    "\n",
    "This notebook focuses on the 3D visualisation of the 3D visualisation of the simulation environment. In a nutshell it shares the same simulation code as [first_xray_simulation.ipynb](first_xray_simulation.ipynb).\n",
    "\n",
    "<div class=\"alert alert-block alert-warning\">\n",
    "    <b>Note:</b> Make sure the Python packages are already installed. See <a href=\"../README.md\">README.md</a> in the root directory of the repository. If you are running this notebook from Google Colab, please run the cell below to install the package with `!pip install gvxr k3d`\n",
    "</div>"
   ]
  },
  {
   "cell_type": "code",
   "execution_count": null,
   "metadata": {
    "colab": {
     "base_uri": "https://localhost:8080/"
    },
    "id": "bSYJhBjCjg-h",
    "outputId": "443ab78d-3838-498c-dfe5-addd6f3cf186"
   },
   "outputs": [],
   "source": [
    "import sys\n",
    "IN_COLAB = 'google.colab' in sys.modules\n",
    "\n",
    "if IN_COLAB:\n",
    "    !pip install gvxr k3d"
   ]
  },
  {
   "cell_type": "markdown",
   "metadata": {
    "id": "77W1AXNQjg-h"
   },
   "source": [
    "# Aims of this session\n",
    "\n",
    "1. Use K3D to interactively visualise the 3D scene in a Jupyter widget.\n",
    "2. Control the 3D visualisation features built in gVXR.\n",
    "3. Take screenshots of the 3D visualisation and save them into PNG files or plot them using Matplotlib.\n",
    "4. Experiment with the interactive 3D visualisation window.\n",
    "\n",
    "![](https://github.com/TomographicImaging/gVXR-Tutorials/blob/main/img/visualisation-k3d_screenshot.png?raw=1)"
   ]
  },
  {
   "cell_type": "markdown",
   "metadata": {
    "id": "kieFDG2djg-h",
    "tags": []
   },
   "source": [
    "# Main steps\n",
    "\n",
    "1. Initialise and run the simulation\n",
    "2. 3D visualisation with K3D in the notebook\n",
    "3. Static build-in visualisation (in a window if available or using offscreen rendering)\n",
    "4. Interactive visualisation window if possible"
   ]
  },
  {
   "cell_type": "markdown",
   "metadata": {
    "id": "rxBXwyIbjg-i"
   },
   "source": [
    "# Cheat Sheet\n",
    "\n",
    "\n",
    "\n",
    "\n",
    "| Functions | Descriptions |\n",
    "|-----------|--------------|\n",
    "| `gvxr.createOpenGLContext` | Create a simulation environment automatically. You must call either `gvxr.createOpenGLContext()` or `gvxr.createNewContext()` before any other functions from gVXR. |\n",
    "| `gvxr.setSourcePosition` | Set the position of the X-ray source. |\n",
    "| `gvxr.usePointSource` | Use a point source, i.e. a cone-beam geometry. |\n",
    "| `gvxr.setMonoChromatic` | Use a monochromatic beam spectrum (i.e. one single energy). |\n",
    "| `gvxr.setDetectorPosition` | Set the position of the X-ray detector. |\n",
    "| `gvxr.setDetectorUpVector` | Set the up-vector defining the orientation of the X-ray detector. |\n",
    "| `gvxr.setDetectorNumberOfPixels` | Set the number of pixels of the X-ray detector. |\n",
    "| `gvxr.setDetectorPixelSize` | Set the pixel size. Same as the function setDetectorPixelPitch. |\n",
    "| `gvxr.makeCuboid` | Create a cuboid, centred on (0, 0, 0) and set its label in the scenegraph |\n",
    "| `gvxr.makeSphere` | Create a sphere and set its label in the scenegraph (i.e. identifier). |\n",
    "| `gvxr.addPolygonMeshAsOuterSurface` | Add a polygon mesh, given its label, to the X-ray renderer as an outer surface. |\n",
    "| `gvxr.addPolygonMeshAsInnerSurface` | Add a polygon mesh, given its label, to the X-ray renderer as an inner surface. |\n",
    "| `gvxr.setElement` | Set the chemical element (or element) corresponding to the material properties. |\n",
    "| `gvxr.setCompound` | Set the compound corresponding to the material properties of a polygon mesh. |\n",
    "| `gvxr.setDensity` | Set the density corresponding to the material properties of a polygon mesh. |\n",
    "| `gvxr.computeXRayImage` | Compute the X-ray projection corresponding to the environment that has previously been set. |\n",
    "| `gvxr.displayScene` | 3-D visualisation of the 3-D scene (source, detector, and scanned objects). |\n",
    "| `gvxr.setColour` | Set the colour of a given polygon mesh. |\n",
    "| `gvxr.takeScreenshot` | Take screenshot. |\n",
    "| `gvxr.setWindowBackGroundColour` | Set window background colour. |\n",
    "| `gvxr.setAxisLength` | ***** MISSING ***** |\n",
    "| `gvxr.getZoom` | ***** MISSING ***** |\n",
    "| `gvxr.getSceneRotationMatrix` | ***** MISSING ***** |\n",
    "| `gvxr.setZoom` | ***** MISSING ***** |\n",
    "| `gvxr.setSceneRotationMatrix` | ***** MISSING ***** |\n",
    "| `gvxr.displayBeam` | ***** MISSING ***** |\n",
    "| `gvxr.displayNormalVectors` | ***** MISSING ***** |\n",
    "| `gvxr.useWireframe` | ***** MISSING ***** |\n",
    "| `gvxr.renderLoop` | 3-D visualisation of the 3-D scene (source, detector, and scanned objects). |\n",
    "| `gvxr.terminate` | Close and destroy all the windows and simulation contexts that have been created. No further gVXR's function should be called after `gvxr.terminate`. |"
   ]
  },
  {
   "cell_type": "markdown",
   "metadata": {
    "id": "98anuGe-jg-i"
   },
   "source": [
    "## Import packages\n",
    "\n",
    "- `os` to create the output directory if needed\n",
    "- `matplotlib` to show 2D images\n",
    "- `tifffile` to write TIFF files\n",
    "- `gvxr` to simulate X-ray images\n",
    "- `base64` to save a K3D visualisation into a PNG file"
   ]
  },
  {
   "cell_type": "code",
   "execution_count": null,
   "metadata": {
    "id": "s52pDB3Gjg-j"
   },
   "outputs": [],
   "source": [
    "# Import packages\n",
    "from math import cos, sin, pi\n",
    "import os # Create the output directory if necessary\n",
    "import numpy as np # Who does not use Numpy?\n",
    "\n",
    "import matplotlib # To plot images\n",
    "import matplotlib.pyplot as plt # Plotting\n",
    "from matplotlib.colors import LogNorm # Look up table\n",
    "from matplotlib.colors import PowerNorm # Look up table\n",
    "\n",
    "font = {'family' : 'serif',\n",
    "         'size'   : 15\n",
    "       }\n",
    "matplotlib.rc('font', **font)\n",
    "\n",
    "# Uncomment the line below to use LaTeX fonts\n",
    "# matplotlib.rc('text', usetex=True)\n",
    "\n",
    "import base64\n",
    "\n",
    "from gvxrPython3 import gvxr # Simulate X-ray images\n",
    "from gvxrPython3.utils import visualise # 3D interactive visualisation within the notebook using K3D"
   ]
  },
  {
   "cell_type": "markdown",
   "metadata": {
    "id": "OnwGMeOPjg-j"
   },
   "source": [
    "Make sure the output directory exists"
   ]
  },
  {
   "cell_type": "code",
   "execution_count": null,
   "metadata": {
    "id": "rkTT54qYjg-k"
   },
   "outputs": [],
   "source": [
    "output_path = \"output_data/visualisation\"\n",
    "if not os.path.exists(output_path):\n",
    "    os.makedirs(output_path);"
   ]
  },
  {
   "cell_type": "markdown",
   "metadata": {
    "id": "cvuPTNdejg-k"
   },
   "source": [
    "# 1. Initialise and run the simulation\n",
    "\n",
    "All the same as before. Nothing has changed until we look at some visualisation."
   ]
  },
  {
   "cell_type": "code",
   "execution_count": null,
   "metadata": {
    "colab": {
     "base_uri": "https://localhost:8080/"
    },
    "id": "O3l2mW4Fjg-k",
    "outputId": "d420b660-1997-460e-ecc0-45677479141d"
   },
   "outputs": [],
   "source": [
    "# Create an OpenGL context\n",
    "print(\"Create an OpenGL context\");\n",
    "gvxr.createOpenGLContext();"
   ]
  },
  {
   "cell_type": "code",
   "execution_count": null,
   "metadata": {
    "colab": {
     "base_uri": "https://localhost:8080/"
    },
    "id": "pc9fhhNojg-k",
    "outputId": "a745ddab-caa6-40bd-a8c9-2815b3452879"
   },
   "outputs": [],
   "source": [
    "# Create a source\n",
    "print(\"Set up the beam\");\n",
    "gvxr.setSourcePosition(-20.0,  0.0, 0.0, \"cm\");\n",
    "gvxr.usePointSource();\n",
    "#  For a parallel source, use gvxr.useParallelBeam();"
   ]
  },
  {
   "cell_type": "code",
   "execution_count": null,
   "metadata": {
    "id": "tA4L8T8Njg-l"
   },
   "outputs": [],
   "source": [
    "# Set its spectrum, here a monochromatic beam\n",
    "# 1000 photons of 80 keV (i.e. 0.08 MeV) per ray\n",
    "gvxr.setMonoChromatic(0.08, \"MeV\", 1000);\n",
    "# The following is equivalent: gvxr.setMonoChromatic(80, \"keV\", 1000);"
   ]
  },
  {
   "cell_type": "code",
   "execution_count": null,
   "metadata": {
    "colab": {
     "base_uri": "https://localhost:8080/"
    },
    "id": "ntxrdc-4jg-l",
    "outputId": "f3bad6c0-7b8d-4944-c5ca-591bf103bbbe"
   },
   "outputs": [],
   "source": [
    "# Set up the detector\n",
    "print(\"Set up the detector\");\n",
    "gvxr.setDetectorPosition(20.0, 0.0, 0.0, \"cm\");\n",
    "gvxr.setDetectorUpVector(0, 0, -1);\n",
    "gvxr.setDetectorNumberOfPixels(640, 320);\n",
    "gvxr.setDetectorPixelSize(0.5, 0.5, \"mm\");"
   ]
  },
  {
   "cell_type": "code",
   "execution_count": null,
   "metadata": {},
   "outputs": [],
   "source": [
    "gvxr.makeCuboid(\"Cuboid\", 5, 4, 3, \"cm\")\n",
    "gvxr.makeSphere(\"Sphere\", 15, 15, 1, \"cm\")\n",
    "\n",
    "gvxr.addPolygonMeshAsOuterSurface(\"Cuboid\")\n",
    "gvxr.addPolygonMeshAsInnerSurface(\"Sphere\")"
   ]
  },
  {
   "cell_type": "code",
   "execution_count": null,
   "metadata": {
    "colab": {
     "base_uri": "https://localhost:8080/"
    },
    "id": "eHcPG40ejg-n",
    "outputId": "77ffa855-290a-4c67-e5a1-47d1c6f91267"
   },
   "outputs": [],
   "source": [
    "# Material properties\n",
    "\n",
    "# Carbon\n",
    "gvxr.setElement(\"Sphere\", \"C\");\n",
    "\n",
    "# Liquid water\n",
    "gvxr.setCompound(\"Cuboid\", \"H2O\");\n",
    "gvxr.setDensity(\"Cuboid\", 1.0, \"g/cm3\");"
   ]
  },
  {
   "cell_type": "code",
   "execution_count": null,
   "metadata": {
    "colab": {
     "base_uri": "https://localhost:8080/"
    },
    "id": "JJzNcr72jg-n",
    "outputId": "f5c3a00b-a490-4cc2-e27f-8bb705fe355b"
   },
   "outputs": [],
   "source": [
    "# Compute an X-ray image\n",
    "# We convert the array in a Numpy structure and store the data using single-precision floating-point numbers.\n",
    "print(\"Compute an X-ray image\");\n",
    "x_ray_image = gvxr.computeXRayImage();\n",
    "\n",
    "# Update the visualisation window\n",
    "gvxr.displayScene();"
   ]
  },
  {
   "cell_type": "markdown",
   "metadata": {},
   "source": [
    "# 2. 3D visualisation\n",
    "\n",
    "It may be useful to visualise the 3D environment to ascertain everything is as expected. 3 different visualisation mode are available.\n",
    "\n",
    "1. [K3D](https://github.com/K3D-tools/K3D-jupyter),\n",
    "2. Built-in static visualisation, and\n",
    "3. Built-in interactive visualisation."
   ]
  },
  {
   "cell_type": "markdown",
   "metadata": {},
   "source": [
    "You can control the colour of a given 3D object using\n",
    "```python\n",
    "gvxr.setColour(string_ID, red, green, blue, alpha)\n",
    "```\n",
    "- `string_ID` is the identifier of the 3D object.\n",
    "- `red`, `green`, `blue` and `alpha` are values in the range [0, 1].\n",
    "- `red`, `green` and `blue` control its actual colour.\n",
    "- `alpha` controls its opacity.\n",
    "\n",
    "---\n",
    "## Task:\n",
    "\n",
    "Change the colour of the cuboid so that it is bright red."
   ]
  },
  {
   "cell_type": "code",
   "execution_count": null,
   "metadata": {},
   "outputs": [],
   "source": []
  },
  {
   "cell_type": "code",
   "execution_count": null,
   "metadata": {},
   "outputs": [],
   "source": [
    "# %load 'snippets/visualisation-01.py'"
   ]
  },
  {
   "cell_type": "markdown",
   "metadata": {},
   "source": [
    "## 2.1 [K3D](https://github.com/K3D-tools/K3D-jupyter)\n",
    "\n",
    "- It is only available in Jupyter notebook. You first need to import the function from the `utils` subpackage.\n",
    "    ```python\n",
    "    from gvxrPython3.utils import visualise\n",
    "    ```\n",
    "- The function takes 4 optional parameters:\n",
    "    - `use_log`: Display the X-ray image using a log scale (default: False)\n",
    "    - `use_negative`: Display the X-ray image in negative (default: False)\n",
    "    - `sharpen_ksize`: the radius of the Gaussian kernel used in the sharpening filter (default: 1)\n",
    "    - `sharpen_alpha`: the alpha value used in the sharpening filter (default: 0.0)\n",
    "- If `sharpen_alpha` is not equal to 0, then the sharpning filter as follows will be used:\n",
    "    ```python\n",
    "    # Get the details (the original image minus a blurred version of it).\n",
    "    # sharpen_ksize controls the amount of blur.\n",
    "    details = image - gaussian(image, sharpen_ksize)\n",
    "    \n",
    "    # Sharpen the image by adding the details back to the original image.\n",
    "    # sharpen_alpha controls the amount of sharpening.\n",
    "    sharpened = image + sharpen_alpha * details\n",
    "\n",
    "    # Preserve the dynamic range\n",
    "    vmin = np.min(image)\n",
    "    vmax = np.max(image)\n",
    "    sharpened[sharpened < vmin] = vmin\n",
    "    sharpened[sharpened > vmax] = vmax\n",
    "    ```"
   ]
  },
  {
   "cell_type": "markdown",
   "metadata": {},
   "source": [
    "---\n",
    "## Task:\n",
    "\n",
    "Execute the cell below. In the panel on the right-hand side, go to `Objects->Cuboid` and adjust the opacity to reveal the sphere inside."
   ]
  },
  {
   "cell_type": "code",
   "execution_count": null,
   "metadata": {},
   "outputs": [],
   "source": [
    "plot = visualise()\n",
    "if plot:\n",
    "    plot.display()"
   ]
  },
  {
   "cell_type": "markdown",
   "metadata": {},
   "source": [
    "### Improving the visualisation of the X-ray image with a log-scale\n",
    "\n",
    "The X-ray image is not that clear. we can improve it by changing the colour scale and do some image sharpening!\n",
    "\n",
    "---\n",
    "### Task:\n",
    "\n",
    "In the cell below, run the visualisation in negative and using a log-scale. For now, do not use the sharpening image filter. When the visualisation is ready, rotate and zoom in and out to familiarise yourself with the viewer."
   ]
  },
  {
   "cell_type": "code",
   "execution_count": null,
   "metadata": {},
   "outputs": [],
   "source": []
  },
  {
   "cell_type": "code",
   "execution_count": null,
   "metadata": {},
   "outputs": [],
   "source": [
    "# %load 'snippets/visualisation-02.py'"
   ]
  },
  {
   "cell_type": "markdown",
   "metadata": {},
   "source": [
    "### Improving the visualisation of the X-ray image with a sharpening filter\n",
    "\n",
    "The image is much better. Let's see if a bit of image sharpening can further improves the visualisation!\n",
    "\n",
    "---\n",
    "### Task:\n",
    "\n",
    "In the cell below, run the visualisation in negative and using a log-scale and use a filter size of 3, and a apha value of 2 or more. Once it is ready compare the X-ray image with the one above."
   ]
  },
  {
   "cell_type": "code",
   "execution_count": null,
   "metadata": {},
   "outputs": [],
   "source": []
  },
  {
   "cell_type": "code",
   "execution_count": null,
   "metadata": {},
   "outputs": [],
   "source": [
    "# %load 'snippets/visualisation-03.py'"
   ]
  },
  {
   "cell_type": "markdown",
   "metadata": {},
   "source": [
    "Some of K3D's code is asynchronous (see: [https://github.com/K3D-tools/K3D-jupyter/blob/main/examples/screenshot_generator.ipynb](https://github.com/K3D-tools/K3D-jupyter/blob/main/examples/screenshot_generator.ipynb). One must make sure the data is ready."
   ]
  },
  {
   "cell_type": "code",
   "execution_count": null,
   "metadata": {},
   "outputs": [],
   "source": [
    "if plot:\n",
    "    plot.fetch_screenshot();"
   ]
  },
  {
   "cell_type": "markdown",
   "metadata": {},
   "source": [
    "<div class=\"alert alert-block alert-warning\">\n",
    "    <b>Note:</b> Fetching a screenshot is asynchronous. Be patient, wait a few seconds for widgets to synchronise before calling the next cell.\n",
    "</div>"
   ]
  },
  {
   "cell_type": "code",
   "execution_count": null,
   "metadata": {},
   "outputs": [],
   "source": [
    "if plot:\n",
    "    data = base64.b64decode(plot.screenshot);\n",
    "    with open(os.path.join(output_path, \"k3d_screenshot.png\"), \"wb\") as fp:\n",
    "        fp.write(data);\n",
    "        fp.flush();\n",
    "        fp.close();"
   ]
  },
  {
   "cell_type": "markdown",
   "metadata": {},
   "source": [
    "## 2.2 Built-in static visualisation\n",
    "\n",
    "It is available either\n",
    "- in a separate window if windowing is enable (e.g. using the `\"OPENGL\"` backend), or\n",
    "- in an offscreen framebuffer if windowing is not enable (e.g. using the `\"EGL\"` backend).\n",
    "\n",
    "Every time you want to display the visualisation, you may update it with\n",
    "```python\n",
    "gvxr.displayScene()\n",
    "```\n",
    "\n",
    "To retrieve a screenshot, you must call\n",
    "```python\n",
    "screenshot = gvxr.takeScreenshot();\n",
    "```\n",
    "It can then be plotted using matplotlib\n",
    "```python\n",
    "plt.figure(figsize=(10, 10));\n",
    "plt.imshow(screenshot);\n",
    "plt.title(\"Screenshot of the X-ray simulation environment\");\n",
    "plt.axis('off');\n",
    "plt.show();\n",
    "```\n",
    "or saved into a PNG file\n",
    "```python\n",
    "plt.imsave(os.path.join(output_path, \"screenshot.png\"), np.array(screenshot));\n",
    "```"
   ]
  },
  {
   "cell_type": "code",
   "execution_count": null,
   "metadata": {},
   "outputs": [],
   "source": [
    "# Update the visualisation\n",
    "gvxr.displayScene()\n",
    "\n",
    "# Take a screenshot\n",
    "screenshot = gvxr.takeScreenshot();\n",
    "\n",
    "# Display it using Matplotlib\n",
    "plt.figure(figsize=(10, 10));\n",
    "plt.imshow(screenshot);\n",
    "plt.title(\"Screenshot of the X-ray simulation environment\");\n",
    "plt.axis('off');\n",
    "plt.show();\n",
    "\n",
    "# Sve it as a PNG file\n",
    "plt.imsave(os.path.join(output_path, \"screenshot.png\"), np.array(screenshot));"
   ]
  },
  {
   "cell_type": "markdown",
   "metadata": {},
   "source": [
    "### Opacity of a 3D object\n",
    "\n",
    "When objects made of internal parts are used, it may be useful to reduce the opacity of the outer object to reveal what is inside.\n",
    "\n",
    "---\n",
    "### Task:\n",
    "\n",
    "In the cell below, \n",
    "\n",
    "1. using `setColour` again, modify the alpha value of the cuboid colour to reveal the sphere inside (0 for transparent, 1 for opaque),\n",
    "2. update the visualisation,\n",
    "3. take a screenshot, and\n",
    "4. display it using Matplotlib.\n",
    "\n",
    "<div class=\"alert alert-block alert-warning\">\n",
    "    <b>Note:</b> As the beam is shown in pink with transparency and the cuboid is red, a low value of alpha is expected, e.g. below 0.3 in this case\n",
    "</div>"
   ]
  },
  {
   "cell_type": "code",
   "execution_count": null,
   "metadata": {},
   "outputs": [],
   "source": []
  },
  {
   "cell_type": "code",
   "execution_count": null,
   "metadata": {},
   "outputs": [],
   "source": [
    "# %load 'snippets/visualisation-04.py'"
   ]
  },
  {
   "cell_type": "markdown",
   "metadata": {},
   "source": [
    "### Window background colour\n",
    "\n",
    "When I want to include a screenshot in an article, I often change the window background colour to white. It can be done with\n",
    "```python\n",
    "gvxr.setWindowBackGroundColour(red, green, blue)\n",
    "```\n",
    "`red`, `green`, `blue` and `alpha` are values in the range [0, 1].\n",
    "\n",
    "---\n",
    "### Task:\n",
    "\n",
    "In the cell below, \n",
    "\n",
    "1. modify the window background colour to any colour of your choice,\n",
    "2. update the visualisation,\n",
    "3. take a screenshot, and\n",
    "4. display it using Matplotlib."
   ]
  },
  {
   "cell_type": "code",
   "execution_count": null,
   "metadata": {},
   "outputs": [],
   "source": []
  },
  {
   "cell_type": "code",
   "execution_count": null,
   "metadata": {},
   "outputs": [],
   "source": [
    "# %load 'snippets/visualisation-05.py'"
   ]
  },
  {
   "cell_type": "markdown",
   "metadata": {},
   "source": [
    "### Display the origin of the workd\n",
    "\n",
    "By default the origin of the workd is shown 3 axes (X in red, Y in green and Z in blue). If they are not visible, we can increase their length using `gvxr.setAxisLength`."
   ]
  },
  {
   "cell_type": "code",
   "execution_count": null,
   "metadata": {},
   "outputs": [],
   "source": [
    "# Retrieve the bounding box of the cuboid\n",
    "x_min, y_min, z_min, x_max, y_max, z_max = gvxr.getNodeAndChildrenBoundingBox(\"Cuboid\", \"cm\")\n",
    "x_range = x_max - x_min\n",
    "y_range = y_max - y_min\n",
    "z_range = z_max - z_min\n",
    "\n",
    "# Increase the size of the axes\n",
    "gvxr.setAxisLength(1.5 * max(x_range, y_range, z_range), \"cm\")\n",
    "\n",
    "# Update the visualisation\n",
    "gvxr.displayScene()\n",
    "\n",
    "# Take a screenshot\n",
    "screenshot = gvxr.takeScreenshot();\n",
    "\n",
    "# Display it using Matplotlib\n",
    "plt.figure(figsize=(10, 10));\n",
    "plt.imshow(screenshot);\n",
    "plt.title(\"Screenshot of the X-ray simulation environment\");\n",
    "plt.axis('off');\n",
    "plt.show();"
   ]
  },
  {
   "cell_type": "markdown",
   "metadata": {},
   "source": [
    "### Zooming in/out and rotating the 3D view\n",
    "\n",
    "Two main sates control the 3D view. A zooming variable and a 4x4 transformation matrix. The zoom is set automatically when the visualisation is first updated. The transformation matrix is a identy matrix. You may retrieve their current state with:\n",
    "\n",
    "```python\n",
    "gvxr.getZoom()\n",
    "gvxr.getSceneRotationMatrix()\n",
    "```\n",
    "\n",
    "---\n",
    "### Task:\n",
    "\n",
    "In the cell below, print\n",
    "\n",
    "1. the value of the zoom parameter, and\n",
    "2. transformation matrix."
   ]
  },
  {
   "cell_type": "code",
   "execution_count": null,
   "metadata": {},
   "outputs": [],
   "source": []
  },
  {
   "cell_type": "code",
   "execution_count": null,
   "metadata": {},
   "outputs": [],
   "source": [
    "# %load 'snippets/visualisation-06.py'"
   ]
  },
  {
   "cell_type": "markdown",
   "metadata": {},
   "source": [
    "You may modify their values using:\n",
    "\n",
    "```python\n",
    "gvxr.setZoom(value)\n",
    "gvxr.setSceneRotationMatrix([\n",
    "    a, b, c, c,\n",
    "    e, f, g, h, \n",
    "    i, j, k, l,\n",
    "    m, n, o, p]);\n",
    "```\n",
    "\n",
    "---\n",
    "### Task:\n",
    "\n",
    "In the cell below, \n",
    "\n",
    "1. modify the zoom value until the cuboid occupies most of the visualisation (use a smaller value than the one printed in the last cell you executed),\n",
    "2. turn off the visualisation of the beam using `gvxr.displayBeam(False)`\n",
    "3. update the visualisation,\n",
    "4. take a screenshot, and\n",
    "5. display it using Matplotlib."
   ]
  },
  {
   "cell_type": "code",
   "execution_count": null,
   "metadata": {},
   "outputs": [],
   "source": []
  },
  {
   "cell_type": "code",
   "execution_count": null,
   "metadata": {},
   "outputs": [],
   "source": [
    "# %load 'snippets/visualisation-07.py'"
   ]
  },
  {
   "cell_type": "markdown",
   "metadata": {},
   "source": [
    "---\n",
    "### Task:\n",
    "\n",
    "In the cell below, \n",
    "\n",
    "1. turn the 3D view around its Y-axis by 30 degrees. The matrix is\n",
    "   $\\left[\\begin{array}{cccc}\n",
    "   \\cos(\\theta) & 0 & \\sin(\\theta) & 0\t\\\\\n",
    "   0 & 1 & 0 & 0\t\\\\\n",
    "   -\\sin(\\theta) & 0 & \\cos(\\theta) & 0\t\\\\\n",
    "   0 & 0 & 0 & 1\n",
    "   \\end{array}\\right]$\n",
    "3. update the visualisation,\n",
    "4. take a screenshot, and\n",
    "5. display it using Matplotlib."
   ]
  },
  {
   "cell_type": "code",
   "execution_count": null,
   "metadata": {},
   "outputs": [],
   "source": []
  },
  {
   "cell_type": "code",
   "execution_count": null,
   "metadata": {},
   "outputs": [],
   "source": [
    "# %load 'snippets/visualisation-08.py'"
   ]
  },
  {
   "cell_type": "markdown",
   "metadata": {},
   "source": [
    "### Other functions controling the visualisation\n",
    "\n",
    "- Display/Hide the detector in the 3D visualisation: `gvxr.displayDetector(True/False)`\n",
    "- Display/Hide the normal vectors of the sample in the 3D visualisation: `gvxr.displayNormalVectors(True/False)`\n",
    "- Show the 3D objects in wireframe mode: `gvxr.useWireframe(True/False)`\n",
    "- Enable/Disable lighting: `gvxr.useLighing(True/False)`\n",
    "- Show the X-ray image as a negative or positive image: `gvxr.useNegative(True/False)`\n",
    "\n",
    "---\n",
    "### Task:\n",
    "\n",
    "In the cell below, \n",
    "\n",
    "1. show the normal vectors of the sample in the 3D visualisation\n",
    "2. display the 3D objects in wireframe mode\n",
    "3. update the visualisation,\n",
    "4. take a screenshot, and\n",
    "5. display it using Matplotlib.\n"
   ]
  },
  {
   "cell_type": "code",
   "execution_count": null,
   "metadata": {},
   "outputs": [],
   "source": []
  },
  {
   "cell_type": "code",
   "execution_count": null,
   "metadata": {},
   "outputs": [],
   "source": [
    "# %load 'snippets/visualisation-09.py'"
   ]
  },
  {
   "cell_type": "markdown",
   "metadata": {},
   "source": [
    "## 2.3 Built-in interactive visualisation:\n",
    "\n",
    "- It is only available if windowing is enable (e.g. using the `\"OPENGL\"` backend)\n",
    "- The user can rotate the 3D scene and zoom-in and -out in the visualisation window.\n",
    "- Keys are:\n",
    "    - Q/Escape: to quit the event loop (does not close the window)\n",
    "    - B: display/hide the X-ray beam\n",
    "    - W: display the polygon meshes in solid or wireframe\n",
    "    - N: display the X-ray image in negative or positive\n",
    "    - H: display/hide the X-ray detector\n",
    "- Mouse interactions:\n",
    "    - Zoom in/out: mouse wheel\n",
    "    - Rotation: Right mouse button down + move cursor\n",
    "- To activate the interactive visualisation mode call:\n",
    "  ```python\n",
    "  gvxr.renderLoop();\n",
    "  ```\n",
    "  Note that the call stops the execution of other functions. You must 1st exit the interactive visualisation mode before calling further Python functions.\n",
    "- To exit the interactive visualisation mode press `<Q>` or `<ESC>`, or close the window.\n",
    "\n",
    "---\n",
    "### Task:\n",
    "\n",
    "In the cell below, \n",
    "\n",
    "1. execute `gvxr.renderLoop()`\n",
    "2. turn on the beam visualisation by pressing `<B>`\n",
    "3. turn off the wireframe mode by pressing `<W>`\n",
    "4. rotate and zoom in so that you get a nice view of the simulation\n",
    "5. exit the interactive visualisation mode press `<Q>` or `<ESC>`, or close the window\n",
    "6. print\n",
    "    1. the new value of the zoom parameter, and\n",
    "    2. transformation matrix (it must be much more complex now)."
   ]
  },
  {
   "cell_type": "code",
   "execution_count": null,
   "metadata": {
    "id": "uTxwQ7gdjg-n"
   },
   "outputs": [],
   "source": [
    "gvxr.renderLoop()\n",
    "print(\"Zoom:\", gvxr.getZoom())\n",
    "print(\"Transformation matrix:\", gvxr.getSceneRotationMatrix())"
   ]
  },
  {
   "cell_type": "markdown",
   "metadata": {
    "id": "1vrbJFWzjg-p"
   },
   "source": [
    "# Cleaning up\n",
    "\n",
    "Once we have finished, it is good practice to clean up the OpenGL contexts and windows with the following command. Note that due to the object-oriented programming nature of the core API of gVXR, this step is automatic anyway."
   ]
  },
  {
   "cell_type": "code",
   "execution_count": null,
   "metadata": {
    "id": "2ldO2muTjg-p"
   },
   "outputs": [],
   "source": [
    "# Works on Windows (gvxr >= 2.0.9)\n",
    "# Will work on Linux (gvxr >= 2.0.10)\n",
    "if os.name == 'nt':\n",
    "    gvxr.destroy(); \n",
    "# Does not work on Windows.\n",
    "# Deprecated, for backward compatibility on Linux.\n",
    "else:\n",
    "    gvxr.terminate(); "
   ]
  }
 ],
 "metadata": {
  "colab": {
   "provenance": []
  },
  "kernelspec": {
   "display_name": "Python 3 (ipykernel)",
   "language": "python",
   "name": "python3"
  },
  "language_info": {
   "codemirror_mode": {
    "name": "ipython",
    "version": 3
   },
   "file_extension": ".py",
   "mimetype": "text/x-python",
   "name": "python",
   "nbconvert_exporter": "python",
   "pygments_lexer": "ipython3",
   "version": "3.11.11"
  },
  "vscode": {
   "interpreter": {
    "hash": "585e9fc9b818a92a95ff682530f87f6de2c4282b8239c594bde282f49476a8c7"
   }
  }
 },
 "nbformat": 4,
 "nbformat_minor": 4
}
