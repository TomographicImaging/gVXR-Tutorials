{
 "cells": [
  {
   "cell_type": "code",
   "execution_count": null,
   "metadata": {
    "slideshow": {
     "slide_type": "skip"
    },
    "tags": []
   },
   "outputs": [],
   "source": [
    "%matplotlib widget"
   ]
  },
  {
   "cell_type": "code",
   "execution_count": null,
   "metadata": {
    "id": "be4b4b61-7abb-440c-9605-486bce082901"
   },
   "outputs": [],
   "source": [
    "# -*- coding: utf-8 -*-\n",
    "#\n",
    "#  Copyright 2024 United Kingdom Research and Innovation\n",
    "#\n",
    "#  Licensed under the Apache License, Version 2.0 (the \"License\");\n",
    "#  you may not use this file except in compliance with the License.\n",
    "#  You may obtain a copy of the License at\n",
    "#\n",
    "#      http://www.apache.org/licenses/LICENSE-2.0\n",
    "#\n",
    "#  Unless required by applicable law or agreed to in writing, software\n",
    "#  distributed under the License is distributed on an \"AS IS\" BASIS,\n",
    "#  WITHOUT WARRANTIES OR CONDITIONS OF ANY KIND, either express or implied.\n",
    "#  See the License for the specific language governing permissions and\n",
    "#  limitations under the License.\n",
    "#\n",
    "#   Authored by:    Franck Vidal (UKRI-STFC)"
   ]
  },
  {
   "cell_type": "markdown",
   "metadata": {
    "slideshow": {
     "slide_type": "slide"
    },
    "tags": []
   },
   "source": [
    "![gVXR](https://github.com/TomographicImaging/gVXR-Tutorials/blob/main/img/Logo-transparent-small.png?raw=1)\n",
    "\n",
    "# Test installation\n",
    "\n",
    "This notebook shows how to run the quick test scripts that are provided with gVirtualXray's Python package. They can be used to make sure the installation is working well on your system. You may run them directly from this notebook or from the command line prompt.\n",
    "\n",
    "<div class=\"alert alert-block alert-warning\">\n",
    "    <b>Note:</b> Make sure the Python packages are already installed. See <a href=\"../README.md\">README.md</a> in the root directory of the repository. If you are running this notebook from Google Colab, please install the package using `!pip install gvxr`\n",
    "</div>\n",
    "\n",
    "# Aims of this session\n",
    "\n",
    "1. Create our first X-ray simulation, step-by-step;\n",
    "2. Save our X-ray image in a file format that preserves the original dynamic range;\n",
    "3. Visualise the results with 3 different look-up tables;\n",
    "4. Visualise the 3D environment.\n",
    "\n",
    "![](../img/02-visualisation.png)"
   ]
  },
  {
   "cell_type": "markdown",
   "metadata": {
    "slideshow": {
     "slide_type": "slide"
    },
    "tags": []
   },
   "source": [
    "# Main steps\n",
    "\n",
    "There are 6 main steps to simulate an X-ray image:\n",
    "\n",
    "1. Create a renderer (OpenGL context)\n",
    "2. Set the X-ray source\n",
    "3. Set the Spectrum\n",
    "4. Set the Detector\n",
    "5. Set the Sample\n",
    "6. Compute the corresponding X-ray image.\n",
    "\n",
    "![](../img/dragon2.jpg)"
   ]
  },
  {
   "cell_type": "markdown",
   "metadata": {},
   "source": [
    "| What | Value | Unit |\n",
    "|------|-------|------|\n",
    "| Beam shape | point | N/A |\n",
    "| X-ray source position | -40, 0, 0 | cm |\n",
    "| Spectrum | 1000 photons of 80 | keV |\n",
    "| Detector position | 10, 0, 0 | cm |\n",
    "| Detector orientation | 0, 0, -1 | N/A |\n",
    "| Detector resolution | 640*320 | pixels |\n",
    "| Pixel spacing | 0.5 * 0.5 | mm |\n",
    "| Sample | STL file of the Welsh dragon | mm |\n",
    "| Material composition | Ti90Al6V4 alloy | N/A |\n",
    "| Material density | 4.43 | g/cm3 |"
   ]
  },
  {
   "cell_type": "markdown",
   "metadata": {},
   "source": [
    "## Import packages\n",
    "\n",
    "- `os` to create the output directory if needed\n",
    "- `matplotlib` to show 2D images\n",
    "- `tifffile` to write TIFF files\n",
    "- `gvxr` to simulate X-ray images"
   ]
  },
  {
   "cell_type": "code",
   "execution_count": null,
   "metadata": {},
   "outputs": [],
   "source": [
    "# Import packages\n",
    "import os\n",
    "# import numpy as np # Who does not use Numpy?\n",
    "\n",
    "import matplotlib # To plot images\n",
    "import matplotlib.pyplot as plt # Plotting\n",
    "# from matplotlib.colors import LogNorm # Look up table\n",
    "# from matplotlib.colors import PowerNorm # Look up table\n",
    "\n",
    "font = {'family' : 'serif',\n",
    "         'size'   : 15\n",
    "       }\n",
    "matplotlib.rc('font', **font)\n",
    "\n",
    "# # Uncomment the line below to use LaTeX fonts\n",
    "# # matplotlib.rc('text', usetex=True)\n",
    "\n",
    "from tifffile import imwrite # Write TIFF files\n",
    "\n",
    "from gvxrPython3 import gvxr # Simulate X-ray images\n",
    "# from gvxrPython3.utils import saveProjections # Plot the X-ray image in linear, log and power law scales\n",
    "# from gvxrPython3.utils import compareWithGroundTruth # Plot the ground truth, the test image, and the relative error map in %\n",
    "# from gvxrPython3.utils import interactPlotPowerLaw # Plot the X-ray image using a Power law look-up table\n",
    "# from gvxrPython3.utils import visualise # Visualise the 3D environment if k3D is supported\n",
    "# from gvxrPython3.utils import plotScreenshot # Visualise the 3D environment if Matplotlib is supported"
   ]
  },
  {
   "cell_type": "markdown",
   "metadata": {},
   "source": [
    "Make sure the output directory exists"
   ]
  },
  {
   "cell_type": "code",
   "execution_count": null,
   "metadata": {},
   "outputs": [],
   "source": [
    "output_path = \"../output_data\"\n",
    "if not os.path.exists(output_path):\n",
    "    os.mkdir(output_path)"
   ]
  },
  {
   "cell_type": "markdown",
   "metadata": {},
   "source": [
    "## 1. Create an OpenGL context\n",
    "\n",
    "The first step is to create the simulation environment, known here as \"OpenGL context\". \n",
    "Two backends are currently available:\n",
    "\n",
    "- `\"OPENGL\"`: makes use of the windowing ability of your system. It can be used for realtime visualisations. It is available on Windows, GNU/Linux and MacOS computers.\n",
    "- `\"EGL\"`: is for offscreen rendering on GNU/Linux computers. That's the option for cloud instances and supercomputers."
   ]
  },
  {
   "cell_type": "code",
   "execution_count": null,
   "metadata": {},
   "outputs": [],
   "source": [
    "# Create an OpenGL context\n",
    "print(\"Create an OpenGL context\")\n",
    "gvxr.createOpenGLContext();"
   ]
  },
  {
   "cell_type": "markdown",
   "metadata": {},
   "source": [
    "## 2. Set the X-ray source"
   ]
  },
  {
   "cell_type": "code",
   "execution_count": null,
   "metadata": {},
   "outputs": [],
   "source": [
    "# Create a source\n",
    "print(\"Set up the beam\")\n",
    "gvxr.setSourcePosition(-40.0,  0.0, 0.0, \"cm\");\n",
    "gvxr.usePointSource();\n",
    "#  For a parallel source, use gvxr.useParallelBeam();"
   ]
  },
  {
   "cell_type": "markdown",
   "metadata": {},
   "source": [
    "## 3. Set the Spectrum"
   ]
  },
  {
   "cell_type": "code",
   "execution_count": null,
   "metadata": {},
   "outputs": [],
   "source": [
    "# Set its spectrum, here a monochromatic beam\n",
    "# 1000 photons of 80 keV (i.e. 0.08 MeV) per ray\n",
    "gvxr.setMonoChromatic(0.08, \"MeV\", 1000);\n",
    "# The following is equivalent: gvxr.setMonoChromatic(80, \"keV\", 1000);"
   ]
  },
  {
   "cell_type": "markdown",
   "metadata": {},
   "source": [
    "## 4. Set the Detector"
   ]
  },
  {
   "cell_type": "code",
   "execution_count": null,
   "metadata": {},
   "outputs": [],
   "source": [
    "# Set up the detector\n",
    "print(\"Set up the detector\");\n",
    "gvxr.setDetectorPosition(10.0, 0.0, 0.0, \"cm\");\n",
    "gvxr.setDetectorUpVector(0, 0, -1);\n",
    "gvxr.setDetectorNumberOfPixels(640, 320);\n",
    "gvxr.setDetectorPixelSize(0.5, 0.5, \"mm\");"
   ]
  },
  {
   "cell_type": "markdown",
   "metadata": {},
   "source": [
    "## 5. Set the Sample"
   ]
  },
  {
   "cell_type": "code",
   "execution_count": null,
   "metadata": {},
   "outputs": [],
   "source": [
    "# Locate the sample STL file from the package directory\n",
    "path = os.path.dirname(gvxr.__file__)\n",
    "fname = path + \"/welsh-dragon-small.stl\"\n",
    "\n",
    "# Load the sample data\n",
    "if not os.path.exists(fname):\n",
    "    raise IOError(fname)\n",
    "\n",
    "print(\"Load the mesh data from\", fname);\n",
    "gvxr.loadMeshFile(\"Dragon\", fname, \"mm\")\n",
    "\n",
    "print(\"Move \", \"Dragon\", \" to the centre\");\n",
    "gvxr.moveToCentre(\"Dragon\");"
   ]
  },
  {
   "cell_type": "code",
   "execution_count": null,
   "metadata": {},
   "outputs": [],
   "source": [
    "# Material properties\n",
    "print(\"Set \", \"Dragon\", \"'s material\");\n",
    "\n",
    "# Iron (Z number: 26, symbol: Fe)\n",
    "gvxr.setElement(\"Dragon\", 26)\n",
    "gvxr.setElement(\"Dragon\", \"Fe\")\n",
    "\n",
    "# Liquid water\n",
    "gvxr.setCompound(\"Dragon\", \"H2O\")\n",
    "gvxr.setDensity(\"Dragon\", 1.0, \"g/cm3\")\n",
    "gvxr.setDensity(\"Dragon\", 1.0, \"g.cm-3\")\n",
    "\n",
    "# Titanium Aluminum Vanadium Alloy\n",
    "gvxr.setMixture(\"Dragon\", \"Ti90Al6V4\")\n",
    "gvxr.setMixture(\"Dragon\", [22, 13, 23], [0.9, 0.06, 0.04])\n",
    "# gvxr.setMixture(\"Dragon\", [\"Ti\", \"Al\", \"V\"], [0.9, 0.06, 0.04]) # Not yet implemented\n",
    "gvxr.setDensity(\"Dragon\", 4.43, \"g/cm3\")\n",
    "gvxr.setDensity(\"Dragon\", 4.43, \"g.cm-3\")"
   ]
  },
  {
   "cell_type": "markdown",
   "metadata": {},
   "source": [
    "## 6. Compute the corresponding X-ray image."
   ]
  },
  {
   "cell_type": "code",
   "execution_count": null,
   "metadata": {},
   "outputs": [],
   "source": [
    "# Compute an X-ray image\n",
    "# We convert the array in a Numpy structure and store the data using single-precision floating-point numbers.\n",
    "print(\"Compute an X-ray image\");\n",
    "x_ray_image = np.array(gvxr.computeXRayImage()).astype(np.single)\n",
    "\n",
    "# Update the visualisation window\n",
    "gvxr.displayScene()"
   ]
  },
  {
   "cell_type": "code",
   "execution_count": null,
   "metadata": {},
   "outputs": [],
   "source": [
    "# Save the X-ray image in a TIFF file and store the data using single-precision floating-point numbers.\n",
    "gvxr.saveLastXRayImage(os.path.join(output_path, 'raw_x-ray_image-02.tif'))\n",
    "\n",
    "# The line below will also works\n",
    "# imwrite('output_data/raw_x-ray_image-02.tif', x_ray_image)\n",
    "\n",
    "# Save the L-buffer\n",
    "gvxr.saveLastLBuffer(os.path.join(output_path, 'lbuffer-02.tif'));"
   ]
  },
  {
   "cell_type": "code",
   "execution_count": null,
   "metadata": {},
   "outputs": [],
   "source": [
    "# Display the X-ray image\n",
    "# using a linear colour scale\n",
    "if has_mpl:\n",
    "    plt.figure(figsize=(10, 5))\n",
    "    plt.title(\"Image simulated using gVirtualXray\\nusing a linear colour scale\")\n",
    "    plt.imshow(x_ray_image, cmap=\"gray\")\n",
    "    plt.colorbar(orientation='vertical');\n",
    "    plt.show()\n",
    "\n",
    "    # using a logarithmic colour scale\n",
    "    plt.figure(figsize=(10, 5))\n",
    "    plt.title(\"Image simulated using gVirtualXray\\nusing a logarithmic colour scale\")\n",
    "    plt.imshow(x_ray_image, cmap=\"gray\", norm=LogNorm(vmin=x_ray_image.min(), vmax=x_ray_image.max()))\n",
    "    plt.colorbar(orientation='vertical');\n",
    "    plt.show()\n",
    "\n",
    "    # using a Power-law colour scale (gamma=0.5)\n",
    "    plt.figure(figsize=(10, 5))\n",
    "    plt.title(\"Image simulated using gVirtualXray\\nusing a Power-law colour scale ($\\gamma=0.5$)\")\n",
    "    plt.imshow(x_ray_image, cmap=\"gray\", norm=PowerNorm(gamma=1./2.))\n",
    "    plt.colorbar(orientation='vertical');\n",
    "    plt.show()\n",
    "\n",
    "    # Display the X-ray image and compare three different lookup tables\n",
    "    plt.figure(figsize=(17, 7.5))\n",
    "\n",
    "    plt.suptitle(\"Image simulated with gVirtualXray visualised\", y=0.75)\n",
    "\n",
    "    plt.subplot(131)\n",
    "    plt.imshow(x_ray_image, cmap=\"gray\")\n",
    "    plt.colorbar(orientation='horizontal')\n",
    "    plt.title(\"using a linear colour scale\")\n",
    "\n",
    "    plt.subplot(132)\n",
    "    plt.imshow(x_ray_image, norm=LogNorm(), cmap=\"gray\")\n",
    "    plt.colorbar(orientation='horizontal')\n",
    "    plt.title(\"using a logarithmic colour scale\")\n",
    "\n",
    "    plt.subplot(133)\n",
    "    plt.imshow(x_ray_image, norm=PowerNorm(gamma=1./2.), cmap=\"gray\")\n",
    "    plt.colorbar(orientation='horizontal');\n",
    "    plt.title(\"using a Power-law colour scale ($\\gamma=0.5$)\")\n",
    "\n",
    "    plt.tight_layout()\n",
    "\n",
    "    plt.savefig(os.path.join(output_path, 'projection-02.pdf'), dpi=600);"
   ]
  },
  {
   "cell_type": "code",
   "execution_count": null,
   "metadata": {},
   "outputs": [],
   "source": [
    "# Change the sample's colour\n",
    "# By default the object is white, which is not always pretty. Let's change it to purple.\n",
    "red = 102 / 255\n",
    "green = 51 / 255\n",
    "blue = 153 / 255\n",
    "gvxr.setColour(\"Dragon\", red, green, blue, 1.0)\n",
    "\n",
    "# This image can be used in a research paper to illustrate the simulation environment, in which case you may want to change the background colour to white with:\n",
    "gvxr.setWindowBackGroundColour(1.0, 1.0, 1.0)\n",
    "\n",
    "# Update the visualisation window\n",
    "gvxr.displayScene()"
   ]
  },
  {
   "cell_type": "code",
   "execution_count": null,
   "metadata": {},
   "outputs": [],
   "source": [
    "# Take the screenshot and save it in a file\n",
    "if has_mpl:\n",
    "    screenshot = gvxr.takeScreenshot()\n",
    "    plt.imsave(os.path.join(output_path, \"screenshot-02.png\"), np.array(screenshot))\n",
    "\n",
    "    # or display it using Matplotlib\n",
    "    plt.figure(figsize=(10, 10))\n",
    "    plt.imshow(screenshot)\n",
    "    plt.title(\"Screenshot of the X-ray simulation environment\")\n",
    "    plt.axis('off');\n",
    "    plt.show()"
   ]
  },
  {
   "cell_type": "code",
   "execution_count": null,
   "metadata": {},
   "outputs": [],
   "source": [
    "# Interactive visualisation\n",
    "# The user can rotate the 3D scene and zoom-in and -out in the visualisation window.\n",
    "\n",
    "# - Keys are:\n",
    "#     - Q/Escape: to quit the event loop (does not close the window)\n",
    "#     - B: display/hide the X-ray beam\n",
    "#     - W: display the polygon meshes in solid or wireframe\n",
    "#     - N: display the X-ray image in negative or positive\n",
    "#     - H: display/hide the X-ray detector\n",
    "# - Mouse interactions:\n",
    "#     - Zoom in/out: mouse wheel\n",
    "#     - Rotation: Right mouse button down + move cursor```\n",
    "gvxr.renderLoop()"
   ]
  },
  {
   "cell_type": "markdown",
   "metadata": {},
   "source": [
    "# Cleaning up\n",
    "\n",
    "Once we have finished it is good practice to clean up the OpenGL contexts and windows with the following command."
   ]
  },
  {
   "cell_type": "code",
   "execution_count": null,
   "metadata": {},
   "outputs": [],
   "source": [
    "gvxr.terminate()"
   ]
  }
 ],
 "metadata": {
  "kernelspec": {
   "display_name": "Python 3 (ipykernel)",
   "language": "python",
   "name": "python3"
  },
  "language_info": {
   "codemirror_mode": {
    "name": "ipython",
    "version": 3
   },
   "file_extension": ".py",
   "mimetype": "text/x-python",
   "name": "python",
   "nbconvert_exporter": "python",
   "pygments_lexer": "ipython3",
   "version": "3.11.10"
  },
  "vscode": {
   "interpreter": {
    "hash": "585e9fc9b818a92a95ff682530f87f6de2c4282b8239c594bde282f49476a8c7"
   }
  }
 },
 "nbformat": 4,
 "nbformat_minor": 4
}
