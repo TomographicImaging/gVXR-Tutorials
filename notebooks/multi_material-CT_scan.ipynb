{
 "cells": [
  {
   "cell_type": "markdown",
   "id": "c81ec0d9-e184-4185-8e63-0b9ec47cf274",
   "metadata": {
    "id": "c81ec0d9-e184-4185-8e63-0b9ec47cf274"
   },
   "source": [
    "<a href=\"https://colab.research.google.com/github/TomographicImaging/gVXR-Tutorials/blob/main/notebooks/multi_material-CT_scan.ipynb\" target=\"_parent\"><img src=\"https://colab.research.google.com/assets/colab-badge.svg\" alt=\"Open In Colab\"/></a>"
   ]
  },
  {
   "cell_type": "code",
   "execution_count": 1,
   "id": "e0fe41a6-8340-40b7-b4a5-a239daab3fb7",
   "metadata": {
    "id": "e0fe41a6-8340-40b7-b4a5-a239daab3fb7"
   },
   "outputs": [],
   "source": [
    "# -*- coding: utf-8 -*-\n",
    "#\n",
    "#  Copyright 2024 United Kingdom Research and Innovation\n",
    "#  Copyright 2024 Bangor University\n",
    "#\n",
    "#  Licensed under the Apache License, Version 2.0 (the \"License\");\n",
    "#  you may not use this file except in compliance with the License.\n",
    "#  You may obtain a copy of the License at\n",
    "#\n",
    "#      http://www.apache.org/licenses/LICENSE-2.0\n",
    "#\n",
    "#  Unless required by applicable law or agreed to in writing, software\n",
    "#  distributed under the License is distributed on an \"AS IS\" BASIS,\n",
    "#  WITHOUT WARRANTIES OR CONDITIONS OF ANY KIND, either express or implied.\n",
    "#  See the License for the specific language governing permissions and\n",
    "#  limitations under the License.\n",
    "#\n",
    "#   Authored by:    Franck Vidal (UKRI-STFC) & Iwan Mitchell (Bangor University)"
   ]
  },
  {
   "cell_type": "markdown",
   "id": "4ffcfed3-2145-4ba8-8715-17327e58b0d2",
   "metadata": {
    "id": "4ffcfed3-2145-4ba8-8715-17327e58b0d2",
    "tags": []
   },
   "source": [
    "![gVXR](https://github.com/TomographicImaging/gVXR-Tutorials/blob/main/img/Logo-transparent-small.png?raw=1)\n",
    "\n",
    "<!-- # Multi-material example: Lungman phantom\n",
    "\n",
    "In this notebook you will use the knowledge learned in [first_xray_simulation.ipynb](first_xray_simulation.ipynb) to set some of the simulation parameters.\n",
    "We aim to **replicate a digital radiograph (DR)** of the [Lungman anthropomorphic chest phantom](https://doi.org/10.1117/1.JMI.5.1.013504) (Kyoto Kagaku, Tokyo, Japan) taken with a clinical X-ray machine by GE Healthcare (Chicago, Illinois, USA) at one of our local hospitals (Glan Clwyd). Parameters relevant to the simulation are extracted from the DICOM file, such as source-patient-distance and source-detector-distance.\n",
    "\n",
    "![Photograph of the Lungman phantom during the digital radiograph acquisition](https://github.com/TomographicImaging/gVXR-Tutorials/blob/main/img/lungman-photo.jpg?raw=1)\n",
    "\n",
    "Additionaly, we will **demonstrate how to use more than one material**.\n",
    "We scanned the [Lungman anthropomorphic chest phantom](https://doi.org/10.1117/1.JMI.5.1.013504) at the same hospital (Ysbyty Gwynedd) using a 128-slice Somatom Definition Edge scanner by Siemens Healthcare (Erlangen, Germany).\n",
    "The CT volume was then segmented into individual structures.\n",
    "Surface meshes were eventually extracted from the segmented CT scan.\n",
    "The corresponding data is available on [Zenodo](https://zenodo.org/records/10782644) (the notebook will download and extract the files automatically).\n",
    "The material property of each anatomical structure is defined as the average Hounsfield unit of that structure.\n",
    "Hounsfield values are then converted into material compositions (mixtures) and densities using [Schneider et al.'s method](https://doi.org/10.1088/0031-9155/45/2/314). This functionality is already built in gVXR.\n",
    "\n",
    "<div class=\"alert alert-block alert-warning\">\n",
    "    <b>Note:</b> Make sure the Python packages are already installed. See <a href=\"../README.md\">README.md</a> in the root directory of the repository. If you are running this notebook from Google Colab, please run the cell below to install the required packages.\n",
    "</div> -->"
   ]
  },
  {
   "cell_type": "code",
   "execution_count": 2,
   "id": "1e174bf3-e7a7-4df9-a0ad-75baccc01d4c",
   "metadata": {
    "id": "1e174bf3-e7a7-4df9-a0ad-75baccc01d4c"
   },
   "outputs": [],
   "source": [
    "import sys\n",
    "IN_COLAB = 'google.colab' in sys.modules\n",
    "\n",
    "if IN_COLAB:\n",
    "    !pip install -q condacolab\n",
    "    import condacolab\n",
    "    condacolab.install()\n",
    "\n",
    "    !conda install -y -c conda-forge -c https://software.repos.intel.com/python/conda -c ccpi cil=24.2.0 ipp=2021.12 astra-toolbox=*=cuda* tigre k3d\n",
    "    !pip install gvxr viewscad\n",
    "\n",
    "    import os, urllib.request\n",
    "\n",
    "    if not os.path.exists(\"../data/Wire-Cu-2mm-17.54umvx\"):\n",
    "        os.makedirs(\"../data/Wire-Cu-2mm-17.54umvx\");\n",
    "\n",
    "    files = [\"../data/Wire-Cu-2mm-17.54umvx/img_00000.tif\",\n",
    "            \"notebooks/gvxr2json.py\",\n",
    "            ];\n",
    "\n",
    "    url = \"https://github.com/TomographicImaging/gVXR-Tutorials/raw/refs/heads/main/../data/Wire-Cu-2mm-17.54umvx/img_00000.tif\";\n",
    "    print(\"Download\", url)\n",
    "    urllib.request.urlretrieve(url, \"../data/Wire-Cu-2mm-17.54umvx/img_00000.tif\");\n",
    "\n",
    "    url = \"https://github.com/TomographicImaging/gVXR-Tutorials/raw/refs/heads/main/notebooks/gvxr2json.py\";\n",
    "    print(\"Download\", url)\n",
    "    urllib.request.urlretrieve(url, \"gvxr2json.py\");"
   ]
  },
  {
   "cell_type": "markdown",
   "id": "1961536e-deac-495f-8459-433f36efe3cd",
   "metadata": {
    "id": "1961536e-deac-495f-8459-433f36efe3cd"
   },
   "source": [
    "## Aims of this session\n",
    "\n",
    "<!-- 1. Practice, amongst other things, how to set simulation parameters related to the X-ray source and detector;\n",
    "2. Demonstrate how to load several STL files and use them all in the simulation (multi-material).\n",
    " -->\n",
    "![Screenshot of the 3D environment using K3D](https://github.com/TomographicImaging/gVXR-Tutorials/blob/main/notebooks/output_data/multi_material-CT_scan/k3d_screenshot-cropped.png?raw=1)"
   ]
  },
  {
   "cell_type": "markdown",
   "id": "ea0ad5b2-dab2-4df9-9128-5d1292dc4bb7",
   "metadata": {
    "id": "ea0ad5b2-dab2-4df9-9128-5d1292dc4bb7"
   },
   "source": [
    "## Summary of the simulation parameters\n",
    "<!--\n",
    "| Parameters | Values | Units | Function call |\n",
    "|------------|--------|-------|---------------|\n",
    "| Source to patient distance | 1751 | mm | `gvxr.setSourcePosition(...)` |\n",
    "| Source type (beam shape) | Point source (cone beam) | | `gvxr.usePointSource()` |\n",
    "| Beam spectrum | Monochromatic: 16,000 photons of 90 | keV | `gvxr.setMonoChromatic(...)` |\n",
    "| Source to detector distance | 1800 | mm | `gvxr.setDetectorPosition(...)` |\n",
    "| Detector orientation | [0, 0, -1] |  | `gvxr.setDetectorUpVector(...)` |\n",
    "| Detector resolution | 1871 &times; 1881 | pixels | `gvxr.setDetectorNumberOfPixels(...)` |\n",
    "| Pixel spacing | 0.2 &times; 0.2 | mm | `gvxr.setDetectorPixelSize(...)` | -->"
   ]
  },
  {
   "cell_type": "markdown",
   "id": "d4dea73c-4c57-4171-93d0-58f003b9b606",
   "metadata": {
    "id": "d4dea73c-4c57-4171-93d0-58f003b9b606"
   },
   "source": [
    "## Import packages\n",
    "<!--\n",
    "- `os` to create the output directory if needed\n",
    "- `matplotlib` to show 2D images\n",
    "- `viewscad` to use OpenSCAD and create STL files\n",
    "- `gvxrPython3.gvxr` to simulate X-ray images\n",
    "- `tifffile.imread`\n",
    "- `gvxrPython3.gvxr2json` to save the state of the simulation in JSON file\n",
    "- `JSON2gVXRDataReader` to read the simulated data and prepare it for CIL\n",
    "    from cil.processors import Transmiss\n",
    "    from cil.recon\n",
    "  import FBP, FDK\n",
    "ionAbsorptionConverter\n",
    "    from cil.utilities.display import show_geometry, show2D\n",
    "    from cil.utilities.jupyter import islicer, link_islicer\n",
    "TIFFWriter\n",
    " -->"
   ]
  },
  {
   "cell_type": "code",
   "execution_count": 3,
   "id": "00443714-17d0-427f-9b11-e073415ae56a",
   "metadata": {
    "colab": {
     "base_uri": "https://localhost:8080/"
    },
    "id": "00443714-17d0-427f-9b11-e073415ae56a",
    "outputId": "a029b0e2-bb06-405a-c0c8-e2fa687f06d3"
   },
   "outputs": [
    {
     "name": "stdout",
     "output_type": "stream",
     "text": [
      "spekpy is not install, you won't be able to load a beam spectrum using spekpy\n",
      "xpecgen is not install, you won't be able to load a beam spectrum using xpecgen\n",
      "Use temporary bug fix\n"
     ]
    }
   ],
   "source": [
    "import os # Create the output directory if necessary\n",
    "import numpy as np # Who does not use Numpy?\n",
    "\n",
    "import matplotlib # To plot images\n",
    "import matplotlib.pyplot as plt # Plotting\n",
    "\n",
    "font = {'family' : 'serif',\n",
    "         'size'   : 15\n",
    "       }\n",
    "matplotlib.rc('font', **font)\n",
    "\n",
    "# Uncomment the line below to use LaTeX fonts\n",
    "# matplotlib.rc('text', usetex=True)\n",
    "\n",
    "import viewscad # Use OpenSCAD to create STL files\n",
    "\n",
    "import base64\n",
    "\n",
    "from tifffile import imread\n",
    "\n",
    "\n",
    "from gvxrPython3 import gvxr\n",
    "from gvxrPython3.utils import visualise\n",
    "\n",
    "# Use temporary bug fix\n",
    "if os.path.exists(\"gvxr2json.py\"):\n",
    "    print(\"Use temporary bug fix\")\n",
    "    import gvxr2json\n",
    "#Use the file provided by gVXR's package\n",
    "else:\n",
    "    print(\"Use the file provided by gVXR's package\")\n",
    "    from gvxrPython3 import gvxr2json\n",
    "\n",
    "from gvxrPython3.JSON2gVXRDataReader import *\n",
    "\n",
    "from cil.recon import FDK # For CBCT\n",
    "from cil.recon import FBP # For parallel beam geometry\n",
    "\n",
    "from cil.io import TIFFWriter\n",
    "\n",
    "from cil.processors import TransmissionAbsorptionConverter\n",
    "from cil.utilities.display import show_geometry, show2D\n",
    "from cil.utilities.jupyter import islicer, link_islicer\n"
   ]
  },
  {
   "cell_type": "code",
   "execution_count": 4,
   "id": "5c9f9d49-3fd5-4189-baeb-995676ef47aa",
   "metadata": {
    "id": "5c9f9d49-3fd5-4189-baeb-995676ef47aa"
   },
   "outputs": [],
   "source": [
    "raw_reference = np.array(imread(\"../data/Wire-Cu-2mm-17.54umvx/img_00000.tif\"), dtype=np.single);\n",
    "raw_reference /= raw_reference.max()"
   ]
  },
  {
   "cell_type": "code",
   "execution_count": 5,
   "id": "cc42e320-eaad-4d29-b87c-be17129c4725",
   "metadata": {
    "colab": {
     "base_uri": "https://localhost:8080/",
     "height": 508
    },
    "id": "cc42e320-eaad-4d29-b87c-be17129c4725",
    "outputId": "b03738ed-39cc-4954-8c72-fcaa5e0721ae"
   },
   "outputs": [
    {
     "data": {
      "image/png": "[encoded data removed]",
      "text/plain": [
       "<Figure size 640x480 with 2 Axes>"
      ]
     },
     "metadata": {},
     "output_type": "display_data"
    }
   ],
   "source": [
    "imager_pixel_spacing = [0.15, 0.15];\n",
    "vmin=0.0;\n",
    "vmax=1.0;\n",
    "\n",
    "fig = plt.figure();\n",
    "plt.imshow(raw_reference, cmap=\"gray\", vmin=vmin, vmax=vmax,\n",
    "                             extent=[0,(raw_reference.shape[1]-1)*imager_pixel_spacing[0],0,(raw_reference.shape[0]-1)*imager_pixel_spacing[1]])\n",
    "plt.title(\"Digital radiograph of section of electric cable from my garage\")\n",
    "plt.xlabel(\"Pixel position\\n(in mm)\")\n",
    "plt.ylabel(\"Pixel position\\n(in mm)\")\n",
    "plt.colorbar()\n",
    "plt.show()"
   ]
  },
  {
   "cell_type": "markdown",
   "id": "35095b46-e3dd-4c8d-bc16-4bc442c49831",
   "metadata": {
    "id": "35095b46-e3dd-4c8d-bc16-4bc442c49831"
   },
   "source": [
    "## Getting the data ready"
   ]
  },
  {
   "cell_type": "code",
   "execution_count": 6,
   "id": "8c5f1f8e-7b10-4f8a-a733-b1fb78d3a9f0",
   "metadata": {
    "id": "8c5f1f8e-7b10-4f8a-a733-b1fb78d3a9f0"
   },
   "outputs": [],
   "source": [
    "output_path = \"output_data/multi_material-CT_scan\"\n",
    "if not os.path.exists(output_path):\n",
    "    os.makedirs(output_path);"
   ]
  },
  {
   "cell_type": "code",
   "execution_count": 7,
   "id": "5a246638-e162-44bd-9fdd-ea5c83bf9ea9",
   "metadata": {
    "id": "5a246638-e162-44bd-9fdd-ea5c83bf9ea9"
   },
   "outputs": [],
   "source": [
    "scad_function_string = \"\"\"\n",
    "\n",
    "height = 100;\n",
    "twist = 0;\n",
    "\n",
    "module wire_strand (height, twist)\n",
    "{\n",
    "    union()\n",
    "    {\n",
    "        linear_extrude(height = height, center = true, convexity = 10, twist = 0)\n",
    "        translate([0, 0, 0])\n",
    "        circle(r = 1, $fn = 100);\n",
    "\n",
    "        linear_extrude(height = height, center = true, convexity = 10, twist = twist)\n",
    "        translate([2, 0, 0])\n",
    "        circle(r = 1,$fn = 100);\n",
    "\n",
    "        linear_extrude(height = height, center = true, convexity = 10, twist = twist)\n",
    "        translate([-2, 0, 0])\n",
    "        circle(r = 1,$fn = 100);\n",
    "\n",
    "        linear_extrude(height = height, center = true, convexity = 10, twist = twist)\n",
    "        translate([-1, 1.72, 0])\n",
    "        circle(r = 1,$fn = 100);\n",
    "\n",
    "        linear_extrude(height = height, center = true, convexity = 10, twist = twist)\n",
    "        translate([1, 1.72, 0])\n",
    "        circle(r = 1,$fn = 100);\n",
    "\n",
    "        linear_extrude(height = height, center = true, convexity = 10, twist = twist)\n",
    "        translate([-1, -1.72, 0])\n",
    "        circle(r = 1,$fn = 100);\n",
    "\n",
    "        linear_extrude(height = height, center = true, convexity = 10, twist = twist)\n",
    "        translate([1, -1.72, 0])\n",
    "        circle(r = 1,$fn = 100);\n",
    "    }\n",
    "}\n",
    "\n",
    "module wires (height, twist)\n",
    "{\n",
    "    union ()\n",
    "    {\n",
    "        // Ground wire\n",
    "        linear_extrude(height = height, center = true, convexity = 10, twist = 0)\n",
    "        translate([0, 0, 0])\n",
    "        circle(r = 2, $fn = 100);\n",
    "\n",
    "        // Twisted wires\n",
    "        translate([8, 0, 0])\n",
    "        wire_strand(height, twist);\n",
    "\n",
    "        translate([-8, 0, 0])\n",
    "        wire_strand(height, twist);\n",
    "    }\n",
    "}\n",
    "\n",
    "\"\"\";"
   ]
  },
  {
   "cell_type": "code",
   "execution_count": 8,
   "id": "ca759420-0b78-4ca0-8985-de77c1c9431d",
   "metadata": {
    "colab": {
     "base_uri": "https://localhost:8080/",
     "height": 323
    },
    "id": "ca759420-0b78-4ca0-8985-de77c1c9431d",
    "outputId": "711bf672-2bf6-4545-dcac-36402c6bd716"
   },
   "outputs": [
    {
     "ename": "Exception",
     "evalue": "openscad exec not found!",
     "output_type": "error",
     "traceback": [
      "\u001b[0;31m---------------------------------------------------------------------------\u001b[0m",
      "\u001b[0;31mException\u001b[0m                                 Traceback (most recent call last)",
      "\u001b[0;32m<ipython-input-8-4bc9229a5346>\u001b[0m in \u001b[0;36m<cell line: 7>\u001b[0;34m()\u001b[0m\n\u001b[1;32m      6\u001b[0m \u001b[0;34m\u001b[0m\u001b[0m\n\u001b[1;32m      7\u001b[0m \u001b[0;32mif\u001b[0m \u001b[0;32mnot\u001b[0m \u001b[0mos\u001b[0m\u001b[0;34m.\u001b[0m\u001b[0mpath\u001b[0m\u001b[0;34m.\u001b[0m\u001b[0mexists\u001b[0m\u001b[0;34m(\u001b[0m\u001b[0mwire_fname_stl\u001b[0m\u001b[0;34m)\u001b[0m\u001b[0;34m:\u001b[0m\u001b[0;34m\u001b[0m\u001b[0;34m\u001b[0m\u001b[0m\n\u001b[0;32m----> 8\u001b[0;31m     \u001b[0mr\u001b[0m \u001b[0;34m=\u001b[0m \u001b[0mviewscad\u001b[0m\u001b[0;34m.\u001b[0m\u001b[0mRenderer\u001b[0m\u001b[0;34m(\u001b[0m\u001b[0;34m)\u001b[0m\u001b[0;34m\u001b[0m\u001b[0;34m\u001b[0m\u001b[0m\n\u001b[0m\u001b[1;32m      9\u001b[0m     \u001b[0mr\u001b[0m\u001b[0;34m.\u001b[0m\u001b[0mrender\u001b[0m\u001b[0;34m(\u001b[0m\u001b[0mscad_function_string\u001b[0m \u001b[0;34m+\u001b[0m \u001b[0mscad_wire_str\u001b[0m\u001b[0;34m,\u001b[0m \u001b[0moutfile\u001b[0m\u001b[0;34m=\u001b[0m\u001b[0mwire_fname_stl\u001b[0m\u001b[0;34m)\u001b[0m\u001b[0;34m\u001b[0m\u001b[0;34m\u001b[0m\u001b[0m\n",
      "\u001b[0;32m/usr/local/lib/python3.10/site-packages/viewscad/renderer.py\u001b[0m in \u001b[0;36m__init__\u001b[0;34m(self, **kw)\u001b[0m\n\u001b[1;32m    194\u001b[0m             \u001b[0mself\u001b[0m\u001b[0;34m.\u001b[0m\u001b[0m_try_detect_openscad_exec\u001b[0m\u001b[0;34m(\u001b[0m\u001b[0;34m)\u001b[0m\u001b[0;34m\u001b[0m\u001b[0;34m\u001b[0m\u001b[0m\n\u001b[1;32m    195\u001b[0m         \u001b[0;32mif\u001b[0m \u001b[0mself\u001b[0m\u001b[0;34m.\u001b[0m\u001b[0mopenscad_exec\u001b[0m \u001b[0;32mis\u001b[0m \u001b[0;32mNone\u001b[0m\u001b[0;34m:\u001b[0m\u001b[0;34m\u001b[0m\u001b[0;34m\u001b[0m\u001b[0m\n\u001b[0;32m--> 196\u001b[0;31m             \u001b[0;32mraise\u001b[0m \u001b[0mException\u001b[0m\u001b[0;34m(\u001b[0m\u001b[0;34m'openscad exec not found!'\u001b[0m\u001b[0;34m)\u001b[0m\u001b[0;34m\u001b[0m\u001b[0;34m\u001b[0m\u001b[0m\n\u001b[0m\u001b[1;32m    197\u001b[0m         \u001b[0mself\u001b[0m\u001b[0;34m.\u001b[0m\u001b[0mwidth\u001b[0m \u001b[0;34m=\u001b[0m \u001b[0mkw\u001b[0m\u001b[0;34m.\u001b[0m\u001b[0mget\u001b[0m\u001b[0;34m(\u001b[0m\u001b[0;34m'width'\u001b[0m\u001b[0;34m,\u001b[0m \u001b[0;36m600\u001b[0m\u001b[0;34m)\u001b[0m\u001b[0;34m\u001b[0m\u001b[0;34m\u001b[0m\u001b[0m\n\u001b[1;32m    198\u001b[0m         \u001b[0mself\u001b[0m\u001b[0;34m.\u001b[0m\u001b[0mheight\u001b[0m \u001b[0;34m=\u001b[0m \u001b[0mkw\u001b[0m\u001b[0;34m.\u001b[0m\u001b[0mget\u001b[0m\u001b[0;34m(\u001b[0m\u001b[0;34m'height'\u001b[0m\u001b[0;34m,\u001b[0m \u001b[0;36m600\u001b[0m\u001b[0;34m)\u001b[0m\u001b[0;34m\u001b[0m\u001b[0;34m\u001b[0m\u001b[0m\n",
      "\u001b[0;31mException\u001b[0m: openscad exec not found!"
     ]
    }
   ],
   "source": [
    "\"scad_wire_str = \"\"\"\n",
    "    wires (height + 20, twist);\n",
    "\"\"\";\n",
    "\n",
    "wire_fname_stl = os.path.join(output_path, \"wires.stl\");\n",
    "\n",
    "if not os.path.exists(wire_fname_stl):\n",
    "    r = viewscad.Renderer()\n",
    "    r.render(scad_function_string + scad_wire_str, outfile=wire_fname_stl)"
   ]
  },
  {
   "cell_type": "code",
   "execution_count": null,
   "id": "30247960-447f-41e0-ab57-a20dd35010c4",
   "metadata": {
    "id": "30247960-447f-41e0-ab57-a20dd35010c4"
   },
   "outputs": [],
   "source": [
    "scad_plastic_sheath_str = \"\"\"\n",
    "    difference()\n",
    "    {\n",
    "        linear_extrude(height = height+1, center = true, convexity = 10, twist = 0)\n",
    "            translate([0, 0, 0])\n",
    "            resize([30,10])circle(r=13, $fn= 100);\n",
    "        wires (height, twist);\n",
    "    }\n",
    "\"\"\";\n",
    "\n",
    "insulation_fname_stl = os.path.join(output_path, \"insulation.stl\");\n",
    "\n",
    "if not os.path.exists(insulation_fname_stl):\n",
    "    r = viewscad.Renderer()\n",
    "    r.render(scad_function_string + scad_plastic_sheath_str, outfile=insulation_fname_stl)"
   ]
  },
  {
   "cell_type": "code",
   "execution_count": null,
   "id": "aeb0f3a2-366d-4cad-a8dd-c23905c24207",
   "metadata": {
    "id": "aeb0f3a2-366d-4cad-a8dd-c23905c24207"
   },
   "outputs": [],
   "source": [
    "# Create an OpenGL context\n",
    "gvxr.createOpenGLContext();\n",
    "\n",
    "# We increase the size of the visualisation framebuffer to generate higher resolution screenshots. It does not affect the simulation.\n",
    "gvxr.setWindowSize(1000, 1000)"
   ]
  },
  {
   "cell_type": "code",
   "execution_count": null,
   "id": "20c0cfca-1a6f-4dea-80ae-fb9c39eff1b0",
   "metadata": {
    "id": "20c0cfca-1a6f-4dea-80ae-fb9c39eff1b0"
   },
   "outputs": [],
   "source": [
    "# Set the X-ray source position and shape\n",
    "gvxr.setSourcePosition(0.0, 60.0, 0.0, \"mm\");\n",
    "gvxr.usePointSource();\n",
    "\n",
    "# Set the Spectrum\n",
    "gvxr.setMonoChromatic(100, \"keV\", 16000); # 100 keV is about the average photon energy"
   ]
  },
  {
   "cell_type": "code",
   "execution_count": null,
   "id": "3f769d98-c195-435d-95ea-86f8a9855a73",
   "metadata": {
    "id": "3f769d98-c195-435d-95ea-86f8a9855a73"
   },
   "outputs": [],
   "source": [
    "# Set the detector properties\n",
    "gvxr.setDetectorPosition(0.0, -580, 0.0, \"mm\");\n",
    "gvxr.setDetectorUpVector(0, 0, 1);\n",
    "gvxr.setDetectorNumberOfPixels(1912, 1912);\n",
    "gvxr.setDetectorPixelSize(imager_pixel_spacing[0], imager_pixel_spacing[1], \"mm\");"
   ]
  },
  {
   "cell_type": "code",
   "execution_count": null,
   "id": "0bc6b5ee-9851-4d3f-8b85-3790e1a19ddf",
   "metadata": {
    "id": "0bc6b5ee-9851-4d3f-8b85-3790e1a19ddf"
   },
   "outputs": [],
   "source": [
    "import math\n",
    "print(round(2.0 * math.pi / math.atan((2.0 / gvxr.getDetectorNumberOfPixels()[0]))));\n",
    "\n",
    "# print(gvxr.getOptimalNumberOfProjectionsCT())"
   ]
  },
  {
   "cell_type": "markdown",
   "id": "0ab23d92-866e-4ecb-b896-277b85dbfdf7",
   "metadata": {
    "id": "0ab23d92-866e-4ecb-b896-277b85dbfdf7"
   },
   "source": [
    "## 5. Set the Sample\n",
    "\n",
    "A sample is define by its geometry (surface) and material composition. Note that you can transform (translate, scale and rotate) a sample."
   ]
  },
  {
   "cell_type": "code",
   "execution_count": null,
   "id": "d965accd-4d12-42e6-9c83-1ae458ddf22a",
   "metadata": {
    "id": "d965accd-4d12-42e6-9c83-1ae458ddf22a"
   },
   "outputs": [],
   "source": [
    "gvxr.removePolygonMeshesFromSceneGraph();\n",
    "\n",
    "geometry_set = {\n",
    "    \"wires\": {\"fname\": wire_fname_stl, \"Element\": \"Cu\", \"Colour\" : [0.722, 0.451, 0.20, 1.0]},\n",
    "    # \"stealh\": {\"fname\": insulation_fname_stl, \"Element\": \"Cu\", \"Colour\" : [0.722, 0.451, 0.20, 1.0]},\n",
    "   \"stealh\": {\"fname\": insulation_fname_stl, \"Compound\": \"C2H3Cl\", \"Density\" : 1.3, \"Colour\" : [0.5, 0.5, 0.5, 1.0]},\n",
    "}\n",
    "\n",
    "translation_vector_in_mm = [0.0, -100.0, 0.0];\n",
    "\n",
    "for label in geometry_set:\n",
    "    gvxr.loadMeshFile(label, geometry_set[label][\"fname\"], \"mm\");\n",
    "\n",
    "    # Chemical element\n",
    "    if \"Element\" in geometry_set[label]:\n",
    "        gvxr.setElement(label, geometry_set[label][\"Element\"]);\n",
    "    # Compound + density\n",
    "    elif \"Compound\" in geometry_set[label] and \"Density\" in geometry_set[label]:\n",
    "        gvxr.setCompound(label, geometry_set[label][\"Compound\"]);\n",
    "        gvxr.setDensity(label, geometry_set[label][\"Density\"], \"g/cm3\");\n",
    "    # Mixture + density\n",
    "    elif \"Mixture\" in geometry_set[label] and \"Density\" in geometry_set[label]:\n",
    "        gvxr.setMixture(label, geometry_set[label][\"Mixture\"]);\n",
    "        gvxr.setDensity(label, geometry_set[label][\"Density\"], \"g/cm3\");\n",
    "    # Hounsfield unit\n",
    "    elif \"HU\" in geometry_set[label]:\n",
    "        gvxr.setHounsfieldUnit(label, round(geometry_set[label][\"HU\"]));\n",
    "    # Unsupported\n",
    "    else:\n",
    "        raise ValueError(\"Unknow material composition for \" + label + \" in \" + str(geometry_set[label]))\n",
    "\n",
    "    # Colour in the 3D visualisation\n",
    "    if \"Colour\" in geometry_set[label]:\n",
    "        gvxr.setColour(label,\n",
    "            geometry_set[label][\"Colour\"][0],\n",
    "            geometry_set[label][\"Colour\"][1],\n",
    "            geometry_set[label][\"Colour\"][2],\n",
    "            geometry_set[label][\"Colour\"][3]);\n",
    "\n",
    "    gvxr.translateNode(label, *translation_vector_in_mm, \"mm\");"
   ]
  },
  {
   "cell_type": "code",
   "execution_count": null,
   "id": "ba709949-ac29-43bb-84b8-867a57d32b33",
   "metadata": {
    "id": "ba709949-ac29-43bb-84b8-867a57d32b33"
   },
   "outputs": [],
   "source": [
    "x_ray_image = np.array(gvxr.computeXRayImage(), dtype=np.single) / gvxr.getTotalEnergyWithDetectorResponse();\n",
    "# gvxr.setZoom(500)\n",
    "gvxr.displayScene()\n",
    "\n",
    "# gvxr.renderLoop()"
   ]
  },
  {
   "cell_type": "markdown",
   "id": "ced67736-c499-4056-b455-45106e94cffd",
   "metadata": {
    "id": "ced67736-c499-4056-b455-45106e94cffd"
   },
   "source": [
    "## Visualisation of the results\n",
    "\n",
    "Keep in mind that clinical devices implement built-in image post-processing algorithms that change the pixel values. Specifics of these algorithms are unknown. We post-process our simulated X-ray image to display the image in a similar fashion using:\n",
    "\n",
    "$$(-\\log((Img + shift_1) \\times scale_1) + shift_2) \\times scale_2$$\n",
    "\n",
    "Values of $shift_1$, $scale_1$, $shift_2$ and $scale_2$ have been calibrated."
   ]
  },
  {
   "cell_type": "code",
   "execution_count": null,
   "id": "665db86a-40a2-499c-9e16-b49de17ee0ac",
   "metadata": {
    "id": "665db86a-40a2-499c-9e16-b49de17ee0ac"
   },
   "outputs": [],
   "source": [
    "vmin = 0.0;\n",
    "vmax = 1.0;\n",
    "\n",
    "# Plot the two images side-by-side\n",
    "fig, axes = plt.subplots(nrows=1, ncols=2, figsize=(20, 20))\n",
    "\n",
    "im1 = axes.flat[0].imshow(raw_reference, cmap=\"gray\", vmin=vmin, vmax=vmax,\n",
    "    extent=[0,(raw_reference.shape[1]-1)*imager_pixel_spacing[0],0,(raw_reference.shape[0]-1)*imager_pixel_spacing[1]])\n",
    "axes.flat[0].set_title(\"Ground truth\")\n",
    "\n",
    "\n",
    "im2 = axes.flat[1].imshow(x_ray_image, cmap=\"gray\", vmin=vmin, vmax=vmax,\n",
    "    extent=[0,(x_ray_image.shape[1]-1)*gvxr.getDetectorPixelSpacing(\"mm\")[0],0,(x_ray_image.shape[0]-1)*gvxr.getDetectorPixelSpacing(\"mm\")[1]])\n",
    "axes.flat[1].set_title(\"gVirtualXRay\")\n",
    "\n",
    "axes.flat[0].set_xlabel(\"Pixel position\\n(in mm)\")\n",
    "axes.flat[1].set_xlabel(\"Pixel position\\n(in mm)\")\n",
    "axes.flat[0].set_ylabel(\"Pixel position\\n(in mm)\")\n",
    "\n",
    "cb_ax = fig.add_axes([0.925, 0.35, 0.02, 0.275])\n",
    "cbar = fig.colorbar(im1, cax=cb_ax)\n",
    "plt.show()"
   ]
  },
  {
   "cell_type": "markdown",
   "id": "b5d86e8a-6bb6-4536-aa33-d48e3abd9575",
   "metadata": {
    "id": "b5d86e8a-6bb6-4536-aa33-d48e3abd9575",
    "jp-MarkdownHeadingCollapsed": true
   },
   "source": [
    "It may be useful to visualise the 3D environment to ascertain everything is as expected. It can be done in a window or offscreen with a screenshot.\n",
    "We use both the functionality built in gVXR and K3D"
   ]
  },
  {
   "cell_type": "markdown",
   "id": "dddc023c-72b5-41ce-92c7-2bd7e8e87557",
   "metadata": {
    "id": "dddc023c-72b5-41ce-92c7-2bd7e8e87557"
   },
   "source": [
    "We use k3D if possible. It's a nice 3D visualisation framework for Jupyter notebooks."
   ]
  },
  {
   "cell_type": "code",
   "execution_count": null,
   "id": "3c6958eb-6bb5-449c-bd60-3c810828578b",
   "metadata": {
    "id": "3c6958eb-6bb5-449c-bd60-3c810828578b"
   },
   "outputs": [],
   "source": [
    "plot = visualise(use_log=True, use_negative=True, sharpen_ksize=2, sharpen_alpha=1.0);\n",
    "\n",
    "if plot:\n",
    "    plot.display();"
   ]
  },
  {
   "cell_type": "code",
   "execution_count": null,
   "id": "ba4c6d06-9c35-4b42-a375-23b2c010e58c",
   "metadata": {
    "id": "ba4c6d06-9c35-4b42-a375-23b2c010e58c"
   },
   "outputs": [],
   "source": [
    "if plot:\n",
    "    plot.fetch_screenshot();"
   ]
  },
  {
   "cell_type": "code",
   "execution_count": null,
   "id": "ee6e2b76-bcd7-4327-b9a3-335d9d2daa2f",
   "metadata": {
    "id": "ee6e2b76-bcd7-4327-b9a3-335d9d2daa2f"
   },
   "outputs": [],
   "source": [
    "if plot:\n",
    "    k3d_screenshot = plot.screenshot;\n",
    "    data = base64.b64decode(k3d_screenshot);\n",
    "    with open(os.path.join(output_path, \"k3d_screenshot.png\"), \"wb\") as fp:\n",
    "        fp.write(data);\n",
    "        fp.flush();\n",
    "        fp.close();"
   ]
  },
  {
   "cell_type": "markdown",
   "id": "b44447a6-526b-4cff-936b-c52808dd2098",
   "metadata": {
    "id": "b44447a6-526b-4cff-936b-c52808dd2098"
   },
   "source": [
    "## Compute the X-ray projections for a CT acquisition"
   ]
  },
  {
   "cell_type": "code",
   "execution_count": null,
   "id": "33c9412c-c0ed-4eb8-8ff4-804babbe84f0",
   "metadata": {
    "id": "33c9412c-c0ed-4eb8-8ff4-804babbe84f0"
   },
   "outputs": [],
   "source": [
    "number_of_projections = 200;\n",
    "\n",
    "gvxr.computeCTAcquisition(os.path.join(output_path, \"projections-\" + str(number_of_projections)), # the path where the X-ray projections will be saved.\n",
    "                                                                    # If the path is empty, the data will be stored in the main memory, but not saved on the disk.\n",
    "                                                                    # If the path is provided, the data will be saved on the disk, and the main memory released.\n",
    "                          os.path.join(output_path, \"screenshots-\" + str(number_of_projections)), # the path where the screenshots will be saved.\n",
    "                                                                    # If kept empty, not screenshot will be saved.\n",
    "                          number_of_projections, # The total number of projections to simulate.\n",
    "                          0, # The rotation angle corresponding to the first projection.\n",
    "                          True, # A boolean flag to include or exclude the last angle. It is used to calculate the angular step between successive projections.\n",
    "                          360,\n",
    "                          0, # The number of white images used to perform the flat-field correction. If zero, then no correction will be performed.\n",
    "                          *translation_vector_in_mm, # The location of the rotation centre.\n",
    "                          \"mm\", # The corresponding unit of length.\n",
    "                          *gvxr.getDetectorUpVector(), # The rotation axis\n",
    "                          True, # If true the energy fluence is returned, otherwise the number of photons is returned\n",
    "                                # (default value: true)\n",
    "                          1 # The verbose level. If greater than zero, details will be outputed (default value = 0)\n",
    ");"
   ]
  },
  {
   "cell_type": "code",
   "execution_count": null,
   "id": "2f9f917c-fc15-405e-afb9-712141c8781a",
   "metadata": {
    "id": "2f9f917c-fc15-405e-afb9-712141c8781a"
   },
   "outputs": [],
   "source": [
    "# Save the current simulation states in a JSON file.\n",
    "# It could be used to re-run the simulation, or to read the data with CIL.\n",
    "json_fname = os.path.join(output_path, \"simulation-\" + str(number_of_projections) + \".json\");\n",
    "gvxr2json.saveJSON(json_fname);"
   ]
  },
  {
   "cell_type": "code",
   "execution_count": null,
   "id": "588f216c-59c1-407d-8bae-a1169e4583db",
   "metadata": {
    "id": "588f216c-59c1-407d-8bae-a1169e4583db"
   },
   "outputs": [],
   "source": [
    "# Read the simulated data with CIL.\n",
    "reader = JSON2gVXRDataReader(json_fname);\n",
    "# reader = gVXRDataReader(gvxr.getProjectionOutputPathCT(), gvxr.getAngleSetCT(), gvxr.getCentreOfRotationPositionCT(\"mm\"));\n",
    "data = reader.read()"
   ]
  },
  {
   "cell_type": "code",
   "execution_count": null,
   "id": "073f7724-5eb1-4024-a54d-8f321d6e72a2",
   "metadata": {
    "id": "073f7724-5eb1-4024-a54d-8f321d6e72a2"
   },
   "outputs": [],
   "source": [
    "print(\"data.geometry\", data.geometry)"
   ]
  },
  {
   "cell_type": "code",
   "execution_count": null,
   "id": "2782e164-e253-4857-b448-d524fefa3bdd",
   "metadata": {
    "id": "2782e164-e253-4857-b448-d524fefa3bdd"
   },
   "outputs": [],
   "source": [
    "show2D(data)"
   ]
  },
  {
   "cell_type": "code",
   "execution_count": null,
   "id": "cd0075a5-9591-4fd5-9aa8-6ba8ca0de9ad",
   "metadata": {
    "id": "cd0075a5-9591-4fd5-9aa8-6ba8ca0de9ad"
   },
   "outputs": [],
   "source": [
    "islicer(data)"
   ]
  },
  {
   "cell_type": "code",
   "execution_count": null,
   "id": "f94ee485-2a84-4cb5-9ff8-90b8ed1958e0",
   "metadata": {
    "id": "f94ee485-2a84-4cb5-9ff8-90b8ed1958e0"
   },
   "outputs": [],
   "source": [
    "data_corr = TransmissionAbsorptionConverter(white_level=data.max())(data)"
   ]
  },
  {
   "cell_type": "code",
   "execution_count": null,
   "id": "5a328711-930a-4dd6-80d6-c0e4556e18c1",
   "metadata": {
    "id": "5a328711-930a-4dd6-80d6-c0e4556e18c1"
   },
   "outputs": [],
   "source": [
    "show2D(data_corr)"
   ]
  },
  {
   "cell_type": "code",
   "execution_count": null,
   "id": "bda6e9fd-64a7-43c8-8742-24d56dbca994",
   "metadata": {
    "id": "bda6e9fd-64a7-43c8-8742-24d56dbca994"
   },
   "outputs": [],
   "source": [
    "islicer(data_corr)"
   ]
  },
  {
   "cell_type": "code",
   "execution_count": null,
   "id": "ebb3d8e6-3356-4c52-9aec-3dd51517c140",
   "metadata": {
    "id": "ebb3d8e6-3356-4c52-9aec-3dd51517c140"
   },
   "outputs": [],
   "source": [
    "data_corr.reorder(order='tigre')"
   ]
  },
  {
   "cell_type": "code",
   "execution_count": null,
   "id": "de95bef8-216b-4b24-84ec-78c0d7b08459",
   "metadata": {
    "id": "de95bef8-216b-4b24-84ec-78c0d7b08459"
   },
   "outputs": [],
   "source": [
    "ig = data_corr.geometry.get_ImageGeometry()\n",
    "\n",
    "print(\"Initial image geometry\", ig)\n",
    "\n",
    "scaling_factor = 4\n",
    "ig.voxel_num_x //= scaling_factor\n",
    "ig.voxel_num_y //= scaling_factor\n",
    "ig.voxel_num_z //= scaling_factor\n",
    "\n",
    "ig.voxel_size_x *= scaling_factor\n",
    "ig.voxel_size_y *= scaling_factor\n",
    "ig.voxel_size_z *= scaling_factor"
   ]
  },
  {
   "cell_type": "code",
   "execution_count": null,
   "id": "3525c464-a9bb-448d-adef-e5c909239eb7",
   "metadata": {
    "id": "3525c464-a9bb-448d-adef-e5c909239eb7"
   },
   "outputs": [],
   "source": [
    "print(\"Final image geometry\", ig)"
   ]
  },
  {
   "cell_type": "code",
   "execution_count": null,
   "id": "1f2d00e0-b1b7-4a6a-a4ce-5edac518f092",
   "metadata": {
    "id": "1f2d00e0-b1b7-4a6a-a4ce-5edac518f092"
   },
   "outputs": [],
   "source": [
    "# Perform the reconstruction with CIL\n",
    "FDK_reconstruction = FDK(data_corr, ig).run()"
   ]
  },
  {
   "cell_type": "code",
   "execution_count": null,
   "id": "cc9bf6d0-92e6-4f0c-919f-d42e13cdd50b",
   "metadata": {
    "id": "cc9bf6d0-92e6-4f0c-919f-d42e13cdd50b"
   },
   "outputs": [],
   "source": [
    "# Look at partial view artefacts\n",
    "show2D(FDK_reconstruction, slice_list=[0, FDK_reconstruction.shape[0] // 2, FDK_reconstruction.shape[0] - 1], title=[\"1st slice\", \"Middle slice\", \"Last slice\"], num_cols=3)"
   ]
  },
  {
   "cell_type": "code",
   "execution_count": null,
   "id": "8e6884cd-fa04-4920-a628-dcc8b3ae96db",
   "metadata": {
    "id": "8e6884cd-fa04-4920-a628-dcc8b3ae96db"
   },
   "outputs": [],
   "source": [
    "islicer(FDK_reconstruction, minmax=None)"
   ]
  },
  {
   "cell_type": "code",
   "execution_count": null,
   "id": "9879dc45-8a81-4aa8-a61b-2de4e453d2e3",
   "metadata": {
    "id": "9879dc45-8a81-4aa8-a61b-2de4e453d2e3"
   },
   "outputs": [],
   "source": [
    "# Save the reconstructed CT images\n",
    "writer = TIFFWriter(data=FDK_reconstruction, file_name=os.path.join(output_path, \"recons-\" + str(number_of_projections), \"slice_\"), compression=\"uint16\");\n",
    "writer.write();"
   ]
  },
  {
   "cell_type": "markdown",
   "id": "4ce68bc6-9fab-4818-b09f-5159873fae2c",
   "metadata": {
    "id": "4ce68bc6-9fab-4818-b09f-5159873fae2c"
   },
   "source": [
    "# Cleaning up\n",
    "\n",
    "Once we have finished it is good practice to clean up the OpenGL contexts and windows with the following command."
   ]
  },
  {
   "cell_type": "code",
   "execution_count": null,
   "id": "f8713a20-0639-4ebf-be91-34c76d362e1c",
   "metadata": {
    "id": "f8713a20-0639-4ebf-be91-34c76d362e1c"
   },
   "outputs": [],
   "source": [
    "# gvxr.terminate();"
   ]
  }
 ],
 "metadata": {
  "accelerator": "GPU",
  "colab": {
   "gpuType": "T4",
   "provenance": []
  },
  "kernelspec": {
   "display_name": "Python 3 (ipykernel)",
   "language": "python",
   "name": "python3"
  },
  "language_info": {
   "codemirror_mode": {
    "name": "ipython",
    "version": 3
   },
   "file_extension": ".py",
   "mimetype": "text/x-python",
   "name": "python",
   "nbconvert_exporter": "python",
   "pygments_lexer": "ipython3",
   "version": "3.11.10"
  }
 },
 "nbformat": 4,
 "nbformat_minor": 5
}
