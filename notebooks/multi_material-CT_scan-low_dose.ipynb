{
 "cells": [
  {
   "cell_type": "markdown",
   "id": "c81ec0d9-e184-4185-8e63-0b9ec47cf274",
   "metadata": {
    "id": "4DrP1n1sjg-e"
   },
   "source": [
    "<a href=\"https://colab.research.google.com/github/TomographicImaging/gVXR-Tutorials/blob/main/notebooks/multi_material-lungman_phantom.ipynb\" target=\"_parent\"><img src=\"https://colab.research.google.com/assets/colab-badge.svg\" alt=\"Open In Colab\"/></a>"
   ]
  },
  {
   "cell_type": "code",
   "execution_count": 1,
   "id": "e0fe41a6-8340-40b7-b4a5-a239daab3fb7",
   "metadata": {
    "id": "be4b4b61-7abb-440c-9605-486bce082901"
   },
   "outputs": [],
   "source": [
    "# -*- coding: utf-8 -*-\n",
    "#\n",
    "#  Copyright 2025 United Kingdom Research and Innovation\n",
    "#\n",
    "#  Licensed under the Apache License, Version 2.0 (the \"License\");\n",
    "#  you may not use this file except in compliance with the License.\n",
    "#  You may obtain a copy of the License at\n",
    "#\n",
    "#      http://www.apache.org/licenses/LICENSE-2.0\n",
    "#\n",
    "#  Unless required by applicable law or agreed to in writing, software\n",
    "#  distributed under the License is distributed on an \"AS IS\" BASIS,\n",
    "#  WITHOUT WARRANTIES OR CONDITIONS OF ANY KIND, either express or implied.\n",
    "#  See the License for the specific language governing permissions and\n",
    "#  limitations under the License.\n",
    "#\n",
    "#   Authored by:    Franck Vidal (UKRI-STFC)"
   ]
  },
  {
   "cell_type": "markdown",
   "id": "4ffcfed3-2145-4ba8-8715-17327e58b0d2",
   "metadata": {
    "id": "LitIbS2Yjg-g",
    "tags": []
   },
   "source": [
    "![gVXR](https://github.com/TomographicImaging/gVXR-Tutorials/blob/main/img/Logo-transparent-small.png?raw=1)\n",
    "\n",
    "# Low-dose CT scan with the Lungman phantom\n",
    "\n",
    "In this notebook you will use the knowledge learned in [Multi-material example: Lungman phantom](multi_material-CT_scan.ipynb). \n",
    "For the sake of realism, we will use an antrhopomorphic phantom this time, the [Lungman anthropomorphic chest phantom](https://doi.org/10.1117/1.JMI.5.1.013504) (Kyoto Kagaku, Tokyo, Japan). \n",
    "When it was originally scanned, there were nodules. \n",
    "It makes it a perfect example for illustrating low-dose CBCT in oncology. \n",
    "There are two ways to reduce the radiation dose in CT: lower the exposure, or reduce the number of projections taken. \n",
    "This notebook let you explore both strategies. \n",
    "\n",
    "![Change picture](change picture)\n",
    "\n",
    "<div class=\"alert alert-block alert-warning\">\n",
    "    <b>Note:</b> Make sure the Python packages are already installed. See <a href=\"../README.md\">README.md</a> in the root directory of the repository. If you are running this notebook from Google Colab, please run the cell below to install the required packages.\n",
    "</div>"
   ]
  },
  {
   "cell_type": "code",
   "execution_count": 2,
   "id": "1e174bf3-e7a7-4df9-a0ad-75baccc01d4c",
   "metadata": {
    "colab": {
     "base_uri": "https://localhost:8080/"
    },
    "id": "bSYJhBjCjg-h",
    "outputId": "443ab78d-3838-498c-dfe5-addd6f3cf186"
   },
   "outputs": [],
   "source": [
    "import sys\n",
    "IN_COLAB = 'google.colab' in sys.modules\n",
    "\n",
    "if IN_COLAB:\n",
    "    !pip install gvxr SimpleITK k3d spekpy xpecgen"
   ]
  },
  {
   "cell_type": "markdown",
   "id": "1961536e-deac-495f-8459-433f36efe3cd",
   "metadata": {
    "id": "77W1AXNQjg-h"
   },
   "source": [
    "## Aims of this session\n",
    "\n",
    "\n",
    "1. Simulate a low-dose CBCT scan acquisition using gVXR, either\n",
    "    - adding quite a bit of noise to mimic a low exposure, or\n",
    "    - reducing the number of projections taken around the patient.\n",
    "2. Reconstruct the CT volume using the Core Imaging Library (CIL).\n",
    "\n",
    "![Change picture -- Screenshot of the 3D environment using K3D]()"
   ]
  },
  {
   "cell_type": "markdown",
   "id": "ea0ad5b2-dab2-4df9-9128-5d1292dc4bb7",
   "metadata": {
    "id": "rxBXwyIbjg-i"
   },
   "source": [
    "## Summary of the simulation parameters\n",
    "\n",
    "| Parameters | Values | Units | Function call |\n",
    "|------------|--------|-------|---------------|\n",
    "| Source to patient distance | ??? | mm | `gvxr.setSourcePosition(...)` |\n",
    "| Source type (beam shape) | Point source (cone beam) | | `gvxr.usePointSource()` |\n",
    "| Beam spectrum | Polychromatic: 100 | kV | `gvxr.setMonoChromatic(...)` |\n",
    "| Source to detector distance | 100–182.5 | cm | `gvxr.setDetectorPosition(...)` |\n",
    "| Detector model | Varian a-Si | |  |\n",
    "| Detector orientation | [0, 0, -1] |  | `gvxr.setDetectorUpVector(...)` |\n",
    "| Detector resolution | 1190 &times; 1190 | pixels | `gvxr.setDetectorNumberOfPixels(...)` |\n",
    "| Pixel spacing | 0.33613445 &times; 0.33613445 | mm | `gvxr.setDetectorPixelSize(...)` |\n",
    "| Scintillator material | GOS phosphor |  | ??? |\n",
    "| Scintillator thickness | 0.290 | mm |   |\n",
    "| Detector \"cover\" | 1 | mm |  |\n",
    "\n",
    "\n",
    "kVp: 100\n",
    "Exposure time (in msec): 285\n",
    "Exposure time (in sec): 0.28500000000000003\n",
    "X-ray Tube Current (in mA): 175\n",
    "Exposure (in mAs): 83\n",
    "Distance Source to Detector (in mm): 1085.6\n",
    "Distance Source to Patient (in mm): 595.0\n",
    "Rows and columns: 512 512\n",
    "Pixel Spacing (in mm):  [0.625, 0.625]\n",
    "Slice Thickness (in mm):  1.0\n",
    "Volume size (in px):  512x512x426\n",
    "Corrected slice Thickness (in mm):  -86.1\n",
    "\n",
    "\n",
    "<!-- doi: 10.4172/2155-9619.1000354 -->\n",
    "<!-- DOI 10.1088/1361-6560/ab12aa -->\n",
    "\n",
    "<!-- a-Si 1200 -->\n",
    "<!-- 1190 × 1190 -->\n",
    "<!-- 0.34 0.33613445 -->\n",
    "<!-- GOS phosphor: A layer of phosphor that is 0.290 mm thick -->\n",
    "<!-- Copper build-up: A component that is the same thickness as the MLI (1 mm)  -->\n",
    "\n",
    "\n",
    "<!-- Tube voltage: 40–150 kV -->\n",
    "<!-- Source to image distance (SID): 100–182.5 cm -->\n",
    "<!-- Slice thickness: 1.0–5.0 mm -->\n",
    "<!-- Reconstructed volume resolution: Up to 512 × 512 -->\n",
    "<!-- Scan modes: Half-fan (HF) and full-fan (FF) -->\n",
    "<!-- Field of view (FOV): 24 cm for FF and 45 cm for HF -->\n",
    "<!-- X-ray source peak voltage: 100 kVp for head scans and 125 kVp for abdominal scans  -->"
   ]
  },
  {
   "cell_type": "markdown",
   "id": "d4dea73c-4c57-4171-93d0-58f003b9b606",
   "metadata": {
    "id": "98anuGe-jg-i"
   },
   "source": [
    "## Import packages\n",
    "\n",
    "- `os` to create the output directory if needed\n",
    "- `matplotlib` to show 2D images\n",
    "- `SimpleITK` to load the DICOM file\n",
    "- `gvxr` to simulate X-ray images"
   ]
  },
  {
   "cell_type": "code",
   "execution_count": null,
   "id": "00443714-17d0-427f-9b11-e073415ae56a",
   "metadata": {},
   "outputs": [],
   "source": [
    "import math\n",
    "import os # Create the output directory if necessary\n",
    "import numpy as np # Who does not use Numpy?\n",
    "import datetime\n",
    "\n",
    "import matplotlib # To plot images\n",
    "import matplotlib.pyplot as plt # Plotting\n",
    "from matplotlib.colors import LogNorm # Look up table\n",
    "from matplotlib.colors import PowerNorm # Look up table\n",
    "\n",
    "font = {'family' : 'serif',\n",
    "         'size'   : 15\n",
    "       }\n",
    "matplotlib.rc('font', **font)\n",
    "\n",
    "# Uncomment the line below to use LaTeX fonts\n",
    "# matplotlib.rc('text', usetex=True)\n",
    "\n",
    "import SimpleITK as sitk\n",
    "\n",
    "\n",
    "import base64\n",
    "\n",
    "import ipywidgets as widgets\n",
    "\n",
    "from gvxrPython3 import gvxr\n",
    "from gvxrPython3.utils import loadSpekpySpectrum\n",
    "from gvxrPython3.utils import visualise\n",
    "from gvxrPython3.utils import plotScreenshot\n",
    "from gvxrPython3.utils import interactPlotPowerLaw # Plot the X-ray image using a Power law look-up table\n",
    "\n",
    "# Use temporary bug fix\n",
    "if os.path.exists(\"gvxr2json.py\"):\n",
    "    print(\"Use temporary bug fix\")\n",
    "    import gvxr2json\n",
    "#Use the file provided by gVXR's package\n",
    "else:\n",
    "    print(\"Use the file provided by gVXR's package\")\n",
    "    from gvxrPython3 import gvxr2json\n",
    "\n",
    "from gvxrPython3.gVXRDataReader import *\n",
    "\n",
    "# from cil.utilities.jupyter import islicer\n",
    "from cil.processors import TransmissionAbsorptionConverter\n",
    "from cil.utilities.display import show_geometry, show2D\n",
    "from cil.utilities.jupyter import islicer, link_islicer\n",
    "from cil.recon import FBP, FDK\n",
    "from cil.plugins.astra.processors.FDK_Flexible import FDK_Flexible\n",
    "\n",
    "# GD_LS\n",
    "from cil.optimisation.algorithms import GD\n",
    "from cil.plugins.astra import ProjectionOperator\n",
    "from cil.optimisation.functions import LeastSquares\n",
    "from cil.processors import Slicer\n",
    "from cil.plugins.ccpi_regularisation.functions import FGP_TV\n",
    "\n",
    "# # SPDHG\n",
    "from cil.optimisation.algorithms import SPDHG\n",
    "from cil.optimisation.operators import BlockOperator\n",
    "from cil.optimisation.functions import BlockFunction, L2NormSquared\n",
    "\n",
    "\n",
    "from utils import downloadLungman, extractLungmanSTL, extractLungmanDX, loadLungmanMeshes"
   ]
  },
  {
   "cell_type": "markdown",
   "id": "35095b46-e3dd-4c8d-bc16-4bc442c49831",
   "metadata": {},
   "source": [
    "## Getting the data ready\n",
    "\n",
    "Where to save the data."
   ]
  },
  {
   "cell_type": "code",
   "execution_count": 4,
   "id": "8c5f1f8e-7b10-4f8a-a733-b1fb78d3a9f0",
   "metadata": {},
   "outputs": [],
   "source": [
    "output_path = \"output_data/multi_material-CT_scan-low_dose\"\n",
    "if not os.path.exists(output_path):\n",
    "    os.makedirs(output_path);"
   ]
  },
  {
   "cell_type": "markdown",
   "id": "10b6b99a-8e4f-430a-b55b-562806a87401",
   "metadata": {},
   "source": [
    "Download the data from [Zenodo](https://zenodo.org/records/10782644)."
   ]
  },
  {
   "cell_type": "code",
   "execution_count": 5,
   "id": "0094acd7-bd53-4c8d-9526-41f17a1c3a23",
   "metadata": {},
   "outputs": [],
   "source": [
    "zip_fname, lungman_path, mesh_path = downloadLungman()"
   ]
  },
  {
   "cell_type": "markdown",
   "id": "b0607065-f6c8-4be2-a2a8-a25c754bdbcc",
   "metadata": {},
   "source": [
    "Extract the STL files from the ZIP file."
   ]
  },
  {
   "cell_type": "code",
   "execution_count": 6,
   "id": "92a7f679-0ebf-43fd-86d8-ad85ac10e163",
   "metadata": {},
   "outputs": [],
   "source": [
    "stl_fname_set = extractLungmanSTL(zip_fname, lungman_path)"
   ]
  },
  {
   "cell_type": "markdown",
   "id": "da2cf8a6",
   "metadata": {},
   "source": [
    "Extract the Digital Radiograph (DX) (a DICOM file) from the ZIP file."
   ]
  },
  {
   "cell_type": "code",
   "execution_count": 7,
   "id": "451afdf1",
   "metadata": {},
   "outputs": [],
   "source": [
    "DX_DICOM_fname_set = extractLungmanDX(zip_fname, lungman_path)"
   ]
  },
  {
   "cell_type": "markdown",
   "id": "a005f1d2",
   "metadata": {},
   "source": [
    "## Read the ground truth Lungman data\n",
    "\n",
    "<!-- The data is store in DICOM files. The first slice is loaded manually to extract the metadata. The volume is loaded as a DICOM series. -->\n"
   ]
  },
  {
   "cell_type": "code",
   "execution_count": 8,
   "id": "fb073b7c",
   "metadata": {},
   "outputs": [],
   "source": [
    "# file_reader = sitk.ImageFileReader()\n",
    "# file_reader.SetFileName(DICOM_fname_set[0])\n",
    "# file_reader.ReadImageInformation()\n",
    "# file_reader.LoadPrivateTagsOn()\n",
    "# temp_image0 = file_reader.Execute()\n",
    "\n",
    "# file_reader = sitk.ImageFileReader()\n",
    "# file_reader.SetFileName(DICOM_fname_set[1])\n",
    "# file_reader.ReadImageInformation()\n",
    "# file_reader.LoadPrivateTagsOn()\n",
    "# temp_image1 = file_reader.Execute()\n",
    "# first_slice_ref = sitk.GetArrayFromImage(temp_image1).astype(float)[0]\n",
    "\n",
    "# file_reader.SetFileName(DICOM_fname_set[2])\n",
    "# file_reader.ReadImageInformation()\n",
    "# file_reader.LoadPrivateTagsOn()\n",
    "# temp_image3 = file_reader.Execute()\n",
    "# middle_slice_ref = sitk.GetArrayFromImage(temp_image3).astype(float)[0]\n",
    "\n",
    "# file_reader.SetFileName(DICOM_fname_set[3])\n",
    "# file_reader.ReadImageInformation()\n",
    "# file_reader.LoadPrivateTagsOn()\n",
    "# temp_image4 = file_reader.Execute()\n",
    "# last_slice_ref = sitk.GetArrayFromImage(temp_image4).astype(float)[0]"
   ]
  },
  {
   "cell_type": "markdown",
   "id": "b35d4c58",
   "metadata": {},
   "source": [
    "Read the DICOM file."
   ]
  },
  {
   "cell_type": "code",
   "execution_count": 9,
   "id": "4a4d5603",
   "metadata": {},
   "outputs": [],
   "source": [
    "reader = sitk.ImageFileReader();\n",
    "reader.SetImageIO(\"GDCMImageIO\");\n",
    "reader.SetFileName(DX_DICOM_fname_set[0]);\n",
    "reader.LoadPrivateTagsOn();\n",
    "reader.ReadImageInformation();    \n",
    "volume = reader.Execute();\n",
    "raw_reference = sitk.GetArrayFromImage(volume)[0];"
   ]
  },
  {
   "cell_type": "markdown",
   "id": "41fc716e",
   "metadata": {},
   "source": [
    "Extract information useful for the simulation from the DICOM file:\n",
    "\n",
    "- The image size and the physical pixel spacing (i.e. not taking into account the magnification),\n",
    "- The number of pixels,\n",
    "- The distance from the source to the detector, and\n",
    "- The distance from the source to the patient."
   ]
  },
  {
   "cell_type": "code",
   "execution_count": null,
   "id": "13ae7882",
   "metadata": {},
   "outputs": [],
   "source": [
    "# Extract the information from the DICOM header\n",
    "imager_pixel_spacing = np.array(volume.GetMetaData(\"0018|1164\").split(\"\\\\\")).astype(np.single);\n",
    "detector_element_spacing = np.array(volume.GetMetaData(\"0018|7022\").split(\"\\\\\")).astype(np.single);\n",
    "print(\"Imager Pixel Spacing (in mm): \", imager_pixel_spacing, \"(with magnification)\");\n",
    "print(\"Detector Element Spacing (in mm): \", detector_element_spacing, \"(without magnification)\");\n",
    "\n",
    "# Extract the number of pixels\n",
    "size = volume.GetSize()[0:2]\n",
    "print(\"Image size (in pixels): \", str(size[0]) + \" x \" + str(size[1]))\n",
    "\n",
    "# Extract the information from the DICOM header\n",
    "distance_source_to_detector = float(volume.GetMetaData(\"0018|1110\"))\n",
    "distance_source_to_patient = float(volume.GetMetaData(\"0018|1111\"))\n",
    "\n",
    "print(\"Distance Source to Detector: \", distance_source_to_detector, \"mm\")\n",
    "print(\"Distance Source to Patient: \", distance_source_to_patient, \"mm\")"
   ]
  },
  {
   "cell_type": "markdown",
   "id": "47bdf9a4",
   "metadata": {},
   "source": [
    "We also extract the visualisation window to show the image using the 'harder' window."
   ]
  },
  {
   "cell_type": "code",
   "execution_count": null,
   "id": "29020a2a",
   "metadata": {},
   "outputs": [],
   "source": [
    "window_centre = int(volume.GetMetaData(\"0028|1050\").split(\"\\\\\")[1]) # Use 0 for normal, 1 for harder, 2 for softer\n",
    "window_width = int(volume.GetMetaData(\"0028|1051\").split(\"\\\\\")[1]) # Use 0 for normal, 1 for harder, 2 for softer\n",
    "\n",
    "print(\"Window Center used: \", window_centre)\n",
    "print(\"Window Width used: \", window_width)\n",
    "\n",
    "vmin = window_centre - window_width / 2\n",
    "vmax = window_centre + window_width / 2\n",
    "\n",
    "view_position = volume.GetMetaData(\"0018|5101\")"
   ]
  },
  {
   "cell_type": "code",
   "execution_count": null,
   "id": "dbdab54c",
   "metadata": {},
   "outputs": [],
   "source": [
    "fig = plt.figure();\n",
    "plt.imshow(raw_reference, cmap=\"gray\", vmin=vmin, vmax=vmax,\n",
    "                             extent=[0,(raw_reference.shape[1]-1)*imager_pixel_spacing[0],0,(raw_reference.shape[0]-1)*imager_pixel_spacing[1]])\n",
    "plt.title(\"Digital radiograph of the Lungman phantom\")\n",
    "plt.xlabel(\"Pixel position\\n(in mm)\")\n",
    "plt.ylabel(\"Pixel position\\n(in mm)\")\n",
    "plt.colorbar()\n",
    "plt.show()"
   ]
  },
  {
   "cell_type": "markdown",
   "id": "473a1a8f",
   "metadata": {},
   "source": [
    "\n",
    "## Extract experiment parameters from the DICOM metadata\n",
    "\n",
    "\"Slice thickness\" is calculated from the positions of two neighbouring slices."
   ]
  },
  {
   "cell_type": "markdown",
   "id": "f882bb7f",
   "metadata": {},
   "source": []
  },
  {
   "cell_type": "code",
   "execution_count": 13,
   "id": "659db89a",
   "metadata": {},
   "outputs": [],
   "source": [
    "# # Extract the information from the DICOM header\n",
    "# imager_pixel_spacing = np.array(volume.GetMetaData(\"0018|1164\").split(\"\\\\\")).astype(np.single);\n",
    "# detector_element_spacing = np.array(volume.GetMetaData(\"0018|7022\").split(\"\\\\\")).astype(np.single);\n",
    "# print(\"Imager Pixel Spacing (in mm): \", imager_pixel_spacing, \"(with magnification)\");\n",
    "# print(\"Detector Element Spacing (in mm): \", detector_element_spacing, \"(without magnification)\");\n"
   ]
  },
  {
   "cell_type": "code",
   "execution_count": null,
   "id": "e4f7b70d",
   "metadata": {},
   "outputs": [],
   "source": [
    "kvp = float(volume.GetMetaData(\"0018|0060\"))\n",
    "exposure_time_in_ms = int(volume.GetMetaData(\"0018|1150\"))\n",
    "exposure_time_in_sec = 0.001 * exposure_time_in_ms\n",
    "xray_tube_current_in_mA = int(volume.GetMetaData(\"0018|1151\"))\n",
    "xray_tube_current_in_mA = int(volume.GetMetaData(\"0018|1153\"))\n",
    "exposure_in_mAs = int(volume.GetMetaData(\"0018|1152\"))\n",
    "exposure_in_uAs = int(volume.GetMetaData(\"0018|1153\"))\n",
    "distance_source_to_detector = float(volume.GetMetaData(\"0018|1110\"))\n",
    "distance_source_to_patient = float(volume.GetMetaData(\"0018|1111\"))\n",
    "detector_element_spacing = np.array(volume.GetMetaData(\"0018|7022\").split(\"\\\\\")).astype(np.single);\n",
    "\n",
    "rows = int(volume.GetMetaData(\"0028|0010\"))\n",
    "columns = int(volume.GetMetaData(\"0028|0011\"))\n",
    "\n",
    "ref_size = [rows, columns, 426] #ref_volume.GetSize()\n",
    "\n",
    "# slice_thickness = float(volume.GetMetaData(\"0018|0050\"))\n",
    "\n",
    "print(\"kVp:\", kvp)\n",
    "print(\"Exposure time (in msec):\", exposure_time_in_ms)\n",
    "print(\"Exposure time (in sec):\", exposure_time_in_sec)\n",
    "print(\"X-ray Tube Current (in mA):\", xray_tube_current_in_mA)\n",
    "print(\"Exposure (in mAs):\", exposure_in_mAs)\n",
    "print(\"Exposure (in uAs):\", exposure_in_uAs)\n",
    "print(\"Distance Source to Detector (in mm):\", distance_source_to_detector)\n",
    "print(\"Distance Source to Patient (in mm):\", distance_source_to_patient)\n",
    "print(\"Rows and columns:\", rows, columns)\n",
    "print(\"Detector Element Spacing (in mm): \", detector_element_spacing, \"(without magnification)\");\n",
    "# print(\"Slice Thickness (in mm): \", slice_thickness)\n",
    "# print(\"Volume size (in px): \", str(ref_size[0]) + \"x\" + str(ref_size[1]) + \"x\" + str(ref_size[2]))\n",
    "\n",
    "# slice_thickness = 0.7 #ref_volume.GetSpacing()[2]\n",
    "# slice_thickness = abs(float(temp_image0.GetMetaData(\"0020|1041\")) - float(temp_image1.GetMetaData(\"0020|1041\")))\n",
    "\n",
    "# print(\"Corrected slice Thickness (in mm): \", slice_thickness)\n",
    "\n",
    "# voxel_size = [detector_element_spacing[0], detector_element_spacing[0], detector_element_spacing[1]]"
   ]
  },
  {
   "cell_type": "markdown",
   "id": "27cb7333",
   "metadata": {},
   "source": [
    "<!-- Calculate the diagonal to make the detector size big enough to fit the scan. -->"
   ]
  },
  {
   "cell_type": "code",
   "execution_count": 15,
   "id": "f97cd582",
   "metadata": {},
   "outputs": [],
   "source": [
    "# diagonal = 1 + round(math.sqrt(math.pow(columns * pixel_spacing[0], 2) + math.pow(rows * pixel_spacing[1], 2)) / pixel_spacing[0])\n",
    "\n",
    "# if diagonal % 2 == 0:\n",
    "#     diagonal + 1"
   ]
  },
  {
   "cell_type": "markdown",
   "id": "b724fb07-e8d2-4cfa-aa55-accbe431c6cc",
   "metadata": {
    "id": "cvuPTNdejg-k"
   },
   "source": [
    "## 1. Create an OpenGL context\n",
    "\n",
    "The first step is to create the simulation environment, known here as \"OpenGL context\".\n",
    "`gvxr.createOpenGLContext` will try to find the most suitable environment possible regardless of the operating system. This is an alternative function to `gvxr.createNewContext` used in [test_installation.ipynb](test_installation.ipynb)."
   ]
  },
  {
   "cell_type": "code",
   "execution_count": 16,
   "id": "0f64449d-55fc-4132-a843-d4a1d0394c76",
   "metadata": {
    "colab": {
     "base_uri": "https://localhost:8080/"
    },
    "id": "O3l2mW4Fjg-k",
    "outputId": "d420b660-1997-460e-ecc0-45677479141d"
   },
   "outputs": [],
   "source": [
    "gvxr.createOpenGLContext();\n",
    "\n",
    "# or \n",
    "# backend = \"OPENGL\";\n",
    "# backend = \"EGL\";\n",
    "# gvxr.createNewContext(backend);\n",
    "#\n",
    "# with backend a string. Two backends are currently available:\n",
    "#\n",
    "#     \"OPENGL\": makes use of the windowing ability of your system. It can be used for realtime visualisations. \n",
    "#               It is available on Windows, GNU/Linux and MacOS computers.\n",
    "#     \"EGL\": is for offscreen rendering on GNU/Linux computers. That's the option for cloud instances and supercomputers."
   ]
  },
  {
   "cell_type": "markdown",
   "id": "f1c7650d-a26e-431d-b16e-dba0e50f9487",
   "metadata": {},
   "source": [
    "We increase the size of the visualisation framebuffer to generate higher resolution screenshots. It does not affect the simulation."
   ]
  },
  {
   "cell_type": "code",
   "execution_count": 17,
   "id": "739f08cc-5824-4d4c-b4a2-0c7263310e3f",
   "metadata": {},
   "outputs": [],
   "source": [
    "gvxr.setWindowSize(1000, 1000)"
   ]
  },
  {
   "cell_type": "markdown",
   "metadata": {},
   "source": [
    "## 2. Set the Sample\n",
    "\n",
    "A sample is define by its geometry (surface) and material composition. Note that you can transform (translate, scale and rotate) a sample."
   ]
  },
  {
   "cell_type": "code",
   "execution_count": 18,
   "metadata": {},
   "outputs": [],
   "source": [
    "loadLungmanMeshes(mesh_path)\n",
    "skin_bbox = gvxr.getNodeOnlyBoundingBox(\"skin\", \"mm\")"
   ]
  },
  {
   "cell_type": "markdown",
   "id": "b51ac480",
   "metadata": {},
   "source": [
    "## 3. Set the Detector\n",
    "\n",
    "A detector is defined by its position, orientation, pixel resolution and the space between the centre of two consecutive pixels along its two axes. Here we also set a scintillator."
   ]
  },
  {
   "cell_type": "code",
   "execution_count": null,
   "id": "5f1d26da",
   "metadata": {},
   "outputs": [],
   "source": [
    "gvxr.setDetectorPosition(0, \n",
    "    -(skin_bbox[1] + distance_source_to_patient - distance_source_to_detector), \n",
    "    0, \n",
    "    \"mm\");\n",
    "gvxr.setDetectorUpVector(0, 0, 1);\n",
    "gvxr.setDetectorNumberOfPixels(columns, rows);\n",
    "gvxr.setDetectorPixelSize(*detector_element_spacing, \"mm\");\n",
    "gvxr.setScintillator(\"CsI\", 600, \"um\");\n",
    "\n",
    "print(\"Detector position:\", gvxr.getDetectorPosition(\"mm\"), \"mm\")\n",
    "print(\"Detector up vector:\", gvxr.getDetectorUpVector())\n",
    "print(\"Detector number of pixels:\", gvxr.getDetectorNumberOfPixels())\n",
    "print(\"Pixel spacing:\", gvxr.getDetectorPixelSpacing(\"mm\"), \"mm\")\n"
   ]
  },
  {
   "cell_type": "markdown",
   "id": "ba530d5f",
   "metadata": {},
   "source": [
    "Plot the energy response of the detector."
   ]
  },
  {
   "cell_type": "code",
   "execution_count": null,
   "id": "4f8e0c2f",
   "metadata": {},
   "outputs": [],
   "source": [
    "detector_response = np.array(gvxr.getEnergyResponse(\"keV\"));\n",
    "\n",
    "plt.figure(figsize= (20,10))\n",
    "# plt.title(\"Detector response\")\n",
    "plt.plot(detector_response[:,0], detector_response[:,1])\n",
    "plt.xlabel('Incident energy: E (in keV)')\n",
    "plt.ylabel('Detector energy response: $\\\\delta$(E) (in keV)')\n",
    "\n",
    "plt.tight_layout()\n",
    "\n",
    "plt.savefig(output_path + '/detector_response.pdf')\n",
    "plt.savefig(output_path + '/detector_response.png')"
   ]
  },
  {
   "cell_type": "markdown",
   "id": "ffb6ed56",
   "metadata": {},
   "source": [
    "## 4. Set the X-ray source\n",
    "\n",
    "We must set it's position and beam shape. We will use the distance from the DICOM file."
   ]
  },
  {
   "cell_type": "code",
   "execution_count": null,
   "id": "2ae7d25e-8acf-4065-ac5b-526e9f03193e",
   "metadata": {},
   "outputs": [],
   "source": [
    "gvxr.setSourcePosition(0, \n",
    "    -(distance_source_to_detector + skin_bbox[1] + distance_source_to_patient - distance_source_to_detector), \n",
    "    0, \n",
    "    \"mm\");    \n",
    "gvxr.useParallelSource();\n",
    "\n",
    "print(\"Source position:\", gvxr.getSourcePosition(\"mm\"), \"mm\")\n",
    "print(\"Source shape:\", gvxr.getSourceShape())\n"
   ]
  },
  {
   "cell_type": "markdown",
   "id": "9d9305d9-35f5-4f89-9656-c25e26c97971",
   "metadata": {
    "id": "faqHVUZDjg-l"
   },
   "source": [
    "## 5. Set the Spectrum\n",
    "\n",
    "We define here the number of photons and their kinetic energy.\n",
    "Again, we will use the \n"
   ]
  },
  {
   "cell_type": "code",
   "execution_count": null,
   "id": "2cfca6e8-f695-46ef-84ea-83ceb454b11c",
   "metadata": {
    "id": "tA4L8T8Njg-l"
   },
   "outputs": [],
   "source": [
    "filtration = None;\n",
    "\n",
    "source_detector_distance = np.linalg.norm(np.array(gvxr.getSourcePosition(\"cm\")) - np.array(gvxr.getDetectorPosition(\"cm\")))\n",
    "\n",
    "spectrum = loadSpekpySpectrum(kvp, \n",
    "    filters=filtration,\n",
    "    th_in_deg=12,\n",
    "    mAs=exposure_in_mAs,\n",
    "    z=source_detector_distance\n",
    "    );"
   ]
  },
  {
   "cell_type": "markdown",
   "id": "a1175000",
   "metadata": {},
   "source": [
    "\n",
    "Plot the beam spectrum computed with Spekpy."
   ]
  },
  {
   "cell_type": "code",
   "execution_count": null,
   "id": "22562134-6a2e-452f-aabe-003bb3b21cbc",
   "metadata": {},
   "outputs": [],
   "source": [
    "plt.figure(figsize= (20,10))\n",
    "# plt.title(\"Beam spectrum\")\n",
    "plt.bar(spectrum[1], spectrum[2], width=1)\n",
    "plt.xlabel('Energy in keV')\n",
    "plt.ylabel('Probability distribution of photons per keV')\n",
    "plt.savefig(output_path + \"/spectrum.pdf\")\n",
    "plt.show()"
   ]
  },
  {
   "cell_type": "markdown",
   "id": "318ccf85-51b9-4df4-9b3c-384c362bf341",
   "metadata": {
    "id": "FWhKJqMBjg-n"
   },
   "source": [
    "## 6. Compute the corresponding X-ray image.\n",
    "\n",
    "It is possible to compute, retrieve and save an X-ray image as well as the path length of X-ray through an object."
   ]
  },
  {
   "cell_type": "code",
   "execution_count": 24,
   "id": "02e8f49d-86d2-4e4e-9360-9f4f6274bce4",
   "metadata": {},
   "outputs": [],
   "source": [
    "x_ray_image = np.array(gvxr.computeXRayImage(), dtype=np.single) / gvxr.getTotalEnergyWithDetectorResponse();"
   ]
  },
  {
   "cell_type": "code",
   "execution_count": null,
   "id": "a780a562-7f2e-4b8e-88a3-f5828907f7fd",
   "metadata": {},
   "outputs": [],
   "source": [
    "plotScreenshot()"
   ]
  },
  {
   "cell_type": "code",
   "execution_count": null,
   "id": "248c1415",
   "metadata": {},
   "outputs": [],
   "source": [
    "%matplotlib inline\n",
    "from scipy import *\n",
    "import matplotlib.pyplot as plt\n",
    "from ipywidgets import interact, FloatSlider\n",
    "from IPython.display import display\n",
    "import spekpy as sp\n",
    "\n",
    "number_of_white_images = 10\n",
    "new_exposure_time_in_msec = None\n",
    "\n",
    "def ms2mAs(ms):\n",
    "    original_mAs = (exposure_in_uAs / 1000.0)\n",
    "    original_current_in_mA = original_mAs / exposure_time_in_sec;\n",
    "    return original_current_in_mA * (ms / 1000.0)\n",
    "\n",
    "def interact_spectrum():\n",
    "    ## Plot parameters\n",
    "    xmin, xmax, nx = 0.0, 10.0, 50\n",
    "    ymin, ymax = -1.2, 1.2\n",
    "    pmin, pmax, pstep, pinit = -3.2, 3.2, 0.2, 0.0\n",
    "    \n",
    "    ## Set up the plot data\n",
    "    x     = np.linspace(xmin, xmax, nx)\n",
    "    fig, axs = plt.subplots(nrows=1, ncols=3, figsize=(10,5))\n",
    "    line, = axs[0].plot([], [], linewidth=2) # Initialize curve to empty data.\n",
    "\n",
    "    ## Set up the figure axes, etc.\n",
    "    axs[0].set_title(\"Tube spectrum\")\n",
    "    axs[0].set_xlim(xmin, xmax)\n",
    "    # axs[0].set_ylim(ymin, ymax)\n",
    "    axs[0].set_xlabel('Energy in keV')\n",
    "    axs[0].set_ylabel('Number photons per keV per cm$^2$')\n",
    "    \n",
    "    axs[1].set_title(\"X-ray image\\nUsing a log LUT\")\n",
    "    \n",
    "    axs[2].set_title(\"Intensity profile\\nmiddle row\")\n",
    "    # axs[2].set_xlim(xmin, xmax)\n",
    "    # axs[2].set_ylim(ymin, ymax)\n",
    "    axs[2].set_xlabel('Pixel position')\n",
    "    axs[2].set_ylabel('Pixel intensity')\n",
    "    line_profile, = axs[2].plot([], [], linewidth=2) # Initialize curve to empty data.\n",
    "\n",
    "    plt.close()      # Don't show the figure yet.\n",
    "\n",
    "    # Select the voltage\n",
    "    kV_slider = widgets.IntSlider(\n",
    "        value=100,\n",
    "        min=20,\n",
    "        max=200,\n",
    "        step=1,\n",
    "        description='kV:'\n",
    "    )\n",
    "    \n",
    "    # Select the mAs\n",
    "    exposure_time_slider = widgets.FloatSlider(\n",
    "        value=exposure_time_in_ms,\n",
    "        min=0.1,\n",
    "        max=15,\n",
    "        step=0.25,\n",
    "        description='Exposure time in ms:',\n",
    "    )\n",
    "    \n",
    "    white_slider = widgets.IntSlider(\n",
    "        value=number_of_white_images,\n",
    "        min=0,\n",
    "        max=100,\n",
    "        step=1,\n",
    "        description='White images:',\n",
    "    )\n",
    "    \n",
    "    ## Callback function\n",
    "    def update_plot(kV, ms, white_images):\n",
    "        \n",
    "        global number_of_white_images, x_ray_image\n",
    "        global new_exposure_time_in_msec\n",
    "\n",
    "        number_of_white_images = white_images\n",
    "        \n",
    "        source_detector_distance = np.linalg.norm(np.array(gvxr.getSourcePosition(\"cm\")) - np.array(gvxr.getDetectorPosition(\"cm\")))\n",
    "\n",
    "        # Generate and load the corresponding spectrum\n",
    "        new_exposure_time_in_msec = ms\n",
    "        spectrum = loadSpekpySpectrum(kvp, \n",
    "            filters=None,\n",
    "            th_in_deg=12,\n",
    "            mAs=ms2mAs(ms),\n",
    "            z=source_detector_distance\n",
    "            );\n",
    "        \n",
    "        if len(spectrum[1]) == len(spectrum[2]) and len(spectrum[1]) > 0:\n",
    "            axs[0].set_xlim(0, kV_slider.value)\n",
    "            axs[0].set_ylim(0, np.max(spectrum[2]))\n",
    "            line.set_data(spectrum[1], spectrum[2])\n",
    "        else:\n",
    "            line.set_data([], [])\n",
    "        \n",
    "        gvxr.enablePoissonNoise()\n",
    "\n",
    "        x_ray_image = np.array(gvxr.computeXRayImage()) / gvxr.getUnitOfEnergy(\"MeV\")\n",
    "        \n",
    "        if white_images > 0:\n",
    "            white_image = np.array(gvxr.getWhiteImage()) / gvxr.getUnitOfEnergy(\"MeV\")\n",
    "            for i in range(white_images - 1):\n",
    "                white_image += np.array(gvxr.getWhiteImage()) / gvxr.getUnitOfEnergy(\"MeV\")\n",
    "            white_image /= white_images\n",
    "\n",
    "            x_ray_image /= white_image\n",
    "\n",
    "        x_ray_image[x_ray_image<0.0] = 1e-5\n",
    "        axs[1].imshow(np.log(x_ray_image), cmap=\"gray\")\n",
    "\n",
    "        \n",
    "        row = x_ray_image[x_ray_image.shape[0] // 2]\n",
    "        line_profile.set_data(np.arange(len(row)), row)\n",
    "        axs[2].set_xlim(0, len(row) - 1)\n",
    "        axs[2].set_ylim(0, np.max(row))\n",
    "\n",
    "        display(fig)\n",
    "        \n",
    "    ## Generate the user interface.\n",
    "    interact(update_plot, kV=kV_slider, ms=exposure_time_slider, white_images=white_slider)\n",
    "\n",
    "interact_spectrum();"
   ]
  },
  {
   "cell_type": "code",
   "execution_count": null,
   "id": "2e14bba9",
   "metadata": {},
   "outputs": [],
   "source": [
    "default_number_of_projections = gvxr.getOptimalNumberOfProjectionsCT()\n",
    "\n",
    "projection_slider = widgets.IntSlider(\n",
    "        value=default_number_of_projections,\n",
    "        min=50,\n",
    "        max=round(default_number_of_projections*1.5),\n",
    "        step=1,\n",
    "        description='Projections:',\n",
    "    )\n",
    "\n",
    "\n",
    "\n",
    "def on_button_clicked(_):\n",
    "    projection_slider.value = default_number_of_projections\n",
    "    \n",
    "button = widgets.Button(description=\"Reset\")\n",
    "button.on_click(on_button_clicked)\n",
    "\n",
    "display(widgets.VBox([projection_slider, button]))"
   ]
  },
  {
   "cell_type": "code",
   "execution_count": null,
   "id": "63bf7eb3",
   "metadata": {},
   "outputs": [],
   "source": [
    "number_of_projections = projection_slider.value;\n",
    "\n",
    "number_of_white_images = 10\n",
    "\n",
    "translation_vector_in_mm = [\n",
    "    skin_bbox[0] + (skin_bbox[3] - skin_bbox[0]) / 2.0,\n",
    "    skin_bbox[1] + (skin_bbox[4] - skin_bbox[1]) / 2.0,\n",
    "    skin_bbox[2] + (skin_bbox[5] - skin_bbox[2]) / 2.0,\n",
    "]\n",
    "\n",
    "start_time = datetime.datetime.now()\n",
    "\n",
    "CT_output_path = os.path.join(output_path, \"projections-\" + str(number_of_projections)+\"-\" + str(new_exposure_time_in_msec) +\"mAs\")\n",
    "gvxr.computeCTAcquisition(CT_output_path, # the path where the X-ray projections will be saved.\n",
    "                                                                    # If the path is empty, the data will be stored in the main memory, but not saved on the disk.\n",
    "                                                                    # If the path is provided, the data will be saved on the disk, and the main memory released.\n",
    "                          os.path.join(output_path, \"screenshots-\" + str(number_of_projections)), # the path where the screenshots will be saved.\n",
    "                                                                    # If kept empty, not screenshot will be saved.\n",
    "                          projection_slider.value, # The total number of projections to simulate.\n",
    "                          0, # The rotation angle corresponding to the first projection.\n",
    "                          True, # A boolean flag to include or exclude the last angle. It is used to calculate the angular step between successive projections.\n",
    "                          360,\n",
    "                          number_of_white_images, # The number of white images used to perform the flat-field correction. If zero, then no correction will be performed.\n",
    "                          *translation_vector_in_mm, # The location of the rotation centre.\n",
    "                          \"mm\", # The corresponding unit of length.\n",
    "                          *gvxr.getDetectorUpVector(), # The rotation axis\n",
    "                          True # If true the energy fluence is returned, otherwise the number of photons is returned\n",
    "                               # (default value: true)\n",
    ");\n",
    "\n",
    "end_time = datetime.datetime.now()\n",
    "delta_time = end_time - start_time\n",
    "total_run_time_in_sec = delta_time.total_seconds()\n",
    "run_time_in_msec_per_frame = total_run_time_in_sec * 1000 / number_of_projections\n",
    "\n",
    "print(\"Total runtime for\", number_of_projections, \"projections:\", total_run_time_in_sec, \"[sec]\")\n",
    "print(\"Runtime per frame:\", run_time_in_msec_per_frame, \"[msec]\")"
   ]
  },
  {
   "cell_type": "code",
   "execution_count": null,
   "id": "fd18d5af",
   "metadata": {},
   "outputs": [],
   "source": [
    "# # Save the current simulation states in a JSON file.\n",
    "# # It could be used to re-run the simulation, or to read the data with CIL.\n",
    "# json_fname = os.path.join(output_path, \"simulation-\" + str(number_of_projections) + \".json\");\n",
    "# gvxr2json.saveJSON(json_fname);"
   ]
  },
  {
   "cell_type": "code",
   "execution_count": null,
   "id": "b7a98815",
   "metadata": {},
   "outputs": [],
   "source": [
    "# Read the simulated data with CIL.\n",
    "# reader = JSON2gVXRDataReader(json_fname);\n",
    "reader = gVXRDataReader(CT_output_path, gvxr.getAngleSetCT());\n",
    "data = reader.read()"
   ]
  },
  {
   "cell_type": "code",
   "execution_count": null,
   "id": "f328a226",
   "metadata": {},
   "outputs": [],
   "source": [
    "data_corr = TransmissionAbsorptionConverter(white_level=data.max())(data)"
   ]
  },
  {
   "cell_type": "code",
   "execution_count": null,
   "id": "00496036",
   "metadata": {},
   "outputs": [],
   "source": [
    "ig = data_corr.geometry.get_ImageGeometry();"
   ]
  },
  {
   "cell_type": "code",
   "execution_count": null,
   "id": "3fb973fc",
   "metadata": {},
   "outputs": [],
   "source": [
    "data_corr.reorder(order='tigre')\n",
    "FBP_reconstruction = FBP(data_corr, ig).run()"
   ]
  },
  {
   "cell_type": "code",
   "execution_count": null,
   "id": "45dcae60",
   "metadata": {},
   "outputs": [],
   "source": [
    "show2D(FBP_reconstruction, cmap='gray', origin='upper-left')"
   ]
  },
  {
   "cell_type": "code",
   "execution_count": null,
   "id": "bed08555",
   "metadata": {},
   "outputs": [],
   "source": [
    "data_corr.reorder(\"astra\")\n",
    "\n",
    "ag = data_corr.geometry\n",
    "ig = ag.get_ImageGeometry()\n",
    "\n",
    "# ig.voxel_num_x = ref_size[0]\n",
    "# ig.voxel_num_y = ref_size[1]\n",
    "# ig.voxel_num_z = ref_size[2]\n",
    "\n",
    "# ig.voxel_size_x = voxel_size[0]\n",
    "# ig.voxel_size_y = voxel_size[1]\n",
    "# ig.voxel_size_z = voxel_size[2]\n",
    "\n",
    "A = ProjectionOperator(ig, ag, device=\"gpu\")"
   ]
  },
  {
   "cell_type": "code",
   "execution_count": null,
   "id": "3e20bee7",
   "metadata": {},
   "outputs": [],
   "source": [
    "b = data_corr\n",
    "f1 = LeastSquares(A, b)\n",
    "x0 = ig.allocate(0.0)\n",
    "f1(x0);"
   ]
  },
  {
   "cell_type": "code",
   "execution_count": null,
   "id": "d4f2928b",
   "metadata": {},
   "outputs": [],
   "source": [
    "GD_LS = GD(initial=x0, \n",
    "    objective_function=f1, \n",
    "    step_size=None, \n",
    "    max_iteration=1000, \n",
    "    update_objective_interval=10)"
   ]
  },
  {
   "cell_type": "code",
   "execution_count": null,
   "id": "a436c073",
   "metadata": {},
   "outputs": [],
   "source": [
    "GD_LS.run(300, verbose=1)"
   ]
  },
  {
   "cell_type": "code",
   "execution_count": null,
   "id": "58da95ec",
   "metadata": {},
   "outputs": [],
   "source": [
    "# Define number of subsets\n",
    "n_subsets = 10\n",
    "\n",
    "# Initialize the lists containing the F_i's and A_i's\n",
    "f_subsets = []\n",
    "A_subsets = []\n",
    "\n",
    "# Define F_i's and A_i's\n",
    "for i in range(n_subsets):\n",
    "    # Total number of angles\n",
    "    n_angles = len(ag.angles)\n",
    "    # Divide the data into subsets\n",
    "    data_subset = Slicer(roi = {'angle' : (i,n_angles,n_subsets)})(data_corr)\n",
    "    # Define F_i and put into list\n",
    "    fi = 0.5*L2NormSquared(b = data_subset)\n",
    "    f_subsets.append(fi)\n",
    "    # Define A_i and put into list \n",
    "    ageom_subset = data_subset.geometry\n",
    "    Ai = ProjectionOperator(ig, ageom_subset)\n",
    "    A_subsets.append(Ai)\n",
    "\n",
    "# Define F and K\n",
    "F = BlockFunction(*f_subsets)\n",
    "K = BlockOperator(*A_subsets)\n",
    "\n",
    "# Define G (by default the positivity constraint is on)\n",
    "alpha = 0.025\n",
    "G = alpha * FGP_TV()"
   ]
  },
  {
   "cell_type": "code",
   "execution_count": null,
   "id": "de42c516",
   "metadata": {},
   "outputs": [],
   "source": [
    "# Setup and run SPDHG for 50 iterations\n",
    "spdhg = SPDHG(f = F, g = G, operator = K,  max_iteration = 50,\n",
    "            update_objective_interval = 10)\n",
    "spdhg.run()\n",
    "\n",
    "spdhg_recon = spdhg.solution    "
   ]
  },
  {
   "cell_type": "code",
   "execution_count": null,
   "id": "87fe24cd",
   "metadata": {},
   "outputs": [],
   "source": [
    "sl1 = islicer(FBP_reconstruction, title=\"FBP or FDK\", cmap='gray', origin='upper-left')\n",
    "sl2 = islicer(GD_LS.solution, title=\"Gradient Descent\", cmap='gray', origin='upper-left')\n",
    "sl3 = islicer(spdhg.solution, title=\"Stochastic Primal Dual Hybrid Gradient Algorithm\", cmap='gray', origin='upper-left')\n",
    "link_islicer(sl1, sl2, sl3)\n",
    "# link_islicer(sl1, sl2)"
   ]
  },
  {
   "cell_type": "markdown",
   "id": "4ce68bc6-9fab-4818-b09f-5159873fae2c",
   "metadata": {
    "id": "1vrbJFWzjg-p"
   },
   "source": [
    "# Cleaning up\n",
    "\n",
    "Once we have finished it is good practice to clean up the OpenGL contexts and windows with the following command."
   ]
  },
  {
   "cell_type": "code",
   "execution_count": null,
   "id": "f8713a20-0639-4ebf-be91-34c76d362e1c",
   "metadata": {
    "id": "2ldO2muTjg-p"
   },
   "outputs": [],
   "source": [
    "gvxr.terminate();"
   ]
  }
 ],
 "metadata": {
  "kernelspec": {
   "display_name": "gvxr-tutorials",
   "language": "python",
   "name": "python3"
  },
  "language_info": {
   "codemirror_mode": {
    "name": "ipython",
    "version": 3
   },
   "file_extension": ".py",
   "mimetype": "text/x-python",
   "name": "python",
   "nbconvert_exporter": "python",
   "pygments_lexer": "ipython3",
   "version": "3.11.11"
  }
 },
 "nbformat": 4,
 "nbformat_minor": 5
}
