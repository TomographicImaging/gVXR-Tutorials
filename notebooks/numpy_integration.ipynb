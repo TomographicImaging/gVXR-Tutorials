{
 "cells": [
  {
   "cell_type": "markdown",
   "metadata": {
    "id": "4DrP1n1sjg-e"
   },
   "source": [
    "<a href=\"https://colab.research.google.com/github/TomographicImaging/gVXR-Tutorials/blob/main/notebooks/numpy_integration.ipynb\" target=\"_parent\"><img src=\"https://colab.research.google.com/assets/colab-badge.svg\" alt=\"Open In Colab\"/></a>"
   ]
  },
  {
   "cell_type": "code",
   "execution_count": 1,
   "metadata": {
    "id": "be4b4b61-7abb-440c-9605-486bce082901"
   },
   "outputs": [],
   "source": [
    "# -*- coding: utf-8 -*-\n",
    "#\n",
    "#  Copyright 2025 United Kingdom Research and Innovation\n",
    "#\n",
    "#  Licensed under the Apache License, Version 2.0 (the \"License\");\n",
    "#  you may not use this file except in compliance with the License.\n",
    "#  You may obtain a copy of the License at\n",
    "#\n",
    "#      http://www.apache.org/licenses/LICENSE-2.0\n",
    "#\n",
    "#  Unless required by applicable law or agreed to in writing, software\n",
    "#  distributed under the License is distributed on an \"AS IS\" BASIS,\n",
    "#  WITHOUT WARRANTIES OR CONDITIONS OF ANY KIND, either express or implied.\n",
    "#  See the License for the specific language governing permissions and\n",
    "#  limitations under the License.\n",
    "#\n",
    "#   Authored by:    Franck Vidal (UKRI-STFC)"
   ]
  },
  {
   "cell_type": "markdown",
   "metadata": {
    "id": "LitIbS2Yjg-g",
    "tags": []
   },
   "source": [
    "![gVXR](https://github.com/TomographicImaging/gVXR-Tutorials/blob/main/img/Logo-transparent-small.png?raw=1)\n",
    "\n",
    "# Numpy integration\n",
    "\n",
    "This notebook shows how to speed up the simulation by avoiding memory copies when the simulated data must be accessed in Python.\n",
    "The table below shows runtimes for the different function calls on my current system.\n",
    "\n",
    "| Python integration | Array type | Number of images simulated in one second |\n",
    "|--------------------|------------|------------------------------------------|\n",
    "| False | Python | 331 |\n",
    "| False | Numpy | 125 |\n",
    "| True | Numpy | 1120 |\n",
    "\n",
    "\n",
    "\n",
    "<div class=\"alert alert-block alert-warning\">\n",
    "    <b>Note:</b> Make sure the Python packages are already installed. See <a href=\"../README.md\">README.md</a> in the root directory of the repository. If you are running this notebook from Google Colab, please run the cell below to install the package with `!pip install gvxr`\n",
    "</div>"
   ]
  },
  {
   "cell_type": "code",
   "execution_count": 2,
   "metadata": {
    "colab": {
     "base_uri": "https://localhost:8080/"
    },
    "id": "bSYJhBjCjg-h",
    "outputId": "443ab78d-3838-498c-dfe5-addd6f3cf186"
   },
   "outputs": [],
   "source": [
    "import sys\n",
    "IN_COLAB = 'google.colab' in sys.modules\n",
    "\n",
    "if IN_COLAB:\n",
    "    !apt-get install libnvidia-gl-575\n",
    "    !pip install gvxr"
   ]
  },
  {
   "cell_type": "markdown",
   "metadata": {
    "id": "77W1AXNQjg-h"
   },
   "source": [
    "# Aims of this session\n",
    "\n",
    "1. Revisit the example from last time;\n",
    "2. Estimate the speed up factor when the Numpy integration is used.\n",
    "\n",
    "![](https://github.com/TomographicImaging/gVXR-Tutorials/blob/main/img/02-visualisation.png?raw=1)"
   ]
  },
  {
   "cell_type": "markdown",
   "metadata": {
    "id": "rxBXwyIbjg-i"
   },
   "source": [
    "# Cheat Sheet\n",
    "\n",
    "## Simulation parameters\n",
    "\n",
    "| Parameters | Values | Units | Function call |\n",
    "|------------|--------|-------|---------------|\n",
    "| Source position | [-40, 0, 0] | cm | `gvxr.setSourcePosition(-40.0, 0.0, 0.0, \"cm\")` |\n",
    "| Source type (beam shape) | Point source (cone beam) | | `gvxr.usePointSource()` |\n",
    "| Beam spectrum | Monochromatic: 1,000 photons of 80 | keV | `gvxr.setMonoChromatic(80.0, \"keV\", 1000)` or |\n",
    "| | | MeV | `gvxr.setMonoChromatic(0.08, \"MeV\", 1000)` |\n",
    "| Detector position | [10, 0, 0] | cm | `gvxr.setDetectorPosition(10.0, 0.0, 0.0, \"cm\")` |\n",
    "| Detector orientation | [0, 0, -1] |  | `gvxr.setDetectorUpVector(0, 0, -1)` |\n",
    "| Detector resolution | 640 &times; 320 | pixels | `gvxr.setDetectorNumberOfPixels(640, 320)` |\n",
    "| Pixel spacing | 0.5 &times; 0.5 | mm | `gvxr.setDetectorPixelSize(0.5, 0.5, \"mm\")` |\n",
    "| Sample | STL file of the Welsh dragon | mm | `gvxr.loadMeshFile(string_ID, fname, \"mm\")` |\n",
    "| Material composition | Ti90Al6V4 alloy |  | `gvxr.setMixture(\"Dragon\", \"Ti90Al6V4\")` or |\n",
    "| | | | `gvxr.setMixture(\"Dragon\", [22, 13, 23], [0.9, 0.06, 0.04])` |\n",
    "| Material density | 4.43 | g/cm3 | `gvxr.setDensity(\"Dragon\", 4.43, \"g/cm3\")` or |\n",
    "| | | g.cm-3 | `gvxr.setDensity(\"Dragon\", 4.43, \"g.cm-3\")` |\n",
    "\n",
    "## Other gVXR's function used\n",
    "\n",
    "| Functions | Descriptions |\n",
    "|-----------|--------------|\n",
    "| `gvxr.createOpenGLContext` | Create a simulation environment automatically. You must call either `gvxr.createOpenGLContext()` or `gvxr.createNewContext()` before any other functions from gVXR. |\n",
    "| `gvxr.moveToCentre` | Move a polygon mesh to the centre. |\n",
    "| `gvxr.setElement` | Set the chemical element (e.g. iron) corresponding to the material properties of a polygon mesh. |\n",
    "| `gvxr.setCompound` | Set the compound (e.g. water) corresponding to the material properties of a polygon mesh. |\n",
    "| `gvxr.computeXRayImage` | Compute the X-ray projection corresponding to the environment that has previously been set. |\n",
    "| `gvxr.displayScene` | Update the visualisation window. It works with both the interactive window and offscreen rendering. |\n",
    "| `gvxr.saveLastXRayImage` | Save the last computed X-ray image in a file (e.g. TIFF, MHA, MHD/RAW) and store the data using single-precision floating-point numbers. |\n",
    "| `gvxr.saveLastLBuffer` | Save the last computed path length in a file (e.g. TIFF, MHA, MHD/RAW) and store the data using single-precision floating-point numbers. The red channel is the path length; the green and blue channels can be used to detect errors (0.0 values mean no error). |\n",
    "| `gvxr.setColour` | Change the colour of an object in the 3D visualisation. |\n",
    "| `gvxr.setWindowBackGroundColour` | Change the background colour of the 3D visualisation. |\n",
    "| `gvxr.takeScreenshot` | Take the screenshot of the current state of the 3D visualisation. |\n",
    "| `gvxr.renderLoop` | Activate the interactive mode of the 3D visualisation. |\n",
    "| `gvxr.terminate` | Close and destroy all the windows and simulation contexts that have been created. No further gVXR's function should be called after `gvxr.terminate`. |"
   ]
  },
  {
   "cell_type": "markdown",
   "metadata": {
    "id": "98anuGe-jg-i"
   },
   "source": [
    "## Import packages\n",
    "\n",
    "- `os` to create the output directory if needed\n",
    "- `time` and `datetime` to compute exectution durations\n",
    "- `gvxr` to simulate X-ray images"
   ]
  },
  {
   "cell_type": "code",
   "execution_count": 3,
   "metadata": {
    "id": "s52pDB3Gjg-j"
   },
   "outputs": [],
   "source": [
    "# Import packages\n",
    "import os # Create the output directory if necessary\n",
    "import numpy as np # Who does not use Numpy?\n",
    "\n",
    "import time\n",
    "from datetime import timedelta\n",
    "\n",
    "from gvxrPython3 import gvxr # Simulate X-ray images"
   ]
  },
  {
   "cell_type": "markdown",
   "metadata": {
    "id": "cvuPTNdejg-k"
   },
   "source": [
    "## 1. Recycle the code from [the notebook on First X-ray simulation](notebooks/first_xray_simulation.ipynb)"
   ]
  },
  {
   "cell_type": "code",
   "execution_count": 5,
   "metadata": {
    "colab": {
     "base_uri": "https://localhost:8080/"
    },
    "id": "O3l2mW4Fjg-k",
    "outputId": "d420b660-1997-460e-ecc0-45677479141d"
   },
   "outputs": [
    {
     "name": "stdout",
     "output_type": "stream",
     "text": [
      "Create an OpenGL context\n"
     ]
    },
    {
     "name": "stderr",
     "output_type": "stream",
     "text": [
      "Mon Jul 21 14:32:20 2025 ---- Create window (ID: -1)\n",
      "Mon Jul 21 14:32:20 2025 ---- Request an interactive OpenGL context\n",
      "Mon Jul 21 14:32:20 2025 ---- Initialise GLFW\n",
      "Mon Jul 21 14:32:20 2025 ---- Create an OpenGL window with a 4.3 context.\n",
      "Mon Jul 21 14:32:21 2025 ---- Make the window's context current\n",
      "Mon Jul 21 14:32:21 2025 ---- Initialise GLEW\n",
      "Mon Jul 21 14:32:21 2025 ---- OpenGL vendor: NVIDIA Corporation\n",
      "Mon Jul 21 14:32:21 2025 ---- OpenGL renderer: NVIDIA GeForce RTX 4060 Ti/PCIe/SSE2\n",
      "Mon Jul 21 14:32:21 2025 ---- OpenGL version: 4.3.0 NVIDIA 570.153.02\n",
      "Mon Jul 21 14:32:21 2025 ---- Use OpenGL 4.5.\n",
      "Mon Jul 21 14:32:21 2025 ---- Use OpenGL Compute Shader.\n",
      "Mon Jul 21 14:32:21 2025 ---- Initialise the X-ray renderer if needed and if possible\n"
     ]
    }
   ],
   "source": [
    "# Create an OpenGL context\n",
    "print(\"Create an OpenGL context\");\n",
    "gvxr.createOpenGLContext();"
   ]
  },
  {
   "cell_type": "code",
   "execution_count": 6,
   "metadata": {
    "colab": {
     "base_uri": "https://localhost:8080/"
    },
    "id": "pc9fhhNojg-k",
    "outputId": "a745ddab-caa6-40bd-a8c9-2815b3452879"
   },
   "outputs": [
    {
     "name": "stdout",
     "output_type": "stream",
     "text": [
      "Set up the beam\n"
     ]
    }
   ],
   "source": [
    "# Create a source\n",
    "print(\"Set up the beam\");\n",
    "gvxr.setSourcePosition(-40.0,  0.0, 0.0, \"cm\");\n",
    "gvxr.usePointSource();\n",
    "#  For a parallel source, use gvxr.useParallelBeam();"
   ]
  },
  {
   "cell_type": "code",
   "execution_count": 7,
   "metadata": {
    "id": "tA4L8T8Njg-l"
   },
   "outputs": [
    {
     "name": "stderr",
     "output_type": "stream",
     "text": [
      "Mon Jul 21 14:32:21 2025 (WW) setMonoChromatic is deprecated. It will be removed in a future release. Choose setMonoChromaticPerPixelAtSDD or setMonoChromaticPerCm2At1m. Note that setMonoChromatic and setMonoChromaticPerPixelAtSDD are equivalent.\n"
     ]
    }
   ],
   "source": [
    "# Set its spectrum, here a monochromatic beam\n",
    "# 1000 photons of 80 keV (i.e. 0.08 MeV) per ray\n",
    "gvxr.setMonoChromatic(0.08, \"MeV\", 1000);\n",
    "# The following is equivalent: gvxr.setMonoChromatic(80, \"keV\", 1000);"
   ]
  },
  {
   "cell_type": "code",
   "execution_count": 8,
   "metadata": {
    "colab": {
     "base_uri": "https://localhost:8080/"
    },
    "id": "ntxrdc-4jg-l",
    "outputId": "f3bad6c0-7b8d-4944-c5ca-591bf103bbbe"
   },
   "outputs": [
    {
     "name": "stdout",
     "output_type": "stream",
     "text": [
      "Set up the detector\n"
     ]
    },
    {
     "name": "stderr",
     "output_type": "stream",
     "text": [
      "Mon Jul 21 14:32:21 2025 ---- Initialise the renderer\n"
     ]
    }
   ],
   "source": [
    "# Set up the detector\n",
    "print(\"Set up the detector\");\n",
    "gvxr.setDetectorPosition(10.0, 0.0, 0.0, \"cm\");\n",
    "gvxr.setDetectorUpVector(0, 0, -1);\n",
    "gvxr.setDetectorNumberOfPixels(640, 320);\n",
    "gvxr.setDetectorPixelSize(0.5, 0.5, \"mm\");"
   ]
  },
  {
   "cell_type": "code",
   "execution_count": 9,
   "metadata": {
    "colab": {
     "base_uri": "https://localhost:8080/"
    },
    "id": "XgDX5Vsbjg-n",
    "outputId": "6e744488-bec1-4be2-c285-e3a1891a6366"
   },
   "outputs": [
    {
     "name": "stdout",
     "output_type": "stream",
     "text": [
      "Load the mesh data from /home/fpvidal/miniconda3/envs/DIAD2gVXR/lib/python3.11/site-packages/gvxrPython3/_gvxrPython3/welsh-dragon-small.stl\n",
      "Move  Dragon  to the centre\n"
     ]
    },
    {
     "name": "stderr",
     "output_type": "stream",
     "text": [
      "Mon Jul 21 14:32:22 2025 ---- file_name:\t/home/fpvidal/miniconda3/envs/DIAD2gVXR/lib/python3.11/site-packages/gvxrPython3/_gvxrPython3/welsh-dragon-small.stl\tnb_faces:\t457345\tnb_vertices:\t1372035\tbounding_box (in cm):\t(-4.47065, -74.9368, 23.5909)\t(2.37482, -59.4256, 36.0343)\n"
     ]
    }
   ],
   "source": [
    "# Locate the sample STL file from the package directory\n",
    "path = os.path.dirname(gvxr.__file__);\n",
    "fname = path + \"/welsh-dragon-small.stl\";\n",
    "\n",
    "# Load the sample data\n",
    "if not os.path.exists(fname):\n",
    "    raise IOError(fname);\n",
    "\n",
    "print(\"Load the mesh data from\", fname);\n",
    "gvxr.loadMeshFile(\"Dragon\", fname, \"mm\");\n",
    "\n",
    "print(\"Move \", \"Dragon\", \" to the centre\");\n",
    "gvxr.moveToCentre(\"Dragon\");"
   ]
  },
  {
   "cell_type": "code",
   "execution_count": 10,
   "metadata": {
    "colab": {
     "base_uri": "https://localhost:8080/"
    },
    "id": "eHcPG40ejg-n",
    "outputId": "77ffa855-290a-4c67-e5a1-47d1c6f91267"
   },
   "outputs": [
    {
     "name": "stdout",
     "output_type": "stream",
     "text": [
      "Set  Dragon 's material\n"
     ]
    }
   ],
   "source": [
    "# Material properties\n",
    "print(\"Set \", \"Dragon\", \"'s material\");\n",
    "\n",
    "# Titanium Aluminum Vanadium Alloy\n",
    "gvxr.setMixture(\"Dragon\", [\"Ti\", \"Al\", \"V\"], [0.9, 0.06, 0.04]);\n",
    "gvxr.setDensity(\"Dragon\", 4.43, \"g.cm-3\");"
   ]
  },
  {
   "cell_type": "markdown",
   "metadata": {
    "id": "FWhKJqMBjg-n"
   },
   "source": [
    "## 2. Compute the corresponding X-ray image as a Python array without the Numpy integration\n",
    "\n",
    "We run it 250 times to gather statistically meaningful results."
   ]
  },
  {
   "cell_type": "code",
   "execution_count": 11,
   "metadata": {
    "colab": {
     "base_uri": "https://localhost:8080/"
    },
    "id": "JJzNcr72jg-n",
    "outputId": "f5c3a00b-a490-4cc2-e27f-8bb705fe355b"
   },
   "outputs": [
    {
     "name": "stdout",
     "output_type": "stream",
     "text": [
      "Compute an X-ray image 250 times\n"
     ]
    }
   ],
   "source": [
    "# Compute an X-ray image\n",
    "# We convert the array in a Numpy structure and store the data using single-precision floating-point numbers.\n",
    "\n",
    "number_of_iterations = 250\n",
    "print(\"Compute an X-ray image\", number_of_iterations, \"times\")\n",
    "\n",
    "without_numpy_integration1_start_time = time.monotonic()\n",
    "for i in range(number_of_iterations):\n",
    "    x_ray_image = gvxr.computeXRayImage()\n",
    "without_numpy_integration1_end_time = time.monotonic()"
   ]
  },
  {
   "cell_type": "markdown",
   "metadata": {},
   "source": [
    "## 3. Compute the corresponding X-ray image as a Numpy array without the Numpy integration\n",
    "\n",
    "We run it 250 times to gather statistically meaningful results."
   ]
  },
  {
   "cell_type": "code",
   "execution_count": 12,
   "metadata": {},
   "outputs": [
    {
     "name": "stdout",
     "output_type": "stream",
     "text": [
      "Compute an X-ray image 250 times\n"
     ]
    }
   ],
   "source": [
    "# Compute an X-ray image\n",
    "# We convert the array in a Numpy structure and store the data using single-precision floating-point numbers.\n",
    "\n",
    "print(\"Compute an X-ray image\", number_of_iterations, \"times\")\n",
    "\n",
    "without_numpy_integration2_start_time = time.monotonic()\n",
    "for i in range(number_of_iterations):\n",
    "    x_ray_image = np.array(gvxr.computeXRayImage(), dtype=np.single)\n",
    "without_numpy_integration2_end_time = time.monotonic()"
   ]
  },
  {
   "cell_type": "markdown",
   "metadata": {},
   "source": [
    "## 4. Compute the corresponding X-ray image as a Numpy array with the Numpy integration\n",
    "\n",
    "We run it 250 times to gather statistically meaningful results."
   ]
  },
  {
   "cell_type": "code",
   "execution_count": 13,
   "metadata": {},
   "outputs": [
    {
     "name": "stdout",
     "output_type": "stream",
     "text": [
      "Compute an X-ray image 250 times\n"
     ]
    }
   ],
   "source": [
    "# Compute an X-ray image\n",
    "# We convert the array in a Numpy structure and store the data using single-precision floating-point numbers.\n",
    "\n",
    "print(\"Compute an X-ray image\", number_of_iterations, \"times\")\n",
    "\n",
    "with_numpy_integration_start_time = time.monotonic()\n",
    "x_ray_image = np.zeros((gvxr.getDetectorNumberOfPixels()[1], gvxr.getDetectorNumberOfPixels()[0]), dtype=np.single)\n",
    "for i in range(number_of_iterations):\n",
    "    gvxr.computeXRayImage(x_ray_image)\n",
    "with_numpy_integration_end_time = time.monotonic()"
   ]
  },
  {
   "cell_type": "markdown",
   "metadata": {},
   "source": [
    "## 5. Compare the performances"
   ]
  },
  {
   "cell_type": "code",
   "execution_count": 14,
   "metadata": {},
   "outputs": [
    {
     "name": "stdout",
     "output_type": "stream",
     "text": [
      "Python array without Numpy integration: 331 images per second\n",
      "Numpy array without Numpy integration: 125 images per second\n",
      "Numpy array with Numpy integration: 1120 images per second\n"
     ]
    }
   ],
   "source": [
    "print(\"Python array without Numpy integration:\", round(number_of_iterations / timedelta(seconds=without_numpy_integration1_end_time - without_numpy_integration1_start_time).total_seconds()), \"images per second\")\n",
    "print(\"Numpy array without Numpy integration:\", round(number_of_iterations / timedelta(seconds=without_numpy_integration2_end_time - without_numpy_integration2_start_time).total_seconds()), \"images per second\")\n",
    "print(\"Numpy array with Numpy integration:\", round(number_of_iterations / timedelta(seconds=with_numpy_integration_end_time - with_numpy_integration_start_time).total_seconds()), \"images per second\")"
   ]
  },
  {
   "cell_type": "markdown",
   "metadata": {
    "id": "1vrbJFWzjg-p"
   },
   "source": [
    "# Cleaning up\n",
    "\n",
    "Once we have finished, it is good practice to clean up the OpenGL contexts and windows with the following command. Note that due to the object-oriented programming nature of the core API of gVXR, this step is automatic anyway."
   ]
  },
  {
   "cell_type": "code",
   "execution_count": 15,
   "metadata": {
    "id": "2ldO2muTjg-p"
   },
   "outputs": [
    {
     "name": "stderr",
     "output_type": "stream",
     "text": [
      "Mon Jul 21 14:32:25 2025 ---- Destroy all the windows\n",
      "Mon Jul 21 14:32:25 2025 ---- Destroy window 0(0x563919e8a510)\n",
      "Mon Jul 21 14:32:25 2025 ---- Release all the memory\n"
     ]
    }
   ],
   "source": [
    "gvxr.destroy();"
   ]
  }
 ],
 "metadata": {
  "colab": {
   "provenance": []
  },
  "kernelspec": {
   "display_name": "Python 3 (ipykernel)",
   "language": "python",
   "name": "python3"
  },
  "language_info": {
   "codemirror_mode": {
    "name": "ipython",
    "version": 3
   },
   "file_extension": ".py",
   "mimetype": "text/x-python",
   "name": "python",
   "nbconvert_exporter": "python",
   "pygments_lexer": "ipython3",
   "version": "3.11.11"
  },
  "vscode": {
   "interpreter": {
    "hash": "585e9fc9b818a92a95ff682530f87f6de2c4282b8239c594bde282f49476a8c7"
   }
  }
 },
 "nbformat": 4,
 "nbformat_minor": 4
}
